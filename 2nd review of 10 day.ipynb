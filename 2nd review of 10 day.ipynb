{
 "cells": [
  {
   "cell_type": "code",
   "execution_count": 7,
   "id": "f0d12ae4",
   "metadata": {},
   "outputs": [
    {
     "name": "stdout",
     "output_type": "stream",
     "text": [
      "Welcome to rollercaoster ticket service!\n",
      "Enter your height in centimeter\n",
      "200\n",
      "You are especial we have no service for you\n"
     ]
    }
   ],
   "source": [
    "print(\"Welcome to rollercaoster ticket service!\")\n",
    "h = int(input(\"Enter your height in centimeter\\n\"))\n",
    "if 200>h > 120 :\n",
    "    print(\"you can ride the rollercaoster\")\n",
    "elif h >= 200:\n",
    "          print(\"You are especial we have no service for you\")\n",
    "else:\n",
    "    print(\"You need to grow more\")"
   ]
  },
  {
   "cell_type": "code",
   "execution_count": 9,
   "id": "2adb9627",
   "metadata": {},
   "outputs": [
    {
     "name": "stdout",
     "output_type": "stream",
     "text": [
      "Welcome to the odd or even checker number\n",
      "Enter any number562333323\n",
      "Your number is odd\n"
     ]
    }
   ],
   "source": [
    "print(\"Welcome to the odd or even checker number\")\n",
    "n = int(input(\"Enter any number\"))\n",
    "if n % 2==0:\n",
    "    print(\"Your number is even\")\n",
    "else:\n",
    "    print(\"Your number is odd\")"
   ]
  },
  {
   "cell_type": "code",
   "execution_count": 10,
   "id": "72c58de6",
   "metadata": {},
   "outputs": [
    {
     "name": "stdout",
     "output_type": "stream",
     "text": [
      "Welcome to rollercaoster ticket service!\n",
      "Enter your height in centimeter\n",
      "123\n",
      "Enter your age\n",
      "12\n",
      "you can ride the rollercaoster\n",
      "You are our especial gust and we have several services for you\n"
     ]
    }
   ],
   "source": [
    "print(\"Welcome to rollercaoster ticket service!\")\n",
    "h = int(input(\"Enter your height in centimeter\\n\"))\n",
    "age = int(input(\"Enter your age\\n\"))\n",
    "if 200>h > 120 :\n",
    "    print(\"you can ride the rollercaoster\")\n",
    "elif h >= 200:\n",
    "    print(\"You are especial we have no service for you\")\n",
    "if age > 18:\n",
    "    print(\"You have to pay 12 Euro\\n\")\n",
    "elif age< 18:\n",
    "    print(\"You are our especial gust and we have several services for you\")\n",
    "elif age<4:\n",
    "    print(\"You have to stay with your older siblings\")\n",
    "        \n",
    "else:\n",
    "    print(\"You need to grow more\")"
   ]
  },
  {
   "cell_type": "code",
   "execution_count": 11,
   "id": "614a7083",
   "metadata": {},
   "outputs": [
    {
     "name": "stdout",
     "output_type": "stream",
     "text": [
      "Welcome to rollercaoster ticket service!\n",
      "Enter your height in centimeter\n",
      "111\n",
      "Enter your age\n",
      "55\n",
      "You have to pay 12 Euro\n",
      "\n"
     ]
    }
   ],
   "source": [
    "print(\"Welcome to rollercaoster ticket service!\")\n",
    "h = int(input(\"Enter your height in centimeter\\n\"))\n",
    "age = int(input(\"Enter your age\\n\"))\n",
    "if 200>h > 120 :\n",
    "    print(\"you can ride the rollercaoster\")\n",
    "elif h >= 200:\n",
    "    print(\"You are especial we have no service for you\")\n",
    "if age > 18:\n",
    "    print(\"You have to pay 12 Euro\\n\")\n",
    "elif age< 18:\n",
    "    print(\"You are our especial gust and we have several services for you\")\n",
    "elif age<4:\n",
    "    print(\"You have to stay with your older siblings\")\n",
    "        \n",
    "else:\n",
    "    print(\"You need to grow more\")"
   ]
  },
  {
   "cell_type": "code",
   "execution_count": 15,
   "id": "313ea87e",
   "metadata": {},
   "outputs": [
    {
     "name": "stdout",
     "output_type": "stream",
     "text": [
      "Welcome to rollercaoster ticket service!\n",
      "Enter your height in centimeter\n",
      "122\n",
      "you can ride the rollercaoster\n",
      "Enter your age\n",
      "13\n",
      "You have to pay 7 Euro\n"
     ]
    }
   ],
   "source": [
    "print(\"Welcome to rollercaoster ticket service!\")\n",
    "h = int(input(\"Enter your height in centimeter\\n\"))\n",
    "\n",
    "if 200>h > 120 :\n",
    "    print(\"you can ride the rollercaoster\")\n",
    "    age = int(input(\"Enter your age\\n\"))\n",
    "    if age >= 18:\n",
    "        print(\"You have to pay 12 Euro\\n\")\n",
    "    elif 12<age< 18:\n",
    "        print(\"You have to pay 7 Euro\")\n",
    "    elif age<=4:\n",
    "        print(\"You have to stay with your older siblings\")\n",
    "        \n",
    "else:\n",
    "    print(\"You need to grow more\")"
   ]
  },
  {
   "cell_type": "code",
   "execution_count": 23,
   "id": "85e2f978",
   "metadata": {},
   "outputs": [
    {
     "name": "stdout",
     "output_type": "stream",
     "text": [
      "Welcome to rollercaoster ticket service!\n",
      "Enter your height in centimeter\n",
      "145\n",
      "you can ride the rollercaoster\n",
      "Enter your age\n",
      "98\n",
      "You are free of any charge just enjoy from your time\n"
     ]
    }
   ],
   "source": [
    "print(\"Welcome to rollercaoster ticket service!\")\n",
    "h = int(input(\"Enter your height in centimeter\\n\"))\n",
    "\n",
    "if 200>h > 120 :\n",
    "    print(\"you can ride the rollercaoster\")\n",
    "    age = int(input(\"Enter your age\\n\"))\n",
    "    if 18<=age<=40 :\n",
    "        print(\"You have to pay 12 Euro\\n\")\n",
    "    elif 12<age< 18:\n",
    "        print(\"You have to pay 7 Euro\")\n",
    "    elif 40<age<50:\n",
    "        print(\"You are our especial gust\")\n",
    "    elif age>90:\n",
    "        print(\"You are free of any charge just enjoy from your time\")\n",
    "else:\n",
    "    print(\"You need to grow more\")"
   ]
  },
  {
   "cell_type": "code",
   "execution_count": 25,
   "id": "c7f8840d",
   "metadata": {},
   "outputs": [
    {
     "name": "stdout",
     "output_type": "stream",
     "text": [
      "Welcome to BMI calculator !\n",
      "Enter your height in meter:\n",
      "1.77\n",
      "Enter your weight in Kg:\n",
      "77\n",
      "Your BMI is {BMI}, and you are normal weight\n",
      "24.577867151840145\n"
     ]
    }
   ],
   "source": [
    "print(\"Welcome to BMI calculator !\")\n",
    "h = float(input(\"Enter your height in meter:\\n\"))\n",
    "w = float(input(\"Enter your weight in Kg:\\n\"))\n",
    "BMI =float(w/h**2)\n",
    "if BMI< 18.5:\n",
    "    print(\"Your BMI is {BMI}, and you are underweight\")\n",
    "elif 18.5<BMI<25:\n",
    "    print(\"Your BMI is {BMI}, and you are normal weight\")\n",
    "elif 25<BMI<30:\n",
    "    print(\"Your BMI is {BMI}, and your are overweight\")\n",
    "elif 30<BMI<35:\n",
    "    print(\"Your BMI is{BMI}, and you are obes\")\n",
    "else:\n",
    "    print(\"Your BMI is {BMI}, and you are clinically obes\")\n",
    "print(BMI)"
   ]
  },
  {
   "cell_type": "code",
   "execution_count": 33,
   "id": "7a04f258",
   "metadata": {},
   "outputs": [
    {
     "name": "stdout",
     "output_type": "stream",
     "text": [
      "Welcome to BMI calculator !\n",
      "Enter your height in meter:\n",
      "1.77\n",
      "Enter your weight in Kg:\n",
      "77\n",
      "Your BMI is 24.58, and you are normal weight\n"
     ]
    }
   ],
   "source": [
    "print(\"Welcome to BMI calculator !\")\n",
    "h = float(input(\"Enter your height in meter:\\n\"))\n",
    "w = float(input(\"Enter your weight in Kg:\\n\"))\n",
    "BMI =round(float(w/h**2),2)\n",
    "if BMI< 18.5:\n",
    "    print(f\"Your BMI is {BMI}, and you are underweight\")\n",
    "elif 18.5<BMI<25:\n",
    "    print(f\"Your BMI is {BMI}, and you are normal weight\")\n",
    "elif 25<BMI<30:\n",
    "    print(f\"Your BMI is {BMI}, and your are overweight\")\n",
    "elif 30<BMI<35:\n",
    "    print(f\"Your BMI is{BMI}, and you are obes\")\n",
    "else:\n",
    "    print(f\"Your BMI is {BMI}, and you are clinically obes\")\n"
   ]
  },
  {
   "cell_type": "code",
   "execution_count": 45,
   "id": "29d4a4dd",
   "metadata": {},
   "outputs": [
    {
     "name": "stdout",
     "output_type": "stream",
     "text": [
      "Enter the desired year:\n",
      "2000\n",
      "Leap year\n"
     ]
    }
   ],
   "source": [
    "y = int(input(\"Enter the desired year:\\n\"))\n",
    "if y%4==0:\n",
    "    if y %100==0:\n",
    "        if y%400==0:\n",
    "            print(\"Leap year\")\n",
    "        else:\n",
    "            print(\"Not leap year\")\n",
    "    else:\n",
    "        print(\"Leap year\")\n",
    "else:\n",
    "    print(\"Not leap year\")"
   ]
  },
  {
   "cell_type": "code",
   "execution_count": 47,
   "id": "b5e0c17e",
   "metadata": {},
   "outputs": [
    {
     "name": "stdout",
     "output_type": "stream",
     "text": [
      "Welcome to rollercaoster ticket service!\n",
      "Enter your height in centimeter\n",
      "123\n",
      "you can ride the rollercaoster\n",
      "Enter your age\n",
      "98\n",
      "You are free of any charge just enjoy from your time\n",
      "Do you want to have a photo? if yes type 'y' if not type 'N'Y\n",
      "Your final bill is 3\n"
     ]
    }
   ],
   "source": [
    "print(\"Welcome to rollercaoster ticket service!\")\n",
    "h = int(input(\"Enter your height in centimeter\\n\"))\n",
    "bill = 0\n",
    "if 200>h > 120 :\n",
    "    print(\"you can ride the rollercaoster\")\n",
    "    age = int(input(\"Enter your age\\n\"))\n",
    "    if 18<=age<=40 :\n",
    "        bill = 12\n",
    "        print(\"You have to buy adult ticket\\n\")\n",
    "    elif 12<age< 18:\n",
    "        bill = 10\n",
    "        print(\"You have to buy taneger ticket\")\n",
    "    elif 40<age<50:\n",
    "        bill=0\n",
    "        print(\"You are our especial gust\")\n",
    "    elif age>90:\n",
    "        bill=0 \n",
    "        print(\"You are free of any charge just enjoy from your time\")\n",
    "    photo = input(\"Do you want to have a photo? if yes type 'y' if not type 'N'\").lower()\n",
    "    if photo == 'y':\n",
    "        bill +=3\n",
    "    print(f\"Your final bill is {bill}\")\n",
    "    \n",
    "else:\n",
    "    print(\"You need to grow more\") "
   ]
  },
  {
   "cell_type": "code",
   "execution_count": 50,
   "id": "7b031896",
   "metadata": {},
   "outputs": [
    {
     "name": "stdout",
     "output_type": "stream",
     "text": [
      "Welcome to rollercaoster ticket service!\n",
      "Enter your height in centimeter\n",
      "145\n",
      "you can ride the rollercaoster\n",
      "Enter your age\n",
      "14\n",
      "You have to buy taneger ticket price is 10\n",
      "Do you want to have a photo? if yes type 'y' if not type 'N'\n",
      "y\n",
      "Your final bill is Euro 13\n"
     ]
    }
   ],
   "source": [
    "print(\"Welcome to rollercaoster ticket service!\")\n",
    "h = int(input(\"Enter your height in centimeter\\n\"))\n",
    "bill = 0\n",
    "if 200>h > 120 :\n",
    "    print(\"you can ride the rollercaoster\")\n",
    "    age = int(input(\"Enter your age\\n\"))\n",
    "    if 18<=age<=40 :\n",
    "        bill = 12\n",
    "        print(\"You have to buy adult ticket price is 12\\n\")\n",
    "    elif 12<age< 18:\n",
    "        bill = 10\n",
    "        print(\"You have to buy taneger ticket price is 10\")\n",
    "    elif 40<age<50:\n",
    "        bill=0\n",
    "        print(\"You are our especial gust free of charge\")\n",
    "    elif age>90:\n",
    "        bill=0 \n",
    "        print(\"You are free of any charge just enjoy from your time\")\n",
    "    photo = input(\"Do you want to have a photo? if yes type 'y' if not type 'N'\\n\").lower()\n",
    "    if photo == 'y':\n",
    "        bill +=3\n",
    "    print(f\"Your final bill is Euro {bill}\")\n",
    "    \n",
    "else:\n",
    "    print(\"You need to grow more\")"
   ]
  },
  {
   "cell_type": "code",
   "execution_count": 54,
   "id": "5e2f0604",
   "metadata": {},
   "outputs": [
    {
     "name": "stdout",
     "output_type": "stream",
     "text": [
      "Welcome to Python Pizza Deliveries!\n",
      "Which size Pizza do you want? S, M, OR LL\n",
      "Do you want pepperoni? Y or NY\n",
      "Do you want extra chess? Y or NY\n",
      "Your final bill is 29\n"
     ]
    }
   ],
   "source": [
    "print(\"Welcome to Python Pizza Deliveries!\")\n",
    "size = input(\"Which size Pizza do you want? S, M, OR L\\n\")\n",
    "add_pepperoni = input(\"Do you want pepperoni? Y or N\\n\")\n",
    "extra_cheese = input(\"Do you want extra chess? Y or N\\n\")\n",
    "price =0\n",
    "if size == 'S':\n",
    "    price =15\n",
    "    add_pepperoni =='Y'\n",
    "    price +=2\n",
    "    extra_cheese == 'Y'\n",
    "    price +=1\n",
    "        \n",
    "        \n",
    "if size == 'M':\n",
    "    price = 20\n",
    "    add_pepperoni == 'Y'\n",
    "    price +=3\n",
    "    extra_cheese=='Y'\n",
    "    price+=1\n",
    "        \n",
    "        \n",
    "if size == 'L':\n",
    "    price = 25\n",
    "    add_pepperoni == 'Y'\n",
    "    price +=3\n",
    "    extra_cheese =='Y'\n",
    "    price +=1\n",
    "        \n",
    "print(f\"Your final bill is {price}\")\n",
    "\n",
    "    "
   ]
  },
  {
   "cell_type": "code",
   "execution_count": 66,
   "id": "d73224fd",
   "metadata": {},
   "outputs": [
    {
     "name": "stdout",
     "output_type": "stream",
     "text": [
      "Welcome to Python Pizza Deliveries!\n",
      "Which size Pizza do you want? S, M, OR L\n",
      "L\n",
      "Do you want pepperoni? Y or N\n",
      "Y\n",
      "Do you want extra chess? Y or N\n",
      "Y\n",
      "Your final bill is 29 Euro\n"
     ]
    }
   ],
   "source": [
    "print(\"Welcome to Python Pizza Deliveries!\")\n",
    "size = input(\"Which size Pizza do you want? S, M, OR L\\n\")\n",
    "add_pepperoni = input(\"Do you want pepperoni? Y or N\\n\")\n",
    "extra_cheese = input(\"Do you want extra chess? Y or N\\n\")\n",
    "price =0\n",
    "\n",
    "if size == 'S':\n",
    "    price +=15\n",
    "elif size =='M':\n",
    "    price +=20\n",
    "else:\n",
    "    price +=25\n",
    "    \n",
    "    \n",
    "    \n",
    "    \n",
    "if add_pepperoni =='Y':\n",
    "    if size =='S':\n",
    "        price +=2\n",
    "    else:\n",
    "        price +=3\n",
    "        \n",
    "        \n",
    "        \n",
    "        \n",
    "if extra_cheese == 'Y':\n",
    "    price+=1\n",
    "        \n",
    "print(f\"Your final bill is {price } Euro\")\n",
    "\n",
    "#     The most simplest one!!!!!!!!!!!!!!!!!!!!!!!!!!!!!!!!!!!!"
   ]
  },
  {
   "cell_type": "code",
   "execution_count": 70,
   "id": "a565188e",
   "metadata": {},
   "outputs": [
    {
     "name": "stdout",
     "output_type": "stream",
     "text": [
      "Welcome to Python Pizza Deliveries!\n",
      "Which size Pizza do you want? S, M, OR L\n",
      "S\n",
      "Do you want pepperoni? Y or N\n",
      "N\n",
      "Do you want extra chess? Y or N\n",
      "N\n",
      "Your final bill is 15\n"
     ]
    }
   ],
   "source": [
    "print(\"Welcome to Python Pizza Deliveries!\")\n",
    "size = input(\"Which size Pizza do you want? S, M, OR L\\n\")\n",
    "add_pepperoni = input(\"Do you want pepperoni? Y or N\\n\")\n",
    "extra_cheese = input(\"Do you want extra chess? Y or N\\n\")\n",
    "price =0\n",
    "if size == 'S':\n",
    "    price =15\n",
    "    if add_pepperoni =='Y':\n",
    "        price +=2\n",
    "    if extra_cheese == 'Y':\n",
    "        price +=1\n",
    "        \n",
    "        \n",
    "if size == 'M':\n",
    "    price = 20\n",
    "    if add_pepperoni == 'Y':\n",
    "        price +=3\n",
    "    if extra_cheese=='Y': \n",
    "        price+=1\n",
    "        \n",
    "        \n",
    "if size == 'L':\n",
    "    price = 25\n",
    "    if add_pepperoni == 'Y':  \n",
    "        price +=3\n",
    "    if extra_cheese =='Y':\n",
    "        price +=1\n",
    "        \n",
    "print(f\"Your final bill is {price}\")\n",
    "\n",
    "    "
   ]
  },
  {
   "cell_type": "code",
   "execution_count": 71,
   "id": "33159351",
   "metadata": {},
   "outputs": [
    {
     "name": "stdout",
     "output_type": "stream",
     "text": [
      "Welcome to Python Pizza Deliveries!\n",
      "Which size Pizza do you want? S, M, OR L\n",
      "M\n",
      "Do you want pepperoni? Y or N\n",
      "N\n",
      "Do you want extra chess? Y or N\n",
      "Y\n",
      "Your final bill is 21\n"
     ]
    }
   ],
   "source": [
    "print(\"Welcome to Python Pizza Deliveries!\")\n",
    "size = input(\"Which size Pizza do you want? S, M, OR L\\n\")\n",
    "add_pepperoni = input(\"Do you want pepperoni? Y or N\\n\")\n",
    "extra_cheese = input(\"Do you want extra chess? Y or N\\n\")\n",
    "price =0\n",
    "if size == 'S':\n",
    "    price =15\n",
    "    if add_pepperoni =='Y':\n",
    "        price +=2\n",
    "    if extra_cheese == 'Y':\n",
    "        price +=1\n",
    "        \n",
    "        \n",
    "if size == 'M':\n",
    "    price = 20\n",
    "    if add_pepperoni == 'Y':\n",
    "        price +=3\n",
    "    if extra_cheese=='Y': \n",
    "        price+=1\n",
    "        \n",
    "        \n",
    "if size == 'L':\n",
    "    price = 25\n",
    "    if add_pepperoni == 'Y':  \n",
    "        price +=3\n",
    "    if extra_cheese =='Y':\n",
    "        price +=1\n",
    "        \n",
    "print(f\"Your final bill is {price}\")\n",
    "\n",
    "    "
   ]
  },
  {
   "cell_type": "code",
   "execution_count": 72,
   "id": "20f02a47",
   "metadata": {},
   "outputs": [
    {
     "name": "stdout",
     "output_type": "stream",
     "text": [
      "Welcome to rollercaoster ticket service!\n",
      "Enter your height in centimeter\n",
      "176\n",
      "you can ride the rollercaoster\n",
      "Enter your age\n",
      "48\n",
      "You are our especial gust\n",
      "Do you want to have a photo? if yes type 'y' if not type 'N'y\n",
      "Your final bill is 3\n"
     ]
    }
   ],
   "source": [
    "print(\"Welcome to rollercaoster ticket service!\")\n",
    "h = int(input(\"Enter your height in centimeter\\n\"))\n",
    "bill = 0\n",
    "if h > 120 :\n",
    "    print(\"you can ride the rollercaoster\")\n",
    "    age = int(input(\"Enter your age\\n\"))\n",
    "    if 18<=age<=45 :\n",
    "        bill = 12\n",
    "        print(\"You have to buy adult ticket\\n\")\n",
    "    elif 12<age< 18:\n",
    "        bill = 10\n",
    "        print(\"You have to buy taneger ticket\")\n",
    "    elif 45<age<55:\n",
    "        bill=0\n",
    "        print(\"You are our especial gust\")\n",
    "    elif age>90:\n",
    "        bill=0 \n",
    "        print(\"You are free of any charge just enjoy from your time\")\n",
    "    photo = input(\"Do you want to have a photo? if yes type 'y' if not type 'N'\").lower()\n",
    "    if photo == 'y':\n",
    "        bill +=3\n",
    "    print(f\"Your final bill is {bill}\")\n",
    "    \n",
    "else:\n",
    "    print(\"You need to grow more\") "
   ]
  },
  {
   "cell_type": "code",
   "execution_count": 76,
   "id": "2f4f7280",
   "metadata": {},
   "outputs": [
    {
     "name": "stdout",
     "output_type": "stream",
     "text": [
      "Welcom to the Love Calculator!\n",
      "What is your name?\n",
      "Aref Tawana\n",
      "What is their name?\n",
      "Fahima Mosawi\n",
      "Your love score is 32, you are alright together\n"
     ]
    }
   ],
   "source": [
    "print(\"Welcom to the Love Calculator!\")\n",
    "name1 = input(\"What is your name?\\n\")\n",
    "name2 = input(\"What is their name?\\n\")\n",
    "combined_string = name1+ name2\n",
    "lower_case_string = combined_string.lower()\n",
    "t = lower_case_string.count(\"t\")\n",
    "r = lower_case_string.count(\"r\")\n",
    "u = lower_case_string.count(\"u\")\n",
    "e = lower_case_string.count(\"e\")\n",
    "true = t+r+u+e\n",
    "l = lower_case_string.count(\"l\")\n",
    "o = lower_case_string.count(\"o\")\n",
    "v = lower_case_string.count(\"v\")\n",
    "e = lower_case_string.count(\"e\")\n",
    "love = l + o + v + e \n",
    "\n",
    "love_score = int(str(true) + str(love))\n",
    "\n",
    "if((love_score<10)  or (love_score>90)):\n",
    "    print(f\"Your love score is {love_score}, you go together like cock and mntos\")\n",
    "elif ((love_score>=40) or (love_score<=50)):\n",
    "    print(f\"Your love score is {love_score}, you are alright together\")\n",
    "else:\n",
    "    print(\"Your score is {love_score}, \")"
   ]
  },
  {
   "cell_type": "code",
   "execution_count": 78,
   "id": "9e249951",
   "metadata": {},
   "outputs": [
    {
     "name": "stdout",
     "output_type": "stream",
     "text": [
      "Welcome to Treasure Island.\n",
      " Your mission is to find the treasures.\n",
      "For choseing right type 'R' for choseing left type 'L'L\n",
      "You passed the first stage successfuly\n",
      "For waiting type 'W' for swimming type'S'W\n",
      "You passed the second stage successfuly\n",
      "Wich door? 'B' for Blue, 'R' for Read, 'Y' for yellowY\n",
      "You win the game\n"
     ]
    }
   ],
   "source": [
    "print(\"Welcome to Treasure Island.\\n Your mission is to find the treasures.\")\n",
    "direction = input(\"For choseing right type 'R' for choseing left type 'L'\")\n",
    "if direction =='R':\n",
    "    print(\"Game is over\")\n",
    "else:\n",
    "    print(\"You passed the first stage successfuly\")\n",
    "    second_stage = input(\"For waiting type 'W' for swimming type'S'\")\n",
    "    if second_stage == 'S':\n",
    "        print(\"Game is over\")\n",
    "    else:\n",
    "        print(\"You passed the second stage successfuly\")\n",
    "    third_stage = input(\"Wich door? 'B' for Blue, 'R' for Read, 'Y' for yellow\")\n",
    "    if third_stage== 'Y':\n",
    "        print(\"You win the game\")\n",
    "    else:\n",
    "        print(\"Game is over\")"
   ]
  },
  {
   "cell_type": "code",
   "execution_count": 79,
   "id": "9391beb7",
   "metadata": {},
   "outputs": [
    {
     "name": "stdout",
     "output_type": "stream",
     "text": [
      "Welcome to Treasure Island.\n",
      " Your mission is to find the treasures.\n",
      "For choseing right type 'R' for choseing left type 'L'L\n",
      "You passed the first stage successfuly\n",
      "For waiting type 'W' for swimming type'S'W\n",
      "You passed the second stage successfuly\n",
      "Wich door? 'B' for Blue, 'R' for Read, 'Y' for yellowB\n",
      "Game is over\n"
     ]
    }
   ],
   "source": [
    "print(\"Welcome to Treasure Island.\\n Your mission is to find the treasures.\")\n",
    "direction = input(\"For choseing right type 'R' for choseing left type 'L'\")\n",
    "if direction =='R':\n",
    "    print(\"Game is over\")\n",
    "else:\n",
    "    print(\"You passed the first stage successfuly\")\n",
    "    second_stage = input(\"For waiting type 'W' for swimming type'S'\")\n",
    "    if second_stage == 'S':\n",
    "        print(\"Game is over\")\n",
    "    else:\n",
    "        print(\"You passed the second stage successfuly\")\n",
    "    third_stage = input(\"Wich door? 'B' for Blue, 'R' for Read, 'Y' for yellow\")\n",
    "    if third_stage== 'Y':\n",
    "        print(\"You win the game\")\n",
    "    else:\n",
    "        print(\"Game is over\")"
   ]
  },
  {
   "cell_type": "code",
   "execution_count": 117,
   "id": "30af0079",
   "metadata": {},
   "outputs": [
    {
     "name": "stdout",
     "output_type": "stream",
     "text": [
      "Welcome to Treasure Island.\n",
      " Your mission is to find the treasure\n",
      "\"You're at a crossroad, where do you want to go? Type \"letf\"or\"right\"\"left\n",
      "You\u000b",
      "e come to a lake. There is an Island in the middle of the lake. Type \"wait\" to wait for a boat. Type\"swim\" to swim a cross.wait\n",
      "You arrived at the island unharmed. There is a house with 3 doors. for reed type'R' for Blue type 'B' for Yellow type 'Y'y\n",
      "You win the game\n"
     ]
    }
   ],
   "source": [
    "print(\"Welcome to Treasure Island.\\n Your mission is to find the treasure\")\n",
    "choice1 = input('\"You\\'re at a crossroad, where do you want to go? Type \"letf\"or\"right\"\"').lower()\n",
    "if choice1==\"left\":\n",
    "    choice2 = input('You\\ve come to a lake. There is an Island in the middle of the lake. Type \"wait\" to wait for a boat. Type\"swim\" to swim a cross.').lower()\n",
    "    if choice2 == \"wait\":\n",
    "        choice3 = input(\"You arrived at the island unharmed. There is a house with 3 doors. for reed type'R' for Blue type 'B' for Yellow type 'Y'\").lower()\n",
    "        if choice3 == \"y\":\n",
    "            print(\"You win the game\")\n",
    "        else:\n",
    "            print(\"Game is over\")\n",
    "    else:\n",
    "        print(\"Game is over\")\n",
    "else:\n",
    "    print(\"Game is over\")\n",
    "        \n"
   ]
  },
  {
   "cell_type": "code",
   "execution_count": 118,
   "id": "8a1f5e9c",
   "metadata": {},
   "outputs": [
    {
     "name": "stdout",
     "output_type": "stream",
     "text": [
      "Welcome to Treasure Island.\n",
      " Your mission is to find the treasure\n",
      "You're at a crossroad, where do you want to go? Type \"left\"or\"right\"left\n",
      "You\u000b",
      "e come to a lake. There is an Island in the middle of the lake.Type \"wait\" to wait for a boat. Type\"swim\" to swim a cross.wait\n",
      "You arrived at the island unharmed. There is a house with 3 doors. for reed type R for Blue type 'B for Yellow type Yy\n",
      "You found the treasure! You wine\n"
     ]
    }
   ],
   "source": [
    "print(\"Welcome to Treasure Island.\\n Your mission is to find the treasure\")\n",
    "choice1 = input('You\\'re at a crossroad, where do you want to go? Type \"left\"or\"right\"').lower()\n",
    "if choice1==\"left\":\n",
    "    choice2 = input('You\\ve come to a lake. There is an Island in the middle of the lake.Type \"wait\" to wait for a boat. Type\"swim\" to swim a cross.').lower()\n",
    "    if choice2 == \"wait\":\n",
    "        choice3 = input(\"You arrived at the island unharmed. There is a house with 3 doors. for reed type R for Blue type 'B for Yellow type Y\").lower()\n",
    "        if choice3 == \"r\":\n",
    "            print(\"It's romm full of fire. Game over!\")\n",
    "        elif choice3 == 'y':\n",
    "            print(\"You found the treasure! You wine\")\n",
    "        elif choice3 == 'b':\n",
    "            print(\"You enterd a room of beasts. Game over\")\n",
    "        else:\n",
    "            print(\"You chose a room that does not exist. Game over\")\n",
    "    else:\n",
    "        print(\"You got attacked by angry trout. Game over\")\n",
    "else:\n",
    "    print(\"Game is over\")\n",
    "    "
   ]
  },
  {
   "cell_type": "code",
   "execution_count": 123,
   "id": "282cbcf8",
   "metadata": {},
   "outputs": [
    {
     "name": "stdout",
     "output_type": "stream",
     "text": [
      "4\n"
     ]
    }
   ],
   "source": [
    "import random\n",
    "random_integer = random.randint(1,10)\n",
    "print(random_integer)"
   ]
  },
  {
   "cell_type": "code",
   "execution_count": 129,
   "id": "3ff4484b",
   "metadata": {},
   "outputs": [
    {
     "name": "stdout",
     "output_type": "stream",
     "text": [
      "4\n",
      "0.9583167968756077\n"
     ]
    },
    {
     "data": {
      "text/plain": [
       "4.791583984378038"
      ]
     },
     "execution_count": 129,
     "metadata": {},
     "output_type": "execute_result"
    }
   ],
   "source": [
    "import random\n",
    "random_integer = random.randint(1,10)\n",
    "print(random_integer)\n",
    "random_float = random.random()\n",
    "print(random_float)\n",
    "random_float * 5"
   ]
  },
  {
   "cell_type": "code",
   "execution_count": 130,
   "id": "3ea82a7f",
   "metadata": {},
   "outputs": [
    {
     "name": "stdout",
     "output_type": "stream",
     "text": [
      "Your love score is 85\n"
     ]
    }
   ],
   "source": [
    "love_score = random.randint(1,100)\n",
    "print(f\"Your love score is {love_score}\")"
   ]
  },
  {
   "cell_type": "code",
   "execution_count": 131,
   "id": "dda218f7",
   "metadata": {},
   "outputs": [
    {
     "name": "stdout",
     "output_type": "stream",
     "text": [
      "Tails\n"
     ]
    }
   ],
   "source": [
    "import random\n",
    "random_side=random.randint(0,1)\n",
    "if random_side ==1:\n",
    "    print(\"Heads\")\n",
    "else:\n",
    "    print(\"Tails\")\n"
   ]
  },
  {
   "cell_type": "code",
   "execution_count": 132,
   "id": "974ba0b5",
   "metadata": {},
   "outputs": [
    {
     "name": "stdout",
     "output_type": "stream",
     "text": [
      "Heads\n"
     ]
    }
   ],
   "source": [
    "import random\n",
    "random_side=random.randint(0,1)\n",
    "if random_side ==1:\n",
    "    print(\"Heads\")\n",
    "else:\n",
    "    print(\"Tails\")\n"
   ]
  },
  {
   "cell_type": "code",
   "execution_count": 134,
   "id": "6948fbb1",
   "metadata": {},
   "outputs": [
    {
     "name": "stdout",
     "output_type": "stream",
     "text": [
      "Deleware\n"
     ]
    }
   ],
   "source": [
    "states_of_america = [\"Deleware\", \"Pensylvania\", \"Maryland\",\"New Jersey\"]\n",
    "print(states_of_america[0])"
   ]
  },
  {
   "cell_type": "code",
   "execution_count": 137,
   "id": "610c2f1b",
   "metadata": {},
   "outputs": [
    {
     "name": "stdout",
     "output_type": "stream",
     "text": [
      "['Deleware', 'Pencilvania', 'Maryland', 'New Jersey', 'Tawanaland']\n"
     ]
    }
   ],
   "source": [
    "states_of_america = [\"Deleware\", \"Pensylvania\", \"Maryland\",\"New Jersey\"]\n",
    "states_of_america[1]= \"Pencilvania\"\n",
    "states_of_america.append(\"Tawanaland\")\n",
    "print(states_of_america)"
   ]
  },
  {
   "cell_type": "code",
   "execution_count": 138,
   "id": "20fa5170",
   "metadata": {},
   "outputs": [
    {
     "name": "stdout",
     "output_type": "stream",
     "text": [
      "['Deleware', 'Pencilvania', 'Maryland', 'New Jersey', 'Tawanaland', 'Mosawiland']\n"
     ]
    }
   ],
   "source": [
    "states_of_america = [\"Deleware\", \"Pensylvania\", \"Maryland\",\"New Jersey\"]\n",
    "states_of_america[1]= \"Pencilvania\"\n",
    "states_of_america.extend([\"Tawanaland\",\"Mosawiland\"])\n",
    "print(states_of_america)"
   ]
  },
  {
   "cell_type": "code",
   "execution_count": 139,
   "id": "d43a3f37",
   "metadata": {},
   "outputs": [
    {
     "name": "stdout",
     "output_type": "stream",
     "text": [
      "['Hello', 'From', ' Kabul']\n"
     ]
    }
   ],
   "source": [
    "str_inp = \"Hello,From, Kabul\"\n",
    "op = str_inp.split(\",\")\n",
    "print(op)\n",
    "# split function works very well. "
   ]
  },
  {
   "cell_type": "code",
   "execution_count": 143,
   "id": "59dd5cbc",
   "metadata": {},
   "outputs": [
    {
     "name": "stdout",
     "output_type": "stream",
     "text": [
      "Giveme everybody's names, seprated by a comma.Ali, Mohammad, Zarif, Nazif, fahim, Fahim\n",
      " Zarifis going to buy the meal today.\n"
     ]
    }
   ],
   "source": [
    "names_string = input(\"Giveme everybody's names, seprated by a comma.\")\n",
    "names = names_string.split(\",\")\n",
    "num_items = len(names)\n",
    "random_choice=random.randint(0, num_items-1)\n",
    "person_who_will_pay = names[random_choice ]\n",
    "print(person_who_will_pay + \"is going to buy the meal today.\" )"
   ]
  },
  {
   "cell_type": "code",
   "execution_count": 144,
   "id": "ed0c0a32",
   "metadata": {},
   "outputs": [
    {
     "name": "stdout",
     "output_type": "stream",
     "text": [
      "Giveme everybody's names, seprated by a comma.Ali, Payam, Ramazan, Rozi, Rozbe, Razai, Alim\n",
      " Alimis going to buy the meal today.\n"
     ]
    }
   ],
   "source": [
    "names_string = input(\"Giveme everybody's names, seprated by a comma.\")\n",
    "names = names_string.split(\",\")\n",
    "num_items = len(names)\n",
    "# random_choice=random.randint(0, num_items-1)\n",
    "# person_who_will_pay = names[random_choice ]\n",
    "person_who_will_pay = random.choice(names)\n",
    "print(person_who_will_pay + \" is going to buy the meal today.\" )"
   ]
  },
  {
   "cell_type": "code",
   "execution_count": 146,
   "id": "be612e9b",
   "metadata": {},
   "outputs": [
    {
     "name": "stdout",
     "output_type": "stream",
     "text": [
      "['  ', '  ', '  ']\n",
      "['  ', '  ', '  ']\n",
      "['  ', '  ', '  ']\n",
      "Where do you want to put the treasure?23\n"
     ]
    }
   ],
   "source": [
    "row1 = [\"  \",\"  \",\"  \"]\n",
    "row2 = [\"  \",\"  \",\"  \"]\n",
    "row3 = [\"  \",\"  \",\"  \"]\n",
    "map = [row1,row2,row3]\n",
    "print(f\"{row1}\\n{row2}\\n{row3}\")\n",
    "position = input(\"Where do you want to put the treasure?\")\n",
    "horizontal = int(position[0])\n",
    "vertical = int(position[1])\n",
    "selected_row = (map[vertical-1])\n",
    "selected_row = (map[horizontal-1]) = \"X\""
   ]
  },
  {
   "cell_type": "code",
   "execution_count": 153,
   "id": "90171d5a",
   "metadata": {},
   "outputs": [
    {
     "name": "stdout",
     "output_type": "stream",
     "text": [
      "['  ', '  ', '  ']\n",
      "['  ', '  ', '  ']\n",
      "['  ', '  ', '  ']\n",
      "Where do you want to put the treasure?23\n",
      "['  ', '  ', '  ']\n",
      "['  ', '  ', 'X']\n",
      "['  ', '  ', '  ']\n"
     ]
    }
   ],
   "source": [
    "row1 = [\"  \",\"  \",\"  \"]\n",
    "row2 = [\"  \",\"  \",\"  \"]\n",
    "row3 = [\"  \",\"  \",\"  \"]\n",
    "map = [row1,row2,row3]\n",
    "print(f\"{row1}\\n{row2}\\n{row3}\")\n",
    "position = input(\"Where do you want to put the treasure?\")\n",
    "horizontal = int(position[0])\n",
    "vertical = int(position[1])\n",
    "map[horizontal-1][vertical-1] = \"X\"\n",
    "print(f\"{row1}\\n{row2}\\n{row3}\")"
   ]
  },
  {
   "cell_type": "code",
   "execution_count": 1,
   "id": "eb3f26cd",
   "metadata": {},
   "outputs": [
    {
     "name": "stdout",
     "output_type": "stream",
     "text": [
      "['  ', '   ', '   ']\n",
      "['   ', '   ', '  ']\n",
      "['   ', '   ', '  ']\n",
      "Where do you want to put the treasure?22\n",
      "['  ', '   ', '   ']\n",
      "['   ', 'X', '  ']\n",
      "['   ', '   ', '  ']\n"
     ]
    }
   ],
   "source": [
    "row1 = [\"  \",\"   \",\"   \"]\n",
    "row2 = [\"   \",\"   \",\"  \"]\n",
    "row3 = [\"   \",\"   \",\"  \"]\n",
    "map = [row1, row2,row3]\n",
    "print(f\"{row1}\\n{row2}\\n{row3}\")\n",
    "position = input(\"Where do you want to put the treasure?\")\n",
    "horizontal = int(position[0])\n",
    "vertical = int(position[1])\n",
    "map[horizontal-1][vertical-1] = \"X\"\n",
    "print(f\"{row1}\\n{row2}\\n{row3}\")"
   ]
  },
  {
   "cell_type": "code",
   "execution_count": 13,
   "id": "5496d2b6",
   "metadata": {},
   "outputs": [
    {
     "name": "stdout",
     "output_type": "stream",
     "text": [
      "What do you choose? Type 0 for Rock, Type 1 for Paper, Type 2 for scissors.0\n",
      "computer_choice 1\n",
      "You lose!\n"
     ]
    }
   ],
   "source": [
    "import random\n",
    "\n",
    "user_choice = int(input(\"What do you choose? Type 0 for Rock, Type 1 for Paper, Type 2 for scissors.\"))\n",
    "\n",
    "computer_choice = random.randint(0,2)\n",
    "print(f\"computer_choice { computer_choice}\")\n",
    "if user_choice>=3 or user_choice <0:\n",
    "    print(\"You have entered invalid number, You lose!\")\n",
    "elif user_choice == 0 and computer_choice == 2:\n",
    "    print(\"You win!\")\n",
    "elif computer_choice ==0 and user_choice==2:\n",
    "    print(\"You lose\")\n",
    "elif computer_choice > user_choice:\n",
    "    print(\"You lose!\")\n",
    "elif user_choice > computer_choice:\n",
    "    print(\"You win!\")\n",
    "elif computer_choice == user_choice:\n",
    "    print(\"It's draw\")\n",
    "else:\n",
    "    print(\"You typed an invalid number, you lose!\")\n",
    "    "
   ]
  },
  {
   "cell_type": "code",
   "execution_count": 19,
   "id": "c10a2e89",
   "metadata": {},
   "outputs": [
    {
     "name": "stdout",
     "output_type": "stream",
     "text": [
      "Ali\n",
      "Ali pay your parking cost\n",
      "Mohammad\n",
      "Mohammad pay your parking cost\n",
      "Sharif\n",
      "Sharif pay your parking cost\n",
      "Sara\n",
      "Sara pay your parking cost\n",
      "Samir\n",
      "Samir pay your parking cost\n"
     ]
    }
   ],
   "source": [
    "students = [\"Ali\",\"Mohammad\",\"Sharif\",\"Sara\",\"Samir\"]\n",
    "for parking in students:\n",
    "    print(parking)\n",
    "    print(parking+\" pay your parking cost\")"
   ]
  },
  {
   "cell_type": "code",
   "execution_count": 29,
   "id": "1b3ba0d2",
   "metadata": {},
   "outputs": [
    {
     "name": "stdout",
     "output_type": "stream",
     "text": [
      "Input a list of student heights154   176   187   190\n",
      "[154, 176, 187, 190]\n",
      "176.75\n"
     ]
    }
   ],
   "source": [
    "student_heights =input(\"Input a list of student heights\").split()\n",
    "for n in range(0, len(student_heights)):\n",
    "    student_heights[n] = int(student_heights[n])\n",
    "print(student_heights)\n",
    "print(sum(student_heights)/len(student_heights))"
   ]
  },
  {
   "cell_type": "code",
   "execution_count": 37,
   "id": "6425735f",
   "metadata": {},
   "outputs": [
    {
     "name": "stdout",
     "output_type": "stream",
     "text": [
      "Input a list of student heights154  134  187   198  176 \n",
      "[154, 134, 187, 198, 176]\n",
      "170\n"
     ]
    }
   ],
   "source": [
    "student_heights =input(\"Input a list of student heights\").split()\n",
    "for n in range(0, len(student_heights)):\n",
    "    student_heights[n] = int(student_heights[n])\n",
    "print(student_heights)\n",
    "total_height = sum(student_heights)\n",
    "number_of_height = len(student_heights)\n",
    "average_height = round(total_height/number_of_height)\n",
    "print(average_height)"
   ]
  },
  {
   "cell_type": "code",
   "execution_count": 39,
   "id": "f2f44dd7",
   "metadata": {},
   "outputs": [
    {
     "name": "stdout",
     "output_type": "stream",
     "text": [
      "Input a list of student heights\n",
      "154  134  187   198  176 \n",
      "170\n"
     ]
    }
   ],
   "source": [
    "student_heights =input(\"Input a list of student heights\\n\").split()\n",
    "for n in range(0, len(student_heights)):\n",
    "    student_heights[n] = int(student_heights[n])\n",
    "# print(student_heights)\n",
    "\n",
    "\n",
    "total_height = 0\n",
    "for height in student_heights:\n",
    "    total_height +=height\n",
    "# print(total_height)\n",
    "\n",
    "number_of_students = 0\n",
    "for student in student_heights:\n",
    "    number_of_students+=1\n",
    "# print(number_of_students)\n",
    "average_height = round(total_height/number_of_students)\n",
    "print(average_height)"
   ]
  },
  {
   "cell_type": "code",
   "execution_count": 40,
   "id": "cb32e4cf",
   "metadata": {},
   "outputs": [
    {
     "name": "stdout",
     "output_type": "stream",
     "text": [
      "Input a list of student heights\n",
      "154  134  187   198  176 \n",
      "170\n"
     ]
    }
   ],
   "source": [
    "student_heights =input(\"Input a list of student heights\\n\").split()\n",
    "for n in range(0, len(student_heights)):\n",
    "    student_heights[n] = int(student_heights[n])\n",
    "\n",
    "\n",
    "\n",
    "total_height = 0\n",
    "for height in student_heights:\n",
    "    total_height +=height\n",
    "\n",
    "\n",
    "number_of_students = 0\n",
    "for student in student_heights:\n",
    "    number_of_students+=1\n",
    "\n",
    "    \n",
    "average_height = round(total_height/number_of_students)\n",
    "print(average_height)"
   ]
  },
  {
   "cell_type": "code",
   "execution_count": 46,
   "id": "8a0125c0",
   "metadata": {},
   "outputs": [
    {
     "name": "stdout",
     "output_type": "stream",
     "text": [
      "Input a list of student heights\n",
      "154  134  187   198  176 \n",
      "170\n"
     ]
    }
   ],
   "source": [
    "s_h = input(\"Input a list of student heights\\n\").split()\n",
    "for n in range(0, len(s_h)):\n",
    "    s_h[n]= int(s_h[n])\n",
    "    \n",
    "summation_of_height = 0\n",
    "for height in s_h:\n",
    "    summation_of_height+=height\n",
    "    \n",
    "n=0\n",
    "for student in s_h:\n",
    "    n+=1\n",
    "\n",
    "average_height = round(summation_of_height/n)\n",
    "print(average_height)"
   ]
  },
  {
   "cell_type": "code",
   "execution_count": 47,
   "id": "7163823e",
   "metadata": {},
   "outputs": [
    {
     "name": "stdout",
     "output_type": "stream",
     "text": [
      "Input a list of student scores\n",
      "154  134  187   198  176\n",
      "198\n"
     ]
    }
   ],
   "source": [
    "student_scores =input(\"Input a list of student scores\\n\").split()\n",
    "for n in range(0, len(student_scores)):\n",
    "    student_scores[n] = int(student_scores[n])\n",
    "print(max(student_scores))"
   ]
  },
  {
   "cell_type": "code",
   "execution_count": null,
   "id": "b7e247d3",
   "metadata": {},
   "outputs": [],
   "source": []
  },
  {
   "cell_type": "code",
   "execution_count": null,
   "id": "e9e46fff",
   "metadata": {},
   "outputs": [],
   "source": [
    "student_scores =input(\"Input a list of student scores\\n\").split()\n",
    "for n in range(0, len(student_scores)):\n",
    "    student_scores[n] = int(student_scores[n])\n",
    "\n",
    "heighest_score = 0\n",
    "for score in student_scores:\n",
    "    if score > heighest_score:\n",
    "        heighest_score = score\n",
    "print(f\"The highest score is {heighest_score}\")\n"
   ]
  },
  {
   "cell_type": "code",
   "execution_count": null,
   "id": "880d5ad6",
   "metadata": {},
   "outputs": [],
   "source": []
  }
 ],
 "metadata": {
  "kernelspec": {
   "display_name": "Python 3 (ipykernel)",
   "language": "python",
   "name": "python3"
  },
  "language_info": {
   "codemirror_mode": {
    "name": "ipython",
    "version": 3
   },
   "file_extension": ".py",
   "mimetype": "text/x-python",
   "name": "python",
   "nbconvert_exporter": "python",
   "pygments_lexer": "ipython3",
   "version": "3.11.3"
  }
 },
 "nbformat": 4,
 "nbformat_minor": 5
}
