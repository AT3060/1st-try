{
 "cells": [
  {
   "cell_type": "markdown",
   "id": "74ef57f3",
   "metadata": {},
   "source": [
    "TASK 17\n",
    "The emount of energey required to increase the temprature of one gram\n",
    "of a material by one degree Celsius is the material's specific heat capacity, C. \n",
    "The total amount of energy, q, required to raise m grams of a material by (delta t) degress Celsius\n",
    "can be computed using the formula     q= mCdelta t\n",
    "Write a program that reads the mass of some water and the temprature change from the user.\n",
    "Your program should display the total\n",
    "amount of energy that must be added or removed to achieve the desired temprature change"
   ]
  },
  {
   "cell_type": "code",
   "execution_count": 13,
   "id": "05a5f755",
   "metadata": {},
   "outputs": [
    {
     "name": "stdout",
     "output_type": "stream",
     "text": [
      "Amount to water in milliliters: 121\n",
      "Temperature increase (degrees Celsius): 12\n",
      "That will require 6078 Joules of energy.\n",
      "The much energy will cost 0.02 cents.\n"
     ]
    }
   ],
   "source": [
    "WATER_HEAT_CAPACITY = 4.186\n",
    "ELECTRECITY_PRICE = 8.9\n",
    "J_TO_KWH = 2.777*10**-7\n",
    "volume = float(input(\"Amount to water in milliliters: \"))\n",
    "d_temp = float(input(\"Temperature increase (degrees Celsius): \"))\n",
    "\n",
    "# FORMULA FOR TOTAL AMOUNT OF ENERGY: q= mCdelta t.   MILLILITER IS EQUAL TO GRAM IN TERM OF WATER THEN INSTEAD OF MILLILITER\n",
    "# GRAM HAS BEEN USED IN THIS CODE\n",
    "\n",
    "\n",
    "q = volume * d_temp * WATER_HEAT_CAPACITY\n",
    "\n",
    "print(\"That will require %d Joules of energy.\" %q)\n",
    "# compute the cost\n",
    "kwh = q * J_TO_KWH\n",
    "cost = kwh * ELECTRECITY_PRICE\n",
    "print(\"The much energy will cost %.2f cents.\" % cost)\n"
   ]
  },
  {
   "cell_type": "markdown",
   "id": "3edeccbe",
   "metadata": {},
   "source": [
    "Task 18\n",
    "\n",
    "The volume of a cylinder can be computed by multiplying the eara of its circular base by its height.\n",
    "Write a program that reads the radius of the cylinder, along with its height, from the user and computes its volume.\n",
    "Display the result to one decimal place"
   ]
  },
  {
   "cell_type": "code",
   "execution_count": 12,
   "id": "6091016c",
   "metadata": {},
   "outputs": [
    {
     "name": "stdout",
     "output_type": "stream",
     "text": [
      "Enter the radius of cylinder:  2\n",
      "The erea of the base is : 12.56636984\n",
      "Enter the height of cylinder: 2\n",
      "The volume of cylinder is 50.26547936\n"
     ]
    }
   ],
   "source": [
    "PI = 3.14159246 \n",
    "\n",
    "r = int(input(\"Enter the radius of cylinder:  \"))\n",
    "erea = (PI * r**2)\n",
    "print(f\"The erea of the base is : {erea}\")\n",
    "\n",
    "h = int(input(\"Enter the height of cylinder: \"))\n",
    "volume = (2*erea * h) \n",
    "print(f\"The volume of cylinder is {volume}\" )"
   ]
  },
  {
   "cell_type": "code",
   "execution_count": 10,
   "id": "e6453900",
   "metadata": {},
   "outputs": [
    {
     "name": "stdout",
     "output_type": "stream",
     "text": [
      "Enter the radius of cylinder:  2\n",
      "The erea of the base is :erea 12.57\n",
      "Enter the height of cylinder: 2\n",
      "The volume of cylinder is volume  50.27\n"
     ]
    }
   ],
   "source": [
    "PI = 3.14159246 \n",
    "\n",
    "r = int(input(\"Enter the radius of cylinder:  \"))\n",
    "erea = (PI * r**2)\n",
    "print(\"The erea of the base is :erea %.2f\"%erea)\n",
    "\n",
    "h = int(input(\"Enter the height of cylinder: \"))\n",
    "volume = (2*erea * h) \n",
    "print(\"The volume of cylinder is volume % .2f\"%volume )"
   ]
  },
  {
   "cell_type": "markdown",
   "id": "fe315d9e",
   "metadata": {},
   "source": [
    "Task 19\n",
    "Creat a program that determines how quickly an object is travelling when it hits the ground.\n",
    "The user will enter the height from \n",
    "which the object is dropped its initial speed is 0 m/s.\n",
    "Assume that acceleration due to gravity is 9.8m/sec**2.\n",
    "You can use the formula vf = seq(vi**2 + 2ad) to compute the final speed vf, when the initial speed vi, acceleration, a, and distance , d, are known."
   ]
  },
  {
   "cell_type": "code",
   "execution_count": 16,
   "id": "cfdca077",
   "metadata": {},
   "outputs": [
    {
     "name": "stdout",
     "output_type": "stream",
     "text": [
      "Height (in meters): 18\n",
      "It will hit the ground at 18.78 m/s.\n"
     ]
    }
   ],
   "source": [
    "# Compute the speed of an object when it hits the ground.    FORMULA:  vf = seq(vi**2 + 2ad)\n",
    "from math import sqrt\n",
    "Gravity = 9.8\n",
    "d = float(input(\"Height (in meters): \"))\n",
    "# Vi is zero then its not neccessary to included in\n",
    "vf = sqrt(2*Gravity *d )\n",
    "print(\"It will hit the ground at %.2f m/s.\"%vf)\n"
   ]
  },
  {
   "cell_type": "markdown",
   "id": "356bf33a",
   "metadata": {},
   "source": [
    "Task 20\n",
    "The ideal gas law is a mathematical approximation of the behavior of gasses as pressure, volume and temprature change. It is usually stated as:   PV = nRT\n",
    "where P is the pressure in Pascals, V is the volume in liters, n is the amount of substance in moles, R is the ideal gas constant, equal to 8.314 J/ mol Kalvin  , and T is the temprature in degrees Kalvin.\n",
    "\n",
    "Write a program that compute the amount of gas in moles when the user supplies the pressure, volume and temprature. Test your program by determining the number of moles of gas in a SCUBA tank. A typical SCUBA tank holds 12 liters of gas at a pressure of 20,000,000 Pascals(approximately 3,000 PSI). Room temprature is approximately 20 degree Celsius or 68 degree Fahrenheit.\n"
   ]
  },
  {
   "cell_type": "code",
   "execution_count": null,
   "id": "2e54a45e",
   "metadata": {},
   "outputs": [],
   "source": []
  },
  {
   "cell_type": "code",
   "execution_count": 19,
   "id": "9a985c9f",
   "metadata": {},
   "outputs": [
    {
     "name": "stdout",
     "output_type": "stream",
     "text": [
      "Enter the pressure in Pascals: 20000000\n",
      "Enter the volume in liters: 12\n",
      "Enter the temperature in degrees Kelvin: 293.75\n",
      "The amount of gas in moles is: 98270.54084625265\n"
     ]
    }
   ],
   "source": [
    "# Define the ideal gas constant\n",
    "R = 8.314 # J/mol K\n",
    "\n",
    "# Get input from the user\n",
    "P = float(input(\"Enter the pressure in Pascals: \"))\n",
    "V = float(input(\"Enter the volume in liters: \"))\n",
    "T = float(input(\"Enter the temperature in degrees Kelvin: \"))\n",
    "\n",
    "# Calculate the number of moles of gas\n",
    "n = (P * V) / (R * T)\n",
    "\n",
    "# Print the result\n",
    "print(\"The amount of gas in moles is:\", n)"
   ]
  },
  {
   "cell_type": "markdown",
   "id": "6cc70ad9",
   "metadata": {},
   "source": [
    "Task 21\n",
    "\n",
    "The area of a tringle can be camputed using (area = b*h/2)where b stands as length of base and h stands as height.\n",
    "Write a program that allows the user to enter values for b and h. The progaram shold then compute and display the area of traingle with base and height\n"
   ]
  },
  {
   "cell_type": "code",
   "execution_count": 21,
   "id": "e6937d0c",
   "metadata": {},
   "outputs": [
    {
     "name": "stdout",
     "output_type": "stream",
     "text": [
      "Enter the length of base of triangel in centimere: 2\n",
      "Enter the height of a triangle in centimeter: 12\n",
      "The erea of a triangle is 12.00 centimeter square\n"
     ]
    }
   ],
   "source": [
    "b = float(input(\"Enter the length of base of triangel in centimere: \"))\n",
    "h = float(input(\"Enter the height of a triangle in centimeter: \"))\n",
    "area = (b*h)/2\n",
    "print(\"The erea of a triangle is %.2f centimeter square\"%area)"
   ]
  },
  {
   "cell_type": "markdown",
   "id": "9dfdf882",
   "metadata": {},
   "source": [
    "Task 22\n",
    "Compute the area of a triangle by using three sides such as s1, s2, s3. Using this formula: area= sqrt(s(s-s1)*(s-s2)*(s-s3) where s stands as: s=(s1 + s2 + s3)/2"
   ]
  },
  {
   "cell_type": "code",
   "execution_count": 28,
   "id": "da2257be",
   "metadata": {},
   "outputs": [
    {
     "name": "stdout",
     "output_type": "stream",
     "text": [
      "Enter the first side of triangle: 12\n",
      "Enter the second side of triangle: 13\n",
      "Enter the third side of triangle: 10\n",
      "The area of a triangle is: 57.00\n"
     ]
    }
   ],
   "source": [
    "from math import sqrt\n",
    "s1 = int(input(\"Enter the first side of triangle: \"))\n",
    "s2 = int(input(\"Enter the second side of triangle: \"))\n",
    "s3 = int(input(\"Enter the third side of triangle: \"))\n",
    "s = float((s1+s2+s3)/2)\n",
    "area = float(sqrt(s*(s-s1)*(s-s2)*(s-s3)))\n",
    "print(\"The area of a triangle is: %.2f\"%area)"
   ]
  },
  {
   "cell_type": "markdown",
   "id": "312c3893",
   "metadata": {},
   "source": [
    "Task 23 (Area of a Regular Ploygon)\n",
    "write a program to calculate the area of regular polygon with the following formula: area = (n*s**2) / 4* tan(pi/n)"
   ]
  },
  {
   "cell_type": "code",
   "execution_count": 31,
   "id": "7b312ea3",
   "metadata": {},
   "outputs": [
    {
     "name": "stdout",
     "output_type": "stream",
     "text": [
      "Enter the length of one side of regular polygon.12\n",
      "Enter the number of sides in polygon10\n",
      "The area of Polygon is: 116.97\n"
     ]
    }
   ],
   "source": [
    "from math import tan, pi\n",
    "\n",
    "\n",
    "s = int(input(\"Enter the length of one side of regular polygon.\"))\n",
    "n = int(input(\"Enter the number of sides in polygon\"))\n",
    "area = (n*s**2) / 4* tan(pi/n)\n",
    "print(\"The area of Polygon is: %.2f\"%area)"
   ]
  },
  {
   "cell_type": "markdown",
   "id": "182cdaae",
   "metadata": {},
   "source": [
    "Task 24-25 Units of time\n",
    "Creat a program that reads a duration form the user as a number of days, hours, minutes and seconds.Compute and display the total number of seconds represented by this duration."
   ]
  },
  {
   "cell_type": "code",
   "execution_count": 37,
   "id": "b8f5c3bd",
   "metadata": {},
   "outputs": [
    {
     "name": "stdout",
     "output_type": "stream",
     "text": [
      "Enter the number of days: 2\n",
      "Enter the number of hours: 10\n",
      "Enter the number of minutes: 33\n",
      "Enter the number of second: 10\n",
      "The total time in second is 7477921990 seconds \n"
     ]
    }
   ],
   "source": [
    "D = int(input(\"Enter the number of days: \"))\n",
    "H = int(input(\"Enter the number of hours: \"))\n",
    "M = int(input(\"Enter the number of minutes: \"))\n",
    "S = int(input(\"Enter the number of second: \"))\n",
    "M_S = 60\n",
    "H_S = 3600\n",
    "D_S = 86400\n",
    "total_duration =S+ (M_S)*M+(H_S)*3600 +(D_S)*86400\n",
    "print(f\"The total time in second is {total_duration} seconds \")"
   ]
  },
  {
   "cell_type": "markdown",
   "id": "804b74be",
   "metadata": {},
   "source": [
    "Task 26:\n",
    "Python's time module includes several time-related functinos. One of these is hte asctime function which reads the current time\n",
    "from the computer's internal clock and returns it in a human-readable formate.\n",
    "Use this function to write a program that displays the current time and date. Your program will not require any inpute from the user.\n"
   ]
  },
  {
   "cell_type": "code",
   "execution_count": 38,
   "id": "c02fdab0",
   "metadata": {},
   "outputs": [
    {
     "name": "stdout",
     "output_type": "stream",
     "text": [
      "The current time and date is: Mon Sep 11 13:10:23 2023\n"
     ]
    }
   ],
   "source": [
    "import time\n",
    "\n",
    "# Get the current time as a struct_time object\n",
    "current_time = time.localtime()\n",
    "\n",
    "# Convert the struct_time object to a string\n",
    "time_string = time.asctime(current_time)\n",
    "\n",
    "# Print the result\n",
    "print(\"The current time and date is:\", time_string)"
   ]
  },
  {
   "cell_type": "markdown",
   "id": "fe1ee825",
   "metadata": {},
   "source": [
    "Task 27 so long!!!!!\n",
    "\n",
    "Task 28:\n",
    "BMI challenge\n",
    "Calculate the BMI as user inter the height and weight if height in foot and weight in pound then use:\n",
    "BMI = (weight * 703 )/height**2\n",
    "if height is given in meter and weight is given in kilogram then use this formula: \n",
    "BMI = (weight)/height**2\n"
   ]
  },
  {
   "cell_type": "code",
   "execution_count": 41,
   "id": "c44dd038",
   "metadata": {},
   "outputs": [
    {
     "name": "stdout",
     "output_type": "stream",
     "text": [
      "Enter your height in meter: 1.77\n",
      "Enter your weight in kilogram: 77\n",
      "Your BMI is 24.58\n"
     ]
    }
   ],
   "source": [
    "h = float(input(\"Enter your height in meter: \"))\n",
    "w = float(input(\"Enter your weight in kilogram: \"))\n",
    "BMI = w/h**2\n",
    "print(\"Your BMI is %.2f\"%BMI)"
   ]
  },
  {
   "cell_type": "markdown",
   "id": "c2d474d8",
   "metadata": {},
   "source": [
    "Task 29 (Wind Chill)\n",
    "Calculate the wind chill based on the following formaula:\n",
    "\n",
    "WCI = 13.12 + 0.6215 * T - 11.37* V**0.16 + 0.3965*T* V**0.16"
   ]
  },
  {
   "cell_type": "code",
   "execution_count": 42,
   "id": "11f98c7b",
   "metadata": {},
   "outputs": [
    {
     "name": "stdout",
     "output_type": "stream",
     "text": [
      "Enter the temprature less than 10 degree of cilsius: 5\n",
      "Enter the volacity of wind more than 4.8 kilometer per hour: 6\n",
      "4\n"
     ]
    }
   ],
   "source": [
    "T = float(input(\"Enter the temprature less than 10 degree of cilsius: \"))\n",
    "V = float(input(\"Enter the volacity of wind more than 4.8 kilometer per hour: \"))\n",
    "WCI = 13.12 + 0.6215 * T - 11.37* V**0.16 + 0.3965*T* V**0.16\n",
    "print(round(WCI))"
   ]
  },
  {
   "cell_type": "markdown",
   "id": "2641608e",
   "metadata": {},
   "source": [
    "Task 30\n",
    "Celsius to Fahenheit and Kelvin\n",
    "Write a program that begins by reading a temprature from the user in degrees Celsius. Then your program should display the equivalent temprature in degrees Fahrenheit and degrees Kelvin. The calculation needed to convert between different unites\n",
    "of temprature can be found in internet."
   ]
  },
  {
   "cell_type": "code",
   "execution_count": 46,
   "id": "180966b8",
   "metadata": {
    "scrolled": true
   },
   "outputs": [
    {
     "name": "stdout",
     "output_type": "stream",
     "text": [
      "from Celsius to Fahrenheit type 'cf', from celsius to kelvin type 'ck' \n",
      "from Fahrenheit to kelvin type'fk', from Fahrenheit to Celsius type 'fc'\n",
      "from Kelvin to Celsius type  'kc', from Kelvin to Fahrenheit type 'kf' kc\n",
      "Enter degree in kelvin: 293.15\n",
      "The desired degree from kelvin to celsius is: 20.00 \n"
     ]
    }
   ],
   "source": [
    "Selection = input(\"from Celsius to Fahrenheit type 'cf', from celsius to kelvin type 'ck' \\nfrom Fahrenheit to kelvin type'fk', from Fahrenheit to Celsius type 'fc'\\nfrom Kelvin to Celsius type  'kc', from Kelvin to Fahrenheit type 'kf' \")\n",
    "\n",
    "\n",
    "\n",
    "if Selection == 'cf':\n",
    "    C = float(input(\"Enter degree in celsius: \"))\n",
    "    F = (C * 9/5) + 32\n",
    "    print(\"The desired degree in Fahrenheit is: %.2f\"% F)\n",
    "elif Selection == 'ck':\n",
    "    C = float(input(\"Enter degree in celsius: \"))\n",
    "    K = C + 273.15\n",
    "    print(\"The desired degree in Kelvin is: %.2f\"%K)\n",
    "elif Selection == 'fk':\n",
    "    F = float(input(\"Enter degree in Fahrenheit: \"))\n",
    "    K = (F - 32) * 5/9 + 273.15\n",
    "    print(\"The desire degree in Kelvin is : %.2f\"%K)\n",
    "elif Selection == 'fc': \n",
    "    F = float(input(\"Enter degree in Fahrenheit: \"))\n",
    "    C = (F - 32) * 5/9\n",
    "    print(\"The desired degree in celsius is: %.2f\"%C)\n",
    "elif Selection == 'kc': \n",
    "    K = float(input(\"Enter degree in kelvin: \"))\n",
    "    C = K - 273.15\n",
    "    print(\"The desired degree from kelvin to celsius is: %.2f \"%C)\n",
    "elif Selection == 'kf':\n",
    "    K = float(input(\"Enter degree in kelvin: \"))\n",
    "    F = (K - 273.15) * 9/5 + 32\n",
    "    print(f\"The desired degree from Kelvin to Fahrenheit is: %.2f\"%F)\n",
    "    "
   ]
  },
  {
   "cell_type": "markdown",
   "id": "bedb6b47",
   "metadata": {},
   "source": [
    "Task 31\n",
    "Creat a program that reads a pressure from the user in kilo-pascals. Once the pressure has been read your program should report\n",
    "the equivalent pressure in pound per squre inch, millimeters of mercury and atomspheres. Use your research skills to determine the conversion factors between units."
   ]
  },
  {
   "cell_type": "code",
   "execution_count": 47,
   "id": "2dee1756",
   "metadata": {},
   "outputs": [
    {
     "name": "stdout",
     "output_type": "stream",
     "text": [
      "Enter the pressure in kilopascals: 232\n",
      "The pressure in pounds per square inch is: 33.648816\n",
      "The pressure in millimeters of mercury is: 1740.14384\n",
      "The pressure in atmospheres is: 2.289663272440171\n"
     ]
    }
   ],
   "source": [
    "kpa = float(input(\"Enter the pressure in kilopascals: \"))\n",
    "\n",
    "# Convert to pounds per square inch\n",
    "psi = kpa * 0.145038\n",
    "\n",
    "# Convert to millimeters of mercury\n",
    "mmhg = kpa * 7.50062\n",
    "\n",
    "# Convert to atmospheres\n",
    "atm = kpa * 0.0098692382432766\n",
    "\n",
    "# Print the results\n",
    "print(\"The pressure in pounds per square inch is:\", psi)\n",
    "print(\"The pressure in millimeters of mercury is:\", mmhg)\n",
    "print(\"The pressure in atmospheres is:\", atm)\n"
   ]
  },
  {
   "cell_type": "markdown",
   "id": "ac524f9f",
   "metadata": {},
   "source": [
    "Task 32 (Sum of the Digits in an Integer)\n",
    "Develop a program that reads a four digit integer from the user and displays the sum of its digits. For example, if the users enters 3141 then your program should display 3+1+4+1 = 9."
   ]
  },
  {
   "cell_type": "code",
   "execution_count": 60,
   "id": "3a5a3403",
   "metadata": {},
   "outputs": [
    {
     "name": "stdout",
     "output_type": "stream",
     "text": [
      "Enter a four-digit integer: 9879\n",
      " The sum of the digit is: 33\n"
     ]
    }
   ],
   "source": [
    "num = input(\"Enter a four-digit integer: \")\n",
    "sum = int(num[0]) + int(num[1]) + int(num[2]) + int(num[3])\n",
    "print(f\" The sum of the digit is: {sum}\")"
   ]
  },
  {
   "cell_type": "code",
   "execution_count": 61,
   "id": "786646d4",
   "metadata": {},
   "outputs": [
    {
     "name": "stdout",
     "output_type": "stream",
     "text": [
      "Enter a four-digit integer: 9879\n",
      "9+8+7+9=33\n"
     ]
    }
   ],
   "source": [
    "num = input(\"Enter a four-digit integer: \")\n",
    "sum = int(num[0]) + int(num[1]) + int(num[2]) + int(num[3])\n",
    "\n",
    "# Create a string with the digits separated by '+'\n",
    "digits = num[0] + \"+\" + num[1] + \"+\" + num[2] + \"+\" + num[3]\n",
    "\n",
    "print(digits + \"=\" + str(sum))\n"
   ]
  },
  {
   "cell_type": "code",
   "execution_count": 66,
   "id": "8f4388d7",
   "metadata": {},
   "outputs": [
    {
     "name": "stdout",
     "output_type": "stream",
     "text": [
      "Enter a five-digit integer: 98799\n",
      "9+8+7+9+9=42\n"
     ]
    }
   ],
   "source": [
    "num = input(\"Enter a five-digit integer: \")\n",
    "sum = int(num[0]) + int(num[1]) + int(num[2]) + int(num[3])+int(num[4])\n",
    "\n",
    "\n",
    "digits =(num[0]) +\"+\"+ (num[1])+ \"+\"+ (num[2]) +\"+\" +(num[3]+ \"+\" + (num[4]))\n",
    "\n",
    "\n",
    "print(digits + \"=\" + str(sum))"
   ]
  },
  {
   "cell_type": "markdown",
   "id": "74298bf8",
   "metadata": {},
   "source": [
    "Task 33:\n",
    "Create a program that reads three integers from the user and displays them in sorted order(from smallest to largest). Use the min and max functions to find the smallest and largest values. The middle value can be found by computing the sum of all three values, and then subtracting the minimum value and the maximum value."
   ]
  },
  {
   "cell_type": "code",
   "execution_count": 68,
   "id": "1bea65fe",
   "metadata": {},
   "outputs": [
    {
     "name": "stdout",
     "output_type": "stream",
     "text": [
      "Enter the first number: 23\n",
      "Enter the second number: 99\n",
      "Enter the third number: 2323\n",
      "The numbers in sorted order are: \n",
      "  23\n",
      "  99\n",
      "  2323\n"
     ]
    }
   ],
   "source": [
    "a = int(input(\"Enter the first number: \"))\n",
    "b = int(input(\"Enter the second number: \"))\n",
    "c = int(input(\"Enter the third number: \"))\n",
    "mn = min(a,b,c)\n",
    "mx = max(a,b,c)\n",
    "md = a+b+c -mn -mx\n",
    "print(\"The numbers in sorted order are: \")\n",
    "print(\" \",mn)\n",
    "print(\" \",md)\n",
    "print(\" \",mx)\n"
   ]
  },
  {
   "cell_type": "markdown",
   "id": "efec0992",
   "metadata": {},
   "source": [
    "Task 34 (Day Old Bread)\n",
    "A bakery sells loaves of bread for 3.49$ each. Day old bread is discounted by 60 percent.\n",
    "Write a program that begins by reading the number of loaves of day old bread being purchased from the user.\n",
    "Then your program should display the regular price for the bread, the discount because it is a day old, and the total price. Each of these amounts should be displayed on its own line with an appropriate label.\n",
    "All of the values should be displayed using two decimal places, and the decimal points in all of the numbers should be aligned when reasonable values are entered by the user.\n"
   ]
  },
  {
   "cell_type": "code",
   "execution_count": 72,
   "id": "2c033c0c",
   "metadata": {},
   "outputs": [
    {
     "name": "stdout",
     "output_type": "stream",
     "text": [
      "Enter the number of day old loaves: 12\n",
      "Regular price :  41.88\n",
      "Discount:  25.13\n",
      "Total:  16.75\n"
     ]
    }
   ],
   "source": [
    "BREAD_PRICE = 3.49\n",
    "DISCOUNT_RATE = 0.60\n",
    "num_loaves = int(input(\"Enter the number of day old loaves: \"))\n",
    "regular_price = num_loaves * BREAD_PRICE\n",
    "discount = regular_price * DISCOUNT_RATE\n",
    "total = regular_price - discount\n",
    "print(\"Regular price :  %5.2f\" % regular_price)\n",
    "print(\"Discount:  %5.2f\"%discount)\n",
    "print(\"Total:  %5.2f\"% total)"
   ]
  },
  {
   "cell_type": "code",
   "execution_count": 75,
   "id": "32238b0b",
   "metadata": {},
   "outputs": [
    {
     "name": "stdout",
     "output_type": "stream",
     "text": [
      "Enter the number of day old loaves: 12\n",
      "Enter the number of fresh loaves: 10\n",
      "Regular price :  76.78\n",
      "Discount:  25.13\n",
      "Total:  51.65\n"
     ]
    }
   ],
   "source": [
    "# When you buy both fresh and day old bread then the program goes like this:\n",
    "\n",
    "BREAD_PRICE = 3.49\n",
    "DISCOUNT_RATE = 0.60\n",
    "num_loaves_day_old = int(input(\"Enter the number of day old loaves: \"))\n",
    "num_loaves_fresh = int(input(\"Enter the number of fresh loaves: \"))\n",
    "\n",
    "\n",
    "price_with_discount = num_loaves_day_old * BREAD_PRICE\n",
    "discount = price_with_discount * DISCOUNT_RATE\n",
    "\n",
    "\n",
    "regular_price = price_with_discount+ num_loaves_fresh *BREAD_PRICE\n",
    "\n",
    "\n",
    "total = regular_price - discount\n",
    "print(\"Regular price :  %5.2f\" % regular_price)\n",
    "print(\"Discount:  %5.2f\"%discount)\n",
    "print(\"Total:  %5.2f\"% total)"
   ]
  },
  {
   "cell_type": "markdown",
   "id": "d497674a",
   "metadata": {},
   "source": [
    "Task 35 Even or Odd?\n",
    "\n",
    "Write a program that reads an integer from the user.\n",
    "Then your program should display a message indicating whether the integer is even or odd."
   ]
  },
  {
   "cell_type": "code",
   "execution_count": 79,
   "id": "d3bf754b",
   "metadata": {},
   "outputs": [
    {
     "name": "stdout",
     "output_type": "stream",
     "text": [
      "Enter any integer number:  432435421\n",
      "The given number is odd\n"
     ]
    }
   ],
   "source": [
    "num =  int(input(\"Enter any integer number:  \"))\n",
    "if num % 2 == 0:\n",
    "    print(\"The given number is even\")\n",
    "else:\n",
    "    print(\"The given number is odd\")"
   ]
  },
  {
   "cell_type": "markdown",
   "id": "8c7461a0",
   "metadata": {},
   "source": [
    "Task 36 Dog Year\n",
    "It is commonly said that one human year is seven dog years. However this simple conversion fails to recognize that dogs reach adulthood in approximately two years. As a result, some people believe that it is better to count each of the first two human years as 10.5 dog years, and then count each additional human years as 4 dog years.\n",
    "Write a program that implements the conversion from human years to dog years described in the previos paragraph. Ensure that your program works correctly for conversion fo less than two human years adn for conversions of two or more human years.\n",
    "Your program should display an appropriate error message if the user enters a negative number.\n"
   ]
  },
  {
   "cell_type": "code",
   "execution_count": null,
   "id": "bcfed14d",
   "metadata": {},
   "outputs": [],
   "source": []
  },
  {
   "cell_type": "markdown",
   "id": "7d8e94dc",
   "metadata": {},
   "source": [
    "Task 37: Creat a program that reads the letter from users if the user enter letters like 'a','e','i','o','u' the program should give comment that entered letter is vowel and if the user enter letter 'y' your program should give comments that 'y' is semivowel."
   ]
  },
  {
   "cell_type": "code",
   "execution_count": 4,
   "id": "092677bf",
   "metadata": {},
   "outputs": [
    {
     "name": "stdout",
     "output_type": "stream",
     "text": [
      "Enter letter: i\n",
      "Entered letter is vowel\n",
      "i\n"
     ]
    }
   ],
   "source": [
    "letters = input(\"Enter letter: \")\n",
    "if letters == 'a'or'e'or'i'or'o'or'u':\n",
    "    print(\"Entered letter is vowel\")\n",
    "elif letters == 'y':\n",
    "    print(\"The entered letter is semivowel\")\n",
    "else:\n",
    "    print(\"The entered letter is cnosonant\")\n",
    "print(letters)"
   ]
  },
  {
   "cell_type": "code",
   "execution_count": 6,
   "id": "bc94d43c",
   "metadata": {},
   "outputs": [
    {
     "name": "stdout",
     "output_type": "stream",
     "text": [
      "Enter a letter: p\n",
      "The entered letter is consonant\n"
     ]
    }
   ],
   "source": [
    "letters = input(\"Enter a letter: \")\n",
    "if letters in ['a', 'e', 'i', 'o', 'u']:\n",
    "    print(\"Entered letter is vowel\")\n",
    "elif letters == 'y':\n",
    "    print(\"The entered letter is semivowel\")\n",
    "else:\n",
    "    print(\"The entered letter is consonant\")"
   ]
  },
  {
   "cell_type": "code",
   "execution_count": 7,
   "id": "bdf74607",
   "metadata": {},
   "outputs": [
    {
     "name": "stdout",
     "output_type": "stream",
     "text": [
      "Enter a letter: u\n",
      "Entered letter is vowel\n"
     ]
    }
   ],
   "source": [
    "letters = input(\"Enter a letter: \")\n",
    "if letters in ['a', 'e', 'i', 'o', 'u']:\n",
    "    print(\"Entered letter is vowel\")\n",
    "elif letters == 'y':\n",
    "    print(\"The entered letter is semivowel\")\n",
    "else:\n",
    "    print(\"The entered letter is consonant\")"
   ]
  },
  {
   "cell_type": "code",
   "execution_count": 8,
   "id": "5b9f6e94",
   "metadata": {},
   "outputs": [
    {
     "name": "stdout",
     "output_type": "stream",
     "text": [
      "Enter a letter: y\n",
      "The entered letter is semivowel\n"
     ]
    }
   ],
   "source": [
    "letters = input(\"Enter a letter: \")\n",
    "if letters in ['a', 'e', 'i', 'o', 'u']:\n",
    "    print(\"Entered letter is vowel\")\n",
    "elif letters == 'y':\n",
    "    print(\"The entered letter is semivowel\")\n",
    "else:\n",
    "    print(\"The entered letter is consonant\")"
   ]
  },
  {
   "cell_type": "markdown",
   "id": "802e974f",
   "metadata": {},
   "source": [
    "Task 38:\n",
    "Write a program that determines the name of a shape from its number of sides. Read the number of sides form the user and then report the appropriate name as part of the meaningful message. Your program should support shapes with anywhere from 3 then your program should display an appropriate error message."
   ]
  },
  {
   "cell_type": "code",
   "execution_count": 16,
   "id": "12b4551e",
   "metadata": {},
   "outputs": [
    {
     "name": "stdout",
     "output_type": "stream",
     "text": [
      "Enter the numbe of the sides: 12\n",
      "That number of sides is not supported by this program\n"
     ]
    }
   ],
   "source": [
    "nsides = int(input(\"Enter the numbe of the sides: \"))\n",
    "# The empty string is being used as a sentinel value. if the number of sides entered by the user is outside of the supported\n",
    "# range then the name will remain empty, causing an error message to be displayed latter in the program\n",
    "name = \" \"\n",
    "if nsides == 3:\n",
    "    name =\"Triangle\"\n",
    "elif nsides == 4:\n",
    "    name =\"Quardrilateral\"\n",
    "elif nsides ==5:\n",
    "    name =\"Pentagonal\"\n",
    "elif nsides ==6:\n",
    "    name =(\"Hexagonal\")\n",
    "elif nsides ==7:\n",
    "    name =(\"Heptagonal\")\n",
    "elif nsides ==8:\n",
    "    name =(\"Octagonal\")\n",
    "elif nsides ==9:\n",
    "    name =(\"Nanogonal\")\n",
    "elif nsides ==10:\n",
    "    name =(\"Decagonal\")\n",
    "    \n",
    "if name == \" \":\n",
    "    print(\"That number of sides is not supported by this program\")\n",
    "else:\n",
    "    print(\"That's a\", name)"
   ]
  },
  {
   "cell_type": "code",
   "execution_count": 17,
   "id": "6a2fc1f8",
   "metadata": {},
   "outputs": [
    {
     "name": "stdout",
     "output_type": "stream",
     "text": [
      "Enter the numbe of the sides: 8\n",
      "That's a Octagonal\n"
     ]
    }
   ],
   "source": [
    "nsides = int(input(\"Enter the numbe of the sides: \"))\n",
    "# The empty string is being used as a sentinel value. if the number of sides entered by the user is outside of the supported\n",
    "# range then the name will remain empty, causing an error message to be displayed latter in the program\n",
    "name = \" \"\n",
    "if nsides == 3:\n",
    "    name =\"Triangle\"\n",
    "elif nsides == 4:\n",
    "    name =\"Quardrilateral\"\n",
    "elif nsides ==5:\n",
    "    name =\"Pentagonal\"\n",
    "elif nsides ==6:\n",
    "    name =(\"Hexagonal\")\n",
    "elif nsides ==7:\n",
    "    name =(\"Heptagonal\")\n",
    "elif nsides ==8:\n",
    "    name =(\"Octagonal\")\n",
    "elif nsides ==9:\n",
    "    name =(\"Nanogonal\")\n",
    "elif nsides ==10:\n",
    "    name =(\"Decagonal\")\n",
    "    \n",
    "if name == \" \":\n",
    "    print(\"That number of sides is not supported by this program\")\n",
    "else:\n",
    "    print(\"That's a\", name)"
   ]
  },
  {
   "cell_type": "markdown",
   "id": "bd4c6598",
   "metadata": {},
   "source": [
    "Task 39:Month Name to Number of Days\n",
    "The number of days in a months varies from 28 to 31days. In this exercise you will creat a program that reads the name of month from user as a string. Then your program should display the number of month. Display \" 28 or 29 days\" for february so that leap years are addressed.\n"
   ]
  },
  {
   "cell_type": "code",
   "execution_count": 18,
   "id": "4caf5e22",
   "metadata": {},
   "outputs": [
    {
     "name": "stdout",
     "output_type": "stream",
     "text": [
      "Enter the name of a month: April\n",
      "April has 30 days in it\n"
     ]
    }
   ],
   "source": [
    "month = input(\"Enter the name of a month: \")\n",
    "days = 31\n",
    "if month in ['April','June','September','November']:\n",
    "    days = 30\n",
    "elif month ==\"February\":\n",
    "    days = \"28\" or \"29\"\n",
    "print(month, \"has\",days, \"days in it\")"
   ]
  },
  {
   "cell_type": "code",
   "execution_count": 19,
   "id": "12aad70a",
   "metadata": {},
   "outputs": [
    {
     "name": "stdout",
     "output_type": "stream",
     "text": [
      "Enter the name of a month: agust\n",
      "agust has 31 days in it\n"
     ]
    }
   ],
   "source": [
    "month = input(\"Enter the name of a month: \")\n",
    "days = 31\n",
    "if month in ['April','June','September','November']:\n",
    "    days = 30\n",
    "elif month ==\"February\":\n",
    "    days = \"28\" or \"29\"\n",
    "print(month, \"has\",days, \"days in it\")"
   ]
  },
  {
   "cell_type": "code",
   "execution_count": 20,
   "id": "90ad24cc",
   "metadata": {},
   "outputs": [
    {
     "name": "stdout",
     "output_type": "stream",
     "text": [
      "Enter the name of a month: February\n",
      "February has 28 days in it\n"
     ]
    }
   ],
   "source": [
    "month = input(\"Enter the name of a month: \")\n",
    "days = 31\n",
    "if month in ['April','June','September','November']:\n",
    "    days = 30\n",
    "elif month ==\"February\":\n",
    "    days = \"28\" or \"29\"\n",
    "print(month, \"has\",days, \"days in it\")"
   ]
  },
  {
   "cell_type": "markdown",
   "id": "d8f7819d",
   "metadata": {},
   "source": [
    "Task 40\n",
    "Write a program that reads a sound level in decibels form the user. if the user enters a decible level that matches one of the noises in the table then your program should display a message containing only that noise. If the user enters a number of decible between the noise listed then your program should display a massege indicating which noise the value is between. Ensure that your program also generates reasonable output for a value smaller than the qiuetest noise in the table, and for a value larger than the loudest noise in the table.\n"
   ]
  },
  {
   "cell_type": "code",
   "execution_count": 22,
   "id": "b0790d2d",
   "metadata": {},
   "outputs": [
    {
     "name": "stdout",
     "output_type": "stream",
     "text": [
      "Enter the level of noise: 99\n",
      "The entered number is indicating level of  Between Alarm Clock and Laudest level\n"
     ]
    }
   ],
   "source": [
    "Decible = int(input(\"Enter the level of noise: \"))\n",
    "name = \"\"\n",
    "if Decible == 130:\n",
    "    name = \"Jackhammer the loaudest level\"\n",
    "elif Decible == 106:\n",
    "    name = \"Gas Lawnmower\"\n",
    "elif Decible == 70:\n",
    "    name = \"Alarm Clock\"\n",
    "elif Decible == 40:\n",
    "    name = \"Quiet Room the quietest level\"\n",
    "elif Decible >40 and Decible <70:\n",
    "    name = \"Between Quiet level and Alarm Clock level\"\n",
    "elif Decible >70 and Decible <130:\n",
    "    name = \"Between Alarm Clock and Laudest level\"\n",
    "\n",
    "    \n",
    "if name == \"\":\n",
    "    print(\"The entered number is not supported by this programm\")\n",
    "\n",
    "print(\"The entered number is indicating level of \", name)"
   ]
  },
  {
   "cell_type": "code",
   "execution_count": 25,
   "id": "9fb49034",
   "metadata": {},
   "outputs": [
    {
     "name": "stdout",
     "output_type": "stream",
     "text": [
      "Enter the level of noise: 134\n",
      "The entered number is not supported by this programm\n"
     ]
    }
   ],
   "source": [
    "Decible = int(input(\"Enter the level of noise: \"))\n",
    "name = \"\"\n",
    "if Decible == 130:\n",
    "    name = \"Jackhammer the loaudest level\"\n",
    "elif Decible == 106:\n",
    "    name = \"Gas Lawnmower\"\n",
    "elif Decible == 70:\n",
    "    name = \"Alarm Clock\"\n",
    "elif Decible == 40:\n",
    "    name = \"Quiet Room the quietest level\"\n",
    "elif Decible >40 and Decible <70:\n",
    "    name = \"Between Quiet level and Alarm Clock level\"\n",
    "elif Decible >70 and Decible <130:\n",
    "    name = \"Between Alarm Clock and Laudest level\"\n",
    "\n",
    "    \n",
    "if name == \"\":\n",
    "    print(\"The entered number is not supported by this programm\")\n",
    "else:\n",
    "    print(\"The entered number is indicating level of \", name)\n"
   ]
  },
  {
   "cell_type": "markdown",
   "id": "628ee8aa",
   "metadata": {},
   "source": [
    "Task 41:\n",
    "Write a program the read the length of three side of triangle and display its type wheather its An isosceles or scalene or equilateral."
   ]
  },
  {
   "cell_type": "code",
   "execution_count": 31,
   "id": "62d245cd",
   "metadata": {},
   "outputs": [
    {
     "name": "stdout",
     "output_type": "stream",
     "text": [
      "Enter first side of triangle: 12\n",
      "Enter first second of triangle: 12\n",
      "Enter first third of triangle: 12\n",
      "The triangle type is:  Equilateral\n"
     ]
    }
   ],
   "source": [
    "a = float(input(\"Enter first side of triangle: \"))\n",
    "b = float(input(\"Enter first second of triangle: \"))\n",
    "c = float(input(\"Enter first third of triangle: \"))\n",
    "name = \"\"\n",
    "if a==b==c:\n",
    "    name = \"Equilateral\"\n",
    "elif a == b or a == c or c == b:\n",
    "    name = \"Isosceles\"\n",
    "else:\n",
    "    name = \"Scalene\"\n",
    "    \n",
    "print(\"The triangle type is: \",name)"
   ]
  },
  {
   "cell_type": "code",
   "execution_count": 32,
   "id": "e79e57e8",
   "metadata": {},
   "outputs": [
    {
     "name": "stdout",
     "output_type": "stream",
     "text": [
      "Enter first side of triangle: 12\n",
      "Enter first second of triangle: 22\n",
      "Enter first third of triangle: 12\n",
      "The triangle type is:  Isosceles\n"
     ]
    }
   ],
   "source": [
    "a = float(input(\"Enter first side of triangle: \"))\n",
    "b = float(input(\"Enter first second of triangle: \"))\n",
    "c = float(input(\"Enter first third of triangle: \"))\n",
    "name = \"\"\n",
    "if a==b==c:\n",
    "    name = \"Equilateral\"\n",
    "elif a == b or a == c or c == b:\n",
    "    name = \"Isosceles\"\n",
    "else:\n",
    "    name = \"Scalene\"\n",
    "    \n",
    "print(\"The triangle type is: \",name)"
   ]
  },
  {
   "cell_type": "code",
   "execution_count": 33,
   "id": "4f79929a",
   "metadata": {},
   "outputs": [
    {
     "name": "stdout",
     "output_type": "stream",
     "text": [
      "Enter first side of triangle: 12\n",
      "Enter first second of triangle: 13\n",
      "Enter first third of triangle: 15\n",
      "The triangle type is:  Scalene\n"
     ]
    }
   ],
   "source": [
    "a = float(input(\"Enter first side of triangle: \"))\n",
    "b = float(input(\"Enter first second of triangle: \"))\n",
    "c = float(input(\"Enter first third of triangle: \"))\n",
    "name = \"\"\n",
    "if a==b==c:\n",
    "    name = \"Equilateral\"\n",
    "elif a == b or a == c or c == b:\n",
    "    name = \"Isosceles\"\n",
    "else:\n",
    "    name = \"Scalene\"\n",
    "    \n",
    "print(\"The triangle type is: \",name)"
   ]
  },
  {
   "cell_type": "markdown",
   "id": "56916017",
   "metadata": {},
   "source": [
    "Task 42:\n",
    "Note to Freqeuncy"
   ]
  },
  {
   "cell_type": "code",
   "execution_count": 41,
   "id": "af928daa",
   "metadata": {},
   "outputs": [
    {
     "name": "stdout",
     "output_type": "stream",
     "text": [
      "Enter the two character note name, such as C4: C4\n",
      "The frequency of C4 is 261.63\n"
     ]
    }
   ],
   "source": [
    "C4_FREQ =261.63 \n",
    "D4_FREQ =293.66\n",
    "E4_FREQ =329.63\n",
    "F4_FREQ =349.23\n",
    "G4_FREQ =392.00\n",
    "A4_FREQ =440.00\n",
    "B4_FREQ =493.88\n",
    "name = input(\"Enter the two character note name, such as C4: \")\n",
    "# Store the note and its octave in seprate variable\n",
    "note = name[0]\n",
    "octave =int(name[1])\n",
    "\n",
    "\n",
    "if note == \"C\":\n",
    "    freq = C4_FREQ\n",
    "elif note == \"D\":\n",
    "    freq = D4_FREQ\n",
    "elif note == \"E\":\n",
    "    freq =E4_FREQ\n",
    "elif note == \"F\":\n",
    "    freq = F4_FREQ\n",
    "elif note == \"G\":\n",
    "    freq =G4_FREQ\n",
    "elif note == \"A\":\n",
    "    freq = A4_FREQ\n",
    "elif note == \"B\":\n",
    "    freq = B4_FREQ\n",
    "    \n",
    "freq = freq / 2**(4-octave)\n",
    "\n",
    "print(\"The frequency of\", name, \"is\", freq)"
   ]
  },
  {
   "cell_type": "markdown",
   "id": "1907c0b3",
   "metadata": {},
   "source": [
    "Task 43:\n",
    "In the previous question you converted from a note's name to its frequency.In this question you will write a program that reserves that process. Begin by reading a frequency form the user. If the frequency is within on Hertz of a value listed in table in the previous question then report the name of the corresponding note. Otherwise report that the frequency does not correspond to a known note. In this exercise you only need to consider the notes listed in the table. There is no need to consider notes from other octaves."
   ]
  },
  {
   "cell_type": "code",
   "execution_count": 42,
   "id": "517cc610",
   "metadata": {},
   "outputs": [
    {
     "name": "stdout",
     "output_type": "stream",
     "text": [
      "Enter a frequency (Hz): 349.23\n",
      "That frequency is F4\n"
     ]
    }
   ],
   "source": [
    "C4_FREQ =261.63 \n",
    "D4_FREQ =293.66\n",
    "E4_FREQ =329.63\n",
    "F4_FREQ =349.23\n",
    "G4_FREQ =392.00\n",
    "A4_FREQ =440.00\n",
    "B4_FREQ =493.88\n",
    "LIMIT = 1\n",
    "# Read the frequency from the user\n",
    "freq = float(input(\"Enter a frequency (Hz): \"))\n",
    "# Determine the note that corresponds to the entered frequency. Set note equal to the empty string if there isn't a match.\n",
    "if freq >= C4_FREQ - LIMIT and freq <= C4_FREQ + LIMIT:\n",
    "    note = \"C4\"\n",
    "elif freq >= D4_FREQ - LIMIT and freq <= D4_FREQ +LIMIT:\n",
    "    note = \"D4\"\n",
    "elif freq >= E4_FREQ - LIMIT and freq <= E4_FREQ +LIMIT:\n",
    "    note = \"E4\"\n",
    "elif freq >= F4_FREQ - LIMIT and freq <= F4_FREQ +LIMIT:\n",
    "    note = \"F4\"\n",
    "elif freq >= G4_FREQ - LIMIT and freq <= G4_FREQ +LIMIT:\n",
    "    note = \"G4\"\n",
    "elif freq >= A4_FREQ - LIMIT and freq <= A4_FREQ +LIMIT:\n",
    "    note = \"A4\"\n",
    "elif freq >= B4_FREQ - LIMIT and freq <= B4_FREQ +LIMIT:\n",
    "    note = \"B4\"\n",
    "else:\n",
    "    note = \"\"\n",
    "    \n",
    "# Display the result, or an appropriate error message.\n",
    "if note==\"\":\n",
    "    print(\"There are no note that corresponds to that frequency.\")\n",
    "else:\n",
    "    print(\"That frequency is\", note)\n"
   ]
  },
  {
   "cell_type": "code",
   "execution_count": 43,
   "id": "6e76e28d",
   "metadata": {},
   "outputs": [
    {
     "name": "stdout",
     "output_type": "stream",
     "text": [
      "Enter a frequency (Hz): 395\n",
      "There are no note that corresponds to that frequency.\n"
     ]
    }
   ],
   "source": [
    "C4_FREQ =261.63 \n",
    "D4_FREQ =293.66\n",
    "E4_FREQ =329.63\n",
    "F4_FREQ =349.23\n",
    "G4_FREQ =392.00\n",
    "A4_FREQ =440.00\n",
    "B4_FREQ =493.88\n",
    "LIMIT = 1\n",
    "# Read the frequency from the user\n",
    "freq = float(input(\"Enter a frequency (Hz): \"))\n",
    "# Determine the note that corresponds to the entered frequency. Set note equal to the empty string if there isn't a match.\n",
    "if freq >= C4_FREQ - LIMIT and freq <= C4_FREQ + LIMIT:\n",
    "    note = \"C4\"\n",
    "elif freq >= D4_FREQ - LIMIT and freq <= D4_FREQ +LIMIT:\n",
    "    note = \"D4\"\n",
    "elif freq >= E4_FREQ - LIMIT and freq <= E4_FREQ +LIMIT:\n",
    "    note = \"E4\"\n",
    "elif freq >= F4_FREQ - LIMIT and freq <= F4_FREQ +LIMIT:\n",
    "    note = \"F4\"\n",
    "elif freq >= G4_FREQ - LIMIT and freq <= G4_FREQ +LIMIT:\n",
    "    note = \"G4\"\n",
    "elif freq >= A4_FREQ - LIMIT and freq <= A4_FREQ +LIMIT:\n",
    "    note = \"A4\"\n",
    "elif freq >= B4_FREQ - LIMIT and freq <= B4_FREQ +LIMIT:\n",
    "    note = \"B4\"\n",
    "else:\n",
    "    note = \"\"\n",
    "    \n",
    "# Display the result, or an appropriate error message.\n",
    "if note==\"\":\n",
    "    print(\"There are no note that corresponds to that frequency.\")\n",
    "else:\n",
    "    print(\"That frequency is\", note)\n"
   ]
  },
  {
   "cell_type": "markdown",
   "id": "f1ab6cb3",
   "metadata": {},
   "source": [
    "Task 44:\n",
    "Faces on Money"
   ]
  },
  {
   "cell_type": "code",
   "execution_count": 45,
   "id": "4d707cbe",
   "metadata": {},
   "outputs": [
    {
     "name": "stdout",
     "output_type": "stream",
     "text": [
      "Enter the number on banknote: 20\n",
      "The given number indicate Andrew Jackson\n"
     ]
    }
   ],
   "source": [
    "Amount =  int(input(\"Enter the number on banknote: \"))\n",
    "face = \"\"\n",
    "if Amount == 1:\n",
    "    face = \"George Washington\"\n",
    "elif Amount ==2:\n",
    "    face = \"Thomas Jefferson\"\n",
    "elif Amount ==5:\n",
    "    face = \"Abraham Lincoln\"\n",
    "elif Amount ==10:\n",
    "    face = \"Alexander Hamilton\"\n",
    "elif Amount == 20:\n",
    "    face = \"Andrew Jackson\"\n",
    "elif Amount == 50:\n",
    "    face = \"Ulysses S. Grant\"\n",
    "elif Amount == 100:\n",
    "    face = \"Benjamin Franklin\"\n",
    "if face == \"\":\n",
    "    print(\"There are no such a banknote existed\")\n",
    "else:\n",
    "    print(\"The given number indicate\", face)\n",
    "    "
   ]
  },
  {
   "cell_type": "code",
   "execution_count": 46,
   "id": "356dd570",
   "metadata": {},
   "outputs": [
    {
     "name": "stdout",
     "output_type": "stream",
     "text": [
      "Enter the number on banknote: 45\n",
      "There are no such a banknote existed\n"
     ]
    }
   ],
   "source": [
    "Amount =  int(input(\"Enter the number on banknote: \"))\n",
    "face = \"\"\n",
    "if Amount == 1:\n",
    "    face = \"George Washington\"\n",
    "elif Amount ==2:\n",
    "    face = \"Thomas Jefferson\"\n",
    "elif Amount ==5:\n",
    "    face = \"Abraham Lincoln\"\n",
    "elif Amount ==10:\n",
    "    face = \"Alexander Hamilton\"\n",
    "elif Amount == 20:\n",
    "    face = \"Andrew Jackson\"\n",
    "elif Amount == 50:\n",
    "    face = \"Ulysses S. Grant\"\n",
    "elif Amount == 100:\n",
    "    face = \"Benjamin Franklin\"\n",
    "if face == \"\":\n",
    "    print(\"There are no such a banknote existed\")\n",
    "else:\n",
    "    print(\"The given number indicate\", face)\n",
    "    "
   ]
  },
  {
   "cell_type": "markdown",
   "id": "18f7b210",
   "metadata": {},
   "source": [
    "Task 45: Date on Holiday name\n",
    "Canada has three national holidays which fall on the same dates each year.\n",
    "Write a program that reads a month and day from the user. If the month and day match one of the holidays listed previosly then your program should display the holiday's name. Otherwise your program should indicate that the entered month and day do not correspond to a fixed date holiday.\n",
    "\n",
    "    "
   ]
  },
  {
   "cell_type": "code",
   "execution_count": 47,
   "id": "b373f336",
   "metadata": {},
   "outputs": [
    {
     "name": "stdout",
     "output_type": "stream",
     "text": [
      "Enter the month and date: January 1\n",
      "New Year's Day\n"
     ]
    }
   ],
   "source": [
    "date = input(\"Enter the month and date: \")\n",
    "if date == \"January 1\":\n",
    "    print(\"New Year's Day\")\n",
    "elif date == \"July 1\":\n",
    "    print(\"Canada Day\")\n",
    "elif date == \" December 25\":\n",
    "    print(\"Christmas Day\")\n",
    "else:\n",
    "    print(\"There are no holyday in this date\")"
   ]
  },
  {
   "cell_type": "markdown",
   "id": "82c7f5c8",
   "metadata": {},
   "source": [
    "Task 46\n",
    "Positions on a chess board are indentified by a letter and a number. The letter indentifies the column, while the number identifies the row.\n",
    "Write a program that reads a position form a user. Use an if statement to determine if the column begins with black square or white square. Then use modulare arithmatic to report the color of square in that row. For example, if the user enters 'a1' then your program should report that the square is black. If the user entere 'd5' then your program should report that the square is white. Your program may assume that a valid position will always be entered. It does not need to perform any error."
   ]
  },
  {
   "cell_type": "code",
   "execution_count": 1,
   "id": "760f3334",
   "metadata": {},
   "outputs": [
    {
     "name": "stdout",
     "output_type": "stream",
     "text": [
      "Enter a position on the chessboard (e.g. a1): f1\n",
      "The square is white.\n"
     ]
    }
   ],
   "source": [
    "position = input(\"Enter a position on the chessboard (e.g. a1): \")\n",
    "column = position[0]\n",
    "row = int(position[1])\n",
    "\n",
    "if (ord(column) + row) % 2 == 0:\n",
    "    print(\"The square is black.\")\n",
    "else:\n",
    "    print(\"The square is white.\")"
   ]
  },
  {
   "cell_type": "code",
   "execution_count": 2,
   "id": "085a04ed",
   "metadata": {},
   "outputs": [
    {
     "name": "stdout",
     "output_type": "stream",
     "text": [
      "Enter a position on the chessboard(e.g.a1):e3\n",
      "The square is white.\n"
     ]
    }
   ],
   "source": [
    "position=input(\"Enter a position on the chessboard(e.g.a1):\")\n",
    "column = position[0]\n",
    "row = int(position[1])\n",
    "if (ord(column)+ row) / 2 == 0:\n",
    "    print(\"The square is black.\")\n",
    "else:\n",
    "    print(\"The square is white.\")"
   ]
  },
  {
   "cell_type": "markdown",
   "id": "f3c13efa",
   "metadata": {},
   "source": [
    "Commnet about 46\n",
    "In the previous code, ord(column) returns the ASCII value of the column character. The ASCII value of the letter 'a' is 97, 'b' is 98, and so on. The ord() function is used to convert the column character to its corresponding ASCII value.\n",
    "The expression (ord(column) + row) % 2 == 0 checks if the sum of the ASCII value of the column character and the row number is even or odd. If the sum is even, then the square is black, otherwise, it is white.\n",
    "For example, if the user enters 'a1', then the ASCII value of 'a' is 97, and the row number is 1. So, (97 + 1) % 2 is equal to 0, which means the square is black.\n",
    "If the user enters 'd5', then the ASCII value of 'd' is 100, and the row number is 5. So, (100 + 5) % 2 is equal to 1, which means the square is white."
   ]
  },
  {
   "cell_type": "markdown",
   "id": "40b8fa9f",
   "metadata": {},
   "source": [
    "Task 47:\n",
    "The year is divided in four seasons: spring, summer, fall and winter. While the exact date that season chage vary a litter bit form year to year because of the way that the calender is constracted, we will use the following dates for this task.\n",
    "\n",
    "season                   First dat\n",
    "Spring                   March 20\n",
    "Summer                   June 21\n",
    "Fall                     September 22\n",
    "Winter                   December 21\n",
    "Create a program that reads a month and day form the user. The user will enter the name of the month as a string, followed by the day within the month as an integer.  Then your program should display the season associated with the date that was entered.\n"
   ]
  },
  {
   "cell_type": "code",
   "execution_count": 8,
   "id": "61200311",
   "metadata": {},
   "outputs": [
    {
     "name": "stdout",
     "output_type": "stream",
     "text": [
      "Enter the name of the month: September\n",
      "Enter the day number: 9\n",
      "September 9 is in Summer\n"
     ]
    }
   ],
   "source": [
    "month = input(\"Enter the name of the month: \")\n",
    "day = int(input(\"Enter the day number: \"))\n",
    "\n",
    "if month==\"January\" or month == \"February\":\n",
    "    season = \"Winter\"\n",
    "elif month ==\"March\":\n",
    "    if day < 20:\n",
    "        season = \"Winter\"\n",
    "    else:\n",
    "        season = \"Spring\"\n",
    "        \n",
    "elif month ==\"April\"or month == \"May\":\n",
    "    season = \"Spring\"\n",
    "elif month == \"June\":\n",
    "    if day < 21:\n",
    "        season = \"Spring\"\n",
    "    else:\n",
    "        season =\"Summer\"\n",
    "\n",
    "elif month==\"July\"or month ==\"August\":\n",
    "    season == \"Summer\"\n",
    "elif month ==\"September\":\n",
    "    if day <22:\n",
    "        season = \"Summer\"\n",
    "    else:\n",
    "        season =\"Fall\"\n",
    "        \n",
    "        \n",
    "elif month ==\"October\"or month == \"November\":\n",
    "    season = \" Winter\"\n",
    "elif month == \"December\":\n",
    "    if day < 21:\n",
    "        season = \"Winter\"\n",
    "    else:\n",
    "        season =\"Spring\"\n",
    "        \n",
    "print(month, day, \"is in\", season)\n",
    "        "
   ]
  },
  {
   "cell_type": "code",
   "execution_count": 9,
   "id": "7714eac2",
   "metadata": {},
   "outputs": [
    {
     "name": "stdout",
     "output_type": "stream",
     "text": [
      "Enter the name of the month: October\n",
      "Enter the day number: 14\n",
      "October 14 is in  Winter\n"
     ]
    }
   ],
   "source": [
    "month = input(\"Enter the name of the month: \")\n",
    "day = int(input(\"Enter the day number: \"))\n",
    "\n",
    "if month==\"January\" or month == \"February\":\n",
    "    season = \"Winter\"\n",
    "elif month ==\"March\":\n",
    "    if day < 20:\n",
    "        season = \"Winter\"\n",
    "    else:\n",
    "        season = \"Spring\"\n",
    "        \n",
    "elif month ==\"April\"or month == \"May\":\n",
    "    season = \"Spring\"\n",
    "elif month == \"June\":\n",
    "    if day < 21:\n",
    "        season = \"Spring\"\n",
    "    else:\n",
    "        season =\"Summer\"\n",
    "\n",
    "elif month==\"July\"or month ==\"August\":\n",
    "    season == \"Summer\"\n",
    "elif month ==\"September\":\n",
    "    if day <22:\n",
    "        season = \"Summer\"\n",
    "    else:\n",
    "        season =\"Fall\"\n",
    "        \n",
    "        \n",
    "elif month ==\"October\"or month == \"November\":\n",
    "    season = \" Winter\"\n",
    "elif month == \"December\":\n",
    "    if day < 21:\n",
    "        season = \"Winter\"\n",
    "    else:\n",
    "        season =\"Spring\"\n",
    "        \n",
    "print(month, day, \"is in\", season)\n",
    "        "
   ]
  },
  {
   "cell_type": "code",
   "execution_count": 14,
   "id": "eed4e5ff",
   "metadata": {},
   "outputs": [
    {
     "name": "stdout",
     "output_type": "stream",
     "text": [
      "Enter the month: September\n",
      "Enter the day: 9\n",
      "September 9 is Summer season\n"
     ]
    }
   ],
   "source": [
    "month = input(\"Enter the month: \")\n",
    "day = int(input(\"Enter the day: \"))\n",
    "\n",
    "if month ==\"January\" or month == \"February\":\n",
    "    season = \"Winter\"\n",
    "elif month == \"March\":\n",
    "    if day < 20:\n",
    "        season =\"Winter\"\n",
    "    else:\n",
    "        season = \"Spirng\"\n",
    "\n",
    "elif month == \"April\" or month == \"May\":\n",
    "    season = \"Spring\"\n",
    "elif month ==\"June\":\n",
    "    if day < 21:\n",
    "        season = \"Spring\"\n",
    "    else:\n",
    "        season =\"Summer\"\n",
    "        \n",
    "elif month == \"July\" or month ==\"August\":\n",
    "    seaon = \"Summer\"\n",
    "elif month ==\"September\":\n",
    "    if day<22:\n",
    "        season = \"Summer\"\n",
    "    else:\n",
    "        season = \"Fall\"\n",
    "    \n",
    "elif month == \"October\" or month == \"November\":\n",
    "    season = \"Fall\"\n",
    "elif month == December:\n",
    "    if day < 21:\n",
    "        season =\"Fall\"\n",
    "    else:\n",
    "        season = \"Winter\"\n",
    "print(month, day, \"is\", season, \"season\")\n",
    "        "
   ]
  },
  {
   "cell_type": "markdown",
   "id": "de2cdda6",
   "metadata": {},
   "source": [
    "Task 48:\n",
    "The horoscopes commonly reported in newspapers use the position of the sun at the time of one's birth to try and predict the future. This system of astrology divides the year into twelve zodiac signs, as outline in table:\n",
    "Capricorn       December 22 to January 19\n",
    "Aquarius        January 20 to February 18\n",
    "Pisces          February 19  to March 20\n",
    "Aries           March 21  to April 20\n",
    "Taurus          April 21 to May 20\n",
    "Gemini          May 21 to June 20\n",
    "Cancer         June 21 to July 22\n",
    "Leo            July 23 to August22\n",
    "Virgo          Ausust 23 to September 22\n",
    "Libra          September 23 to October 21\n",
    "Scorpio        October 23 to Novemer 21 \n",
    "Sagittarius    November 22 to December 21\n"
   ]
  },
  {
   "cell_type": "code",
   "execution_count": 21,
   "id": "e555915b",
   "metadata": {},
   "outputs": [
    {
     "name": "stdout",
     "output_type": "stream",
     "text": [
      "Enter a month: July\n",
      "Enter a day:5\n",
      "July 5 is Cancer\n"
     ]
    }
   ],
   "source": [
    "month = input(\"Enter a month: \")\n",
    "day = int(input(\"Enter a day:\" ))\n",
    "\n",
    "if month == \"December\":\n",
    "    signs = \"Capricon\"\n",
    "    if day > 22:\n",
    "        signs = \"Capricon\"\n",
    "    else:\n",
    "        signs = Safittarius\n",
    "elif month == \"January\":\n",
    "    if day < 19:\n",
    "        signs = \"Capricon\"\n",
    "    else:\n",
    "        signs = \"Aquarius\"\n",
    "        \n",
    "        \n",
    "        \n",
    "elif month ==\"January\":\n",
    "    if day >20:\n",
    "        signes = \"Aquarius\"\n",
    "elif month == \"February\":\n",
    "    if day <18:\n",
    "        signs = \"Aquarius\"\n",
    "    else:\n",
    "        signs = \"Pisces\"\n",
    "\n",
    "elif month == \"February\":\n",
    "    if day >19:\n",
    "        signs = \"Pisces\"\n",
    "elif month == \"March\":\n",
    "    if day < 20:\n",
    "        signs = \"Pisces\"\n",
    "    else:\n",
    "        signs = \"Aries\"\n",
    "        \n",
    "        \n",
    "elif month == \"March\":\n",
    "    if day >= 21:\n",
    "        signs = \"Aries\"\n",
    "elif month == \"April\":\n",
    "    if day < 19:\n",
    "        signs = \"Aries\"\n",
    "    else:\n",
    "        signs = \"Taurus\"\n",
    "        \n",
    "elif month == \"April\":\n",
    "    if day >=20:\n",
    "        signs = \"Taurus\"\n",
    "elif month == \"May\":\n",
    "    if day < 20:\n",
    "        signs = \"Taurus\"\n",
    "\n",
    "    \n",
    "elif month ==\"May\":\n",
    "    if day>= 21:\n",
    "        signs = \"Gemini\"\n",
    "elif month ==\"June\":\n",
    "    if day < 20:\n",
    "        signs = \"Gemini\"\n",
    "        \n",
    "elif month == \"June\":\n",
    "    if day >= 21:\n",
    "        signs = \"Cancer\"\n",
    "elif month == \"July\":\n",
    "    if day < 20:\n",
    "        signs = \"Cancer\"\n",
    "\n",
    "        \n",
    "elif month == \"July\":\n",
    "    if day >=20:\n",
    "        signs = \"Leo\"\n",
    "elif month == \"August\":\n",
    "    if day < 22:\n",
    "        signs = \"Leo\"\n",
    "        \n",
    "elif month == \"August\":\n",
    "    if day >=23:\n",
    "        signs =\"Virgo\"\n",
    "elif month ==\"September\":\n",
    "    if day < 22:\n",
    "        signs = \"Virgo\"\n",
    "\n",
    "        \n",
    "elif month == \"September\":\n",
    "    if day >=23:\n",
    "        signs =\"Liba\"\n",
    "elif month == \"October\":\n",
    "    if day < 22:\n",
    "        signs = \"Libra\"\n",
    "        \n",
    "elif month == \"October\":\n",
    "    if day > 23:\n",
    "        signs = \"Scorpio\"\n",
    "elif month == \" November\":\n",
    "    if day < 21:\n",
    "        signs = \"Scorpio\"\n",
    "\n",
    "elif month ==\"November\":\n",
    "    if day >22:\n",
    "        signs =\"Sagittarius\"\n",
    "elif month == \"December\":\n",
    "    if day < 21:\n",
    "        signs =\"Sagittarius\"\n",
    "          \n",
    "        \n",
    "print(month, day, \"is\", signs)"
   ]
  },
  {
   "cell_type": "markdown",
   "id": "c56d8061",
   "metadata": {},
   "source": [
    "This code is too much long\n",
    "The follwoing code is shorter and has the following explianation\n",
    "\n",
    "Explanation:\n",
    "We create a dictionary zodiac_signs that maps each zodiac sign to a list of month and day ranges.\n",
    "We loop through the items of the dictionary using the items() method.\n",
    "For each item, we check if the input month and day fall within the month and day ranges for that zodiac sign.\n",
    "If there is a match, we assign the zodiac sign to the variable zodiac_sign and exit the loop using the break statement.\n",
    "Finally, we print the input month, day, and zodiac sign.\n",
    "This code is shorter and more readable than the original code, and it can be easily extended to include more zodiac signs or different month and day ranges."
   ]
  },
  {
   "cell_type": "code",
   "execution_count": 28,
   "id": "3bd4bd0c",
   "metadata": {},
   "outputs": [
    {
     "name": "stdout",
     "output_type": "stream",
     "text": [
      "Enter a month: July\n",
      "Enter a day: 5\n",
      "July 5 is Cancer\n"
     ]
    }
   ],
   "source": [
    "import calendar\n",
    "month = input(\"Enter a month: \")\n",
    "day = int(input(\"Enter a day: \"))\n",
    "\n",
    "zodiac_signs = {\n",
    "    \"Capricon\": [(1, 19), (12, 22)],\n",
    "    \"Aquarius\": [(1, 20), (2, 18)],\n",
    "    \"Pisces\": [(2, 19), (3, 20)],\n",
    "    \"Aries\": [(3, 21), (4, 19)],\n",
    "    \"Taurus\": [(4, 20), (5, 20)],\n",
    "    \"Gemini\": [(5, 21), (6, 20)],\n",
    "    \"Cancer\": [(6, 21), (7, 22)],\n",
    "    \"Leo\": [(7, 23), (8, 22)],\n",
    "    \"Virgo\": [(8, 23), (9, 22)],\n",
    "    \"Libra\": [(9, 23), (10, 22)],\n",
    "    \"Scorpio\": [(10, 23), (11, 21)],\n",
    "    \"Sagittarius\": [(11, 22), (12, 21)]\n",
    "}\n",
    "\n",
    "for sign, ranges in zodiac_signs.items():\n",
    "    if (month == calendar.month_name[ranges[0][0]] and day >= ranges[0][1]) or \\\n",
    "       (month == calendar.month_name[ranges[1][0]] and day <= ranges[1][1]):\n",
    "        zodiac_sign = sign\n",
    "        break\n",
    "\n",
    "print(month, day, \"is\", zodiac_sign)"
   ]
  },
  {
   "cell_type": "markdown",
   "id": "314200ea",
   "metadata": {},
   "source": [
    "Task 49\n",
    "The Chinese zodiac assigns animals to year in a 12 year cycle. One 12 cycle is shown in the table below. The pattern repeats from there, with 2012 being another year of the dragon, and 1999 being year of the Hare.\n",
    " Year    Animal\n",
    " 2000    Dragon\n",
    " 2001    Snake\n",
    " 2002    Horse\n",
    " 2003    Sheep\n",
    " 2004    Monkey\n",
    " 2005    Rooster\n",
    " 2006    Dog\n",
    " 2007    Pig\n",
    " 2008    Rat\n",
    " 2009    Ox\n",
    " 2010    Tiger\n",
    " 2011    Hare\n",
    " \n",
    " Write a porgram that reads a year from ther user and displays the animal associated with that year. Your program should work correctly for any year greater than or equal to zero, not just the ones listed in the table.\n"
   ]
  },
  {
   "cell_type": "code",
   "execution_count": 33,
   "id": "299e43d5",
   "metadata": {},
   "outputs": [
    {
     "name": "stdout",
     "output_type": "stream",
     "text": [
      "Enter a year: 1994\n",
      "The inserted 1994 is Dog\n"
     ]
    }
   ],
   "source": [
    "year = int(input(\"Enter a year: \"))\n",
    "if year %12 ==8:\n",
    "    animal = \"Dragon\"\n",
    "elif year % 12 == 9:\n",
    "    animal =\"Snake\"\n",
    "elif year % 12 ==10:\n",
    "    animal = \"Horse\"\n",
    "elif year % 12 == 11:\n",
    "    animal = \"Sheep\"\n",
    "elif year % 12 == 0:\n",
    "    animal = \"Monkey\"\n",
    "elif year %12 == 1:\n",
    "    animal = \"Rooster\"\n",
    "elif year % 12 ==2:\n",
    "    animal = \"Dog\"\n",
    "elif year % 12 ==3:\n",
    "    animal = \"Pig\"\n",
    "elif year % 12 ==4:\n",
    "    animal = \"Rat\"\n",
    "elif year %12==5:\n",
    "    animal = \"Ox\"\n",
    "elif year %12 ==6:\n",
    "    animal = \"Tiger\"\n",
    "elif year %12 == 7:\n",
    "    animal =\"Hare\"\n",
    "    \n",
    "print(\"The inserted\", year,\"is\",animal)"
   ]
  },
  {
   "cell_type": "markdown",
   "id": "d1196584",
   "metadata": {},
   "source": [
    "The two following codes are the shorter formate of my code but its output is not the same as my code. \n",
    "You have to find the problem where is the probelms and how it works.\n",
    "\n",
    "Hint:\n",
    "Explanation:\n",
    "We create a list zodiac_animals that contains the zodiac animals in order.\n",
    "We calculate the index of the animal based on the input year using the formula (year - 4) % 12. This formula works because the zodiac cycle starts with the year of the Rat, which is 4 in the modulo 12 system. So we subtract 4 from the input year to align it with the zodiac cycle, and then take the modulo 12 to get the index of the animal in the list.\n",
    "We assign the zodiac animal to the variable animal using the calculated index.\n",
    "Finally, we print the input year and zodiac animal.\n",
    "This code is shorter and more efficient than the original code, and it can be easily extended to include more zodiac animals or different starting years."
   ]
  },
  {
   "cell_type": "code",
   "execution_count": 38,
   "id": "a5dc68fd",
   "metadata": {},
   "outputs": [
    {
     "name": "stdout",
     "output_type": "stream",
     "text": [
      "Enter a year: 1994\n",
      "The inserted 1994 is Horse\n"
     ]
    }
   ],
   "source": [
    "year = int(input(\"Enter a year: \"))\n",
    "\n",
    "zodiac_animals = [\"Monkey\", \"Rooster\", \"Dog\", \"Pig\", \"Rat\", \"Ox\", \"Tiger\", \"Hare\", \"Dragon\", \"Snake\", \"Horse\", \"Sheep\"]\n",
    "animal_index = (year - 4) % 12\n",
    "animal = zodiac_animals[animal_index]\n",
    "\n",
    "print(\"The inserted\", year, \"is\", animal)"
   ]
  },
  {
   "cell_type": "code",
   "execution_count": 37,
   "id": "ee27c817",
   "metadata": {},
   "outputs": [
    {
     "name": "stdout",
     "output_type": "stream",
     "text": [
      "Enter a year: 1994\n",
      "The inserted 1994 is Horse\n"
     ]
    }
   ],
   "source": [
    "year = int(input(\"Enter a year: \"))\n",
    "zodiac_signs = {\n",
    "    0: \"Monkey\", 1: \"Rooster\", 2: \"Dog\", 3: \"Pig\", 4: \"Rat\", 5: \"Ox\",\n",
    "    6: \"Tiger\", 7: \"Rabbit\", 8: \"Dragon\", 9: \"Snake\", 10: \"Horse\", 11: \"Sheep\"\n",
    "}\n",
    "animal = zodiac_signs[(year - 4) % 12]\n",
    "print(f\"The inserted {year} is {animal}\")"
   ]
  },
  {
   "cell_type": "code",
   "execution_count": 2,
   "id": "c6f68b4e",
   "metadata": {},
   "outputs": [
    {
     "name": "stdout",
     "output_type": "stream",
     "text": [
      "Enter a year: 1994\n",
      "The inserted 1994 is Dog\n"
     ]
    }
   ],
   "source": [
    "year = int(input(\"Enter a year: \"))\n",
    "\n",
    "zodiac_animals = [\"Monkey\", \"Rooster\", \"Dog\", \"Pig\", \"Rat\", \"Ox\", \"Tiger\", \"Hare\", \"Dragon\", \"Snake\", \"Horse\", \"Sheep\"]\n",
    "animal_index = (year) % 12\n",
    "animal = zodiac_animals[animal_index]\n",
    "\n",
    "print(\"The inserted\", year, \"is\", animal)"
   ]
  },
  {
   "cell_type": "code",
   "execution_count": 3,
   "id": "f3b201dd",
   "metadata": {},
   "outputs": [
    {
     "name": "stdout",
     "output_type": "stream",
     "text": [
      "Enter a year: 1994\n",
      "The inserted 1994 is Dog\n"
     ]
    }
   ],
   "source": [
    "year = int(input(\"Enter a year: \"))\n",
    "zodiac_signs = {\n",
    "    0: \"Monkey\", 1: \"Rooster\", 2: \"Dog\", 3: \"Pig\", 4: \"Rat\", 5: \"Ox\",\n",
    "    6: \"Tiger\", 7: \"Rabbit\", 8: \"Dragon\", 9: \"Snake\", 10: \"Horse\", 11: \"Sheep\"\n",
    "}\n",
    "animal = zodiac_signs[year % 12]\n",
    "print(f\"The inserted {year} is {animal}\")"
   ]
  },
  {
   "cell_type": "markdown",
   "id": "13f93f26",
   "metadata": {},
   "source": [
    "Task 50:\n",
    "The following table contains earthquack magnitude ranges on the Richter scale and their descriptors:\n",
    "Magnitude                Descriptor\n",
    "Less than 2.0             Micro\n",
    "2.0 to less than 3.0     Very Minor\n",
    "3.0 to less than 4.0     Minor\n",
    "4.0 to less than 5.0     Light\n",
    "5.0 to less than 6.0     Moderate\n",
    "6.0 to less than 7.0     Strong\n",
    "7.0 to less than 8.0     Majore\n",
    "8.0 to less than 10.0    Great\n",
    "10.0 or more             Meteoric\n",
    "\n",
    "Write a program that reads a magnitude from the user and displays the appropriate descriptor as part of a meaningful message. For example, if the user enters 5.5 then your program should display that a magnitude 5.5 earthquack is considered to be a moderate earthquack."
   ]
  },
  {
   "cell_type": "code",
   "execution_count": 11,
   "id": "7be24987",
   "metadata": {},
   "outputs": [
    {
     "name": "stdout",
     "output_type": "stream",
     "text": [
      "Enter the earthquack magnitude: 4\n",
      "A magnitude 4.0 is considered as Light\n"
     ]
    }
   ],
   "source": [
    "magnitude = float(input(\"Enter the earthquack magnitude: \"))\n",
    "if 0.0<magnitude<2.0:\n",
    "    print(\"A magnitude\", magnitude,\"is considered as Micro\")\n",
    "elif 2.0<= magnitude<3.0:\n",
    "    print(\"A magnitude\", magnitude,\"is considered as Very Minor\")\n",
    "elif 3.0<=magnitude<4.0:\n",
    "    print(\"A magnitude\", magnitude,\"is considered as Minor\")\n",
    "elif 4.0<= magnitude <5.0:\n",
    "    print(\"A magnitude\", magnitude,\"is considered as Light\")\n",
    "elif 5.0<= magnitude <6.0:\n",
    "    print(\"A magnitude\", magnitude,\"is considered as Moderate\")\n",
    "elif 6.0<=magnitude<7.0:\n",
    "    print(\"A magnitude\", magnitude,\"is considered as Strong\")\n",
    "elif 7.0<=magnitude <8.0:\n",
    "    print(\"A magnitude\", magnitude,\"is considered as Major\")\n",
    "elif 8.0<=magnitude < 10.0:\n",
    "    print(\"A magnitude\", magnitude,\"is considered as Great\")\n",
    "elif magnitude>=10:\n",
    "    print(\"A magnitude\", magnitude,\"is considered as Miteoric\")"
   ]
  },
  {
   "cell_type": "code",
   "execution_count": 9,
   "id": "af8b5eb7",
   "metadata": {},
   "outputs": [
    {
     "name": "stdout",
     "output_type": "stream",
     "text": [
      "Enter the earthquack magnitude: 3\n",
      "A magnitude 3.0 is considered as Minor\n"
     ]
    }
   ],
   "source": [
    "magnitude = float(input(\"Enter the earthquack magnitude: \"))\n",
    "if 0.0<magnitude<2.0:\n",
    "    print(\"A magnitude\", magnitude,\"is considered as Micro\")\n",
    "elif 2.0<= magnitude<3.0:\n",
    "    print(\"A magnitude\", magnitude,\"is considered as Very Minor\")\n",
    "elif 3.0<=magnitude<4.0:\n",
    "    print(\"A magnitude\", magnitude,\"is considered as Minor\")\n",
    "elif 4.0<= magnitude <5.0:\n",
    "    print(\"A magnitude\", magnitude,\"is considered as Light\")\n",
    "elif 5.0<= magnitude <6.0:\n",
    "    print(\"A magnitude\", magnitude,\"is considered as Moderate\")\n",
    "elif 6.0<=magnitude<7.0:\n",
    "    print(\"A magnitude\", magnitude,\"is considered as Strong\")\n",
    "elif 7.0<=magnitude <8.0:\n",
    "    print(\"A magnitude\", magnitude,\"is considered as Major\")\n",
    "elif 8.0<=magnitude < 10.0:\n",
    "    print(\"A magnitude\", magnitude,\"is considered as Great\")\n",
    "elif magnitude>=10:\n",
    "    print(\"A magnitude\", magnitude,\"is considered as Miteoric\")"
   ]
  },
  {
   "cell_type": "markdown",
   "id": "58fe798e",
   "metadata": {},
   "source": [
    "Task 51:Roots of a quadratic function\n",
    "Write a program that computes the real roots of a quadratic function. Your program should begin by prompting the user for the values of a , b , and, c. Then it should display a message indicating the number of real roots, along with the values of the real roots(if any).\n",
    "$$ f(x) = ax**2 + bx + c  $$\n",
    "$root1 = (-b+sqrt(b**2-4ac))/2a$                       \n",
    "\n",
    "$root2 = (-b-sqrt(b**2-4ac))/2a$\n",
    "\n",
    "\n",
    "\n"
   ]
  },
  {
   "cell_type": "code",
   "execution_count": 13,
   "id": "e49d5606",
   "metadata": {},
   "outputs": [
    {
     "name": "stdout",
     "output_type": "stream",
     "text": [
      "Enter a non zero value for a: 1\n",
      "Enter a non zero value for b: 7\n",
      "Enter a non zero value for c: 12\n",
      "The quadratic function has one root which is:  -3.0 -4.0\n"
     ]
    }
   ],
   "source": [
    "from math import sqrt\n",
    "a = float(input(\"Enter a non zero value for a: \"))\n",
    "b = float(input(\"Enter a non zero value for b: \"))\n",
    "c = float(input(\"Enter a non zero value for c: \"))\n",
    "d = b**2 - 4*a*c\n",
    "root1 = (-b + sqrt(b**2-4*a*c))/2*a \n",
    "if d ==0:\n",
    "    print(\"The quadratic function has one root which is: \", root1)\n",
    "elif d >0:\n",
    "    root2 = (-b - sqrt(b**2-4*a*c))/2*a\n",
    "    print(\"The quadratic function has one root which is: \", root1,root2)\n",
    "elif d < 0 :\n",
    "    print(\"This quadratic function has no real root\")\n",
    "    "
   ]
  },
  {
   "cell_type": "code",
   "execution_count": 18,
   "id": "54c474b9",
   "metadata": {},
   "outputs": [
    {
     "name": "stdout",
     "output_type": "stream",
     "text": [
      "Enter a non zero value for a: 6\n",
      "Enter a non zero value for b: 8\n",
      "Enter a non zero value for c: 12\n"
     ]
    },
    {
     "ename": "ValueError",
     "evalue": "math domain error",
     "output_type": "error",
     "traceback": [
      "\u001b[1;31m---------------------------------------------------------------------------\u001b[0m",
      "\u001b[1;31mValueError\u001b[0m                                Traceback (most recent call last)",
      "Cell \u001b[1;32mIn[18], line 6\u001b[0m\n\u001b[0;32m      4\u001b[0m c \u001b[38;5;241m=\u001b[39m \u001b[38;5;28mfloat\u001b[39m(\u001b[38;5;28minput\u001b[39m(\u001b[38;5;124m\"\u001b[39m\u001b[38;5;124mEnter a non zero value for c: \u001b[39m\u001b[38;5;124m\"\u001b[39m))\n\u001b[0;32m      5\u001b[0m d \u001b[38;5;241m=\u001b[39m b\u001b[38;5;241m*\u001b[39m\u001b[38;5;241m*\u001b[39m\u001b[38;5;241m2\u001b[39m \u001b[38;5;241m-\u001b[39m \u001b[38;5;241m4\u001b[39m\u001b[38;5;241m*\u001b[39ma\u001b[38;5;241m*\u001b[39mc\n\u001b[1;32m----> 6\u001b[0m root1 \u001b[38;5;241m=\u001b[39m (\u001b[38;5;241m-\u001b[39mb \u001b[38;5;241m+\u001b[39m sqrt(b\u001b[38;5;241m*\u001b[39m\u001b[38;5;241m*\u001b[39m\u001b[38;5;241m2\u001b[39m\u001b[38;5;241m-\u001b[39m\u001b[38;5;241m4\u001b[39m\u001b[38;5;241m*\u001b[39ma\u001b[38;5;241m*\u001b[39mc))\u001b[38;5;241m/\u001b[39m\u001b[38;5;241m2\u001b[39m\u001b[38;5;241m*\u001b[39ma \n\u001b[0;32m      7\u001b[0m \u001b[38;5;28;01mif\u001b[39;00m d \u001b[38;5;241m==\u001b[39m\u001b[38;5;241m0\u001b[39m:\n\u001b[0;32m      8\u001b[0m     \u001b[38;5;28mprint\u001b[39m(\u001b[38;5;124m\"\u001b[39m\u001b[38;5;124mThe quadratic function has one root which is: \u001b[39m\u001b[38;5;124m\"\u001b[39m, root1)\n",
      "\u001b[1;31mValueError\u001b[0m: math domain error"
     ]
    }
   ],
   "source": [
    "from math import sqrt\n",
    "a = float(input(\"Enter a non zero value for a: \"))\n",
    "b = float(input(\"Enter a non zero value for b: \"))\n",
    "c = float(input(\"Enter a non zero value for c: \"))\n",
    "d = b**2 - 4*a*c\n",
    "root1 = (-b + sqrt(b**2-4*a*c))/2*a \n",
    "if d ==0:\n",
    "    print(\"The quadratic function has one root which is: \", root1)\n",
    "elif d >0:\n",
    "    root2 = (-b - sqrt(b**2-4*a*c))/2*a\n",
    "    print(\"The quadratic function has tow roots:\",\"x1=\" ,root1,\" \"\"x2=\",root2)\n",
    "elif d < 0 :\n",
    "    print(\"This quadratic function has no real root\")\n",
    "# When the discriminant is negative then you will face with this error to solve it you have to redefine your program"
   ]
  },
  {
   "cell_type": "code",
   "execution_count": 25,
   "id": "970ace80",
   "metadata": {},
   "outputs": [
    {
     "name": "stdout",
     "output_type": "stream",
     "text": [
      "Enter a non zero value for a: 1\n",
      "Enter a non zero value for b: 7\n",
      "Enter a non zero value for c: 12\n",
      "The quadratic function has two roots which are:  -3.0 and -4.0\n"
     ]
    }
   ],
   "source": [
    "a = float(input(\"Enter a non zero value for a: \"))\n",
    "b = float(input(\"Enter a non zero value for b: \"))\n",
    "c = float(input(\"Enter a non zero value for c: \"))\n",
    "d = b**2 - 4*a*c\n",
    "if d <0:\n",
    "    print(\"The quadratic function has no real roots\")\n",
    "else:\n",
    "    root1 = ((-b+sqrt(d))/(2*a))\n",
    "    root2 = ((-b-sqrt(d))/(2*a))\n",
    "    if d == 0:\n",
    "        print(\"The quadratic function has one root which is: \", root1)\n",
    "    else:\n",
    "        print(\"The quadratic function has two roots which are: \", root1, \"and\", root2)"
   ]
  },
  {
   "cell_type": "markdown",
   "id": "92fb4f87",
   "metadata": {},
   "source": [
    "Task 52:\n",
    "Latte Grade Points\n",
    "At a particular university, letter grades are mapped to grade points in the following manner.\n",
    "Letter   Grade Points\n",
    "A+       4.0\n",
    "A        4.0\n",
    "A-       3.7\n",
    "B+       3.3\n",
    "B        3.0\n",
    "B-       2.7\n",
    "C+       2.3\n",
    "C        2.0\n",
    "C-       1.7\n",
    "D+       1.3\n",
    "D        1.0\n",
    "F         0\n",
    "Write a program that begins by reading aletter grade from user. Then your program should compute and display the equivalent number of grade points. Ensure that your program generates an appropriate error message if the user enters an invalid letter grade."
   ]
  },
  {
   "cell_type": "code",
   "execution_count": 2,
   "id": "2341f7a6",
   "metadata": {},
   "outputs": [
    {
     "name": "stdout",
     "output_type": "stream",
     "text": [
      "Enter a latter: C-\n",
      "Your corresponding number is 1.7\n"
     ]
    }
   ],
   "source": [
    "latter = input(\"Enter a latter: \")\n",
    "if latter == 'A+' or latter =='A':\n",
    "    print(\"Your corresponding number is 4\")\n",
    "elif latter =='A-':\n",
    "    print(\"Your corresponding number is 3.7\")\n",
    "elif latter =='B+':\n",
    "    print(\"Your corresponding number is 3.3\")\n",
    "elif latter =='B':\n",
    "    print(\"Your corresponding number is 3.0\")\n",
    "elif latter =='B-':\n",
    "    print(\"Your corresponding number is 2.7\")\n",
    "elif latter =='C+':\n",
    "    print(\"Your corresponding number is 2.3\")\n",
    "elif latter =='C':\n",
    "    print(\"Your corresponding number is 2.0\")\n",
    "elif latter =='C-':\n",
    "    print(\"Your corresponding number is 1.7\")\n",
    "elif latter =='D+':\n",
    "    print(\"Your corresponding number is 1.3\")\n",
    "elif latter =='D':\n",
    "    print(\"Your corresponding number is 1\")\n",
    "elif latter =='F':\n",
    "    print(\"Your corresponding number is 0\")\n",
    "else:\n",
    "    print(\"The entered latter does not correspond the system try again.\")\n",
    "    "
   ]
  },
  {
   "cell_type": "code",
   "execution_count": 3,
   "id": "9811a71a",
   "metadata": {},
   "outputs": [
    {
     "name": "stdout",
     "output_type": "stream",
     "text": [
      "Enter a letter: A-\n",
      "Your corresponding number is 3.7\n"
     ]
    }
   ],
   "source": [
    "# THE SHORTER FORM OF THIS CODE BY USING DICTIONARY COULD BE LIKE THIS:\n",
    "grades = {\n",
    "    'A+': 4.0, 'A': 4.0, 'A-': 3.7, 'B+': 3.3, 'B': 3.0, 'B-': 2.7, 'C+': 2.3,\n",
    "          'C': 2.0, 'C-': 1.7, 'D+': 1.3, 'D': 1.0, 'F': 0.0}\n",
    "\n",
    "letter = input(\"Enter a letter: \")\n",
    "if letter in grades:\n",
    "    print(f\"Your corresponding number is {grades[letter]}\")\n",
    "else:\n",
    "    print(\"The entered letter does not correspond to the system. Please try again.\")"
   ]
  },
  {
   "cell_type": "code",
   "execution_count": 9,
   "id": "6ac62583",
   "metadata": {},
   "outputs": [
    {
     "name": "stdout",
     "output_type": "stream",
     "text": [
      "Enter a letter: C\n",
      "Your corresponding number is 2.0\n"
     ]
    }
   ],
   "source": [
    "grades = {\n",
    "    'A+': 4.0, 'A':4.0, 'A-':3.7 , 'B+': 3.3 , 'B':3.0,\n",
    "    'B-': 2.7, 'C+': 2.3,\n",
    "          'C': 2.0, 'C-': 1.7, 'D+': 1.3, 'D': 1.0, 'F': 0.0\n",
    "    \n",
    "}\n",
    "letter = input(\"Enter a letter: \").upper()\n",
    "if letter in grades:\n",
    "    print(f\"Your corresponding number is {grades[letter]}\")\n",
    "else:\n",
    "    print(\"The entered letter does not correspond to the system.\")\n"
   ]
  },
  {
   "cell_type": "markdown",
   "id": "2a679e4d",
   "metadata": {},
   "source": [
    "Exercise 53: Grade Points to Letter Grade\n",
    "\n",
    "In the previous exercise you created a program that converted a letter grade into the\n",
    "equivalent number of grade points. In this exercise you will create a program that\n",
    "reverses the process and converts from a grade point value entered by the user to a\n",
    "letter grade. Ensure that your program handles grade point values that fall between\n",
    "letter grades. These should be rounded to the closest letter grade. Your program\n",
    "should report A+ if the value entered by the user is 4.0 or more."
   ]
  },
  {
   "cell_type": "code",
   "execution_count": 12,
   "id": "13840885",
   "metadata": {},
   "outputs": [
    {
     "name": "stdout",
     "output_type": "stream",
     "text": [
      "Enter a latter: 1.99\n",
      "Your corresponding number is C\n"
     ]
    }
   ],
   "source": [
    "number = float(input(\"Enter a latter: \"))\n",
    "if number==0.0:\n",
    "    print(\"Your corresponding letter is F\")\n",
    "elif 0<number <=1.0:\n",
    "    print(\"Your corresponding number is D\")\n",
    "elif 1<number <=1.3:\n",
    "    print(\"Your corresponding number is D+\")\n",
    "elif 1.3<number <=1.7:\n",
    "    print(\"Your corresponding number is C-\")\n",
    "elif 1.7<number <=2:\n",
    "    print(\"Your corresponding number is C\")\n",
    "elif 2<number <=2.3:\n",
    "    print(\"Your corresponding number is C+\")\n",
    "elif 2.3<number <=2.7:\n",
    "    print(\"Your corresponding number is B-\")\n",
    "elif 2.7<number <=3.0:\n",
    "    print(\"Your corresponding number is B\")\n",
    "elif 3.0<number <=3.3:\n",
    "    print(\"Your corresponding number is B+\")\n",
    "elif 3.3<number <=3.7:\n",
    "    print(\"Your corresponding number is A-\")\n",
    "elif 3.7<number <=4.0:\n",
    "    print(\"Your corresponding number is A OR A+\")\n",
    "else:\n",
    "    print(\"The entered latter does not correspond the system try again.\")\n",
    "    "
   ]
  },
  {
   "cell_type": "markdown",
   "id": "c854de40",
   "metadata": {},
   "source": [
    "Task 54:\n",
    "\n",
    "At a particular company, employees are rated at the end of each year. The rating scale\n",
    "begins at 0.0, with higher values indicating better performance and resulting in larger\n",
    "raises. The value awarded to an employee is either 0.0, 0.4, or 0.6 or more. Values\n",
    "between 0.0 and 0.4, and between 0.4 and 0.6 are never used. The meaning associated\n",
    "with each rating is shown in the following table. The amount of an employee’s raise\n",
    "is $2,400.00 multiplied by their rating.\n",
    "\n",
    "Rating        Meaning\n",
    "0.0           Unacceptable Performance\n",
    "0.4           Acceptable Performance\n",
    "0.6           or more Meritorious Performance\n",
    "\n",
    "Write a program that reads a rating from the user and indicates whether the performance for that rating is unacceptable, acceptable or meritorious. The amount\n",
    "of the employee’s raise should also be reported. Your program should display an\n",
    "appropriate error message if an invalid rating is entered."
   ]
  },
  {
   "cell_type": "code",
   "execution_count": 16,
   "id": "298f4a4f",
   "metadata": {},
   "outputs": [
    {
     "name": "stdout",
     "output_type": "stream",
     "text": [
      "Enter rating the employees: 0.9\n",
      "The mentioned employee performance is meritorious\n",
      "The amount of raising is, 2160.0\n"
     ]
    }
   ],
   "source": [
    "Rating = float(input(\"Enter rating the employees: \"))\n",
    "Raising = Rating * 2400\n",
    "if Rating ==0.0:\n",
    "    print(\"The mentioned employee performance is unacceptable\")\n",
    "elif Rating ==0.4:\n",
    "    print(\"The mentioned employee performance is acceptable\")\n",
    "    print(f\"The amount of raising is, {Raising}\")\n",
    "elif Rating >=0.6:\n",
    "    print(\"The mentioned employee performance is meritorious\")\n",
    "    print(f\"The amount of raising is, {Raising}\")"
   ]
  },
  {
   "cell_type": "code",
   "execution_count": 29,
   "id": "5f2ff96b",
   "metadata": {},
   "outputs": [
    {
     "name": "stdout",
     "output_type": "stream",
     "text": [
      "Enter rating the employees: 0.987\n",
      "The mentioned employee performance is meritorious\n",
      "The amount of raising is: 2368.80 $\n"
     ]
    }
   ],
   "source": [
    "Rating = float(input(\"Enter rating the employees: \"))\n",
    "Raising = (Rating * 2400)\n",
    "if Rating ==0.0:\n",
    "    print(\"The mentioned employee performance is unacceptable\")\n",
    "elif Rating ==0.4:\n",
    "    print(\"The mentioned employee performance is acceptable\")\n",
    "    print(f\"The amount of raising is, {Raising}\")\n",
    "elif Rating >=0.6:\n",
    "    print(\"The mentioned employee performance is meritorious\")\n",
    "    print(\"The amount of raising is: %5.2f $\" %Raising)\n",
    "else:\n",
    "    print(\"That was not a valid rating\")"
   ]
  },
  {
   "cell_type": "code",
   "execution_count": 30,
   "id": "597f6d27",
   "metadata": {},
   "outputs": [
    {
     "name": "stdout",
     "output_type": "stream",
     "text": [
      "Enter rating the employees: 0.234\n",
      "That was not a valid rating\n"
     ]
    }
   ],
   "source": [
    "Rating = float(input(\"Enter rating the employees: \"))\n",
    "Raising = (Rating * 2400)\n",
    "if Rating ==0.0:\n",
    "    print(\"The mentioned employee performance is unacceptable\")\n",
    "elif Rating ==0.4:\n",
    "    print(\"The mentioned employee performance is acceptable\")\n",
    "    print(f\"The amount of raising is, {Raising}\")\n",
    "elif Rating >=0.6:\n",
    "    print(\"The mentioned employee performance is meritorious\")\n",
    "    print(\"The amount of raising is: %5.2f $\" %Raising)\n",
    "else:\n",
    "    print(\"That was not a valid rating\")"
   ]
  },
  {
   "cell_type": "markdown",
   "id": "ba0aee0a",
   "metadata": {},
   "source": [
    "Task55:Wavelengths of Visible Light\n",
    "\n",
    "The wavelength of visible light ranges from 380 to 750 nanometers (nm). While the\n",
    "spectrum is continuous, it is often divided into 6 colors as shown below: \n",
    "Color        Wavelength (nm)\n",
    "Violet       380 to less than 450\n",
    "Blue         450 to less than 495\n",
    "Green        495 to less than 570\n",
    "Yellow       570 to less than 590\n",
    "Orange       590 to less than 620\n",
    "Red          620 to 750\n",
    "Write a program that reads a wavelength from the user and reports its color. Display\n",
    "an appropriate error message if the wavelength entered by the user is outside of the\n",
    "visible spectrum."
   ]
  },
  {
   "cell_type": "code",
   "execution_count": 31,
   "id": "2474128e",
   "metadata": {},
   "outputs": [
    {
     "name": "stdout",
     "output_type": "stream",
     "text": [
      "Enter a latter: 400\n",
      "The wave color is Violet\n"
     ]
    }
   ],
   "source": [
    "Wavelength_in_nm = int(input(\"Enter a latter: \"))\n",
    "if 380<=Wavelength_in_nm <450:\n",
    "    print(\"The wave color is Violet\")\n",
    "elif 450<=number <495:\n",
    "    print(\"The wave color is Blue\")\n",
    "elif 495<=number <570:\n",
    "    print(\"The wave color is Green\")\n",
    "elif 570<=number <590:\n",
    "    print(\"The wave color is Yellow\")\n",
    "elif 590<=number <620:\n",
    "    print(\"The wave color is Orange\")\n",
    "elif 620<=number <750:\n",
    "    print(\"The wave color is Red\")\n",
    "else:\n",
    "    print(\"The entered latter does not correspond the system try again.\")\n",
    "    "
   ]
  },
  {
   "cell_type": "code",
   "execution_count": 33,
   "id": "00776ab5",
   "metadata": {},
   "outputs": [
    {
     "name": "stdout",
     "output_type": "stream",
     "text": [
      "Enter the wavelength in nm: 400\n",
      "The wave color is Violet.\n"
     ]
    }
   ],
   "source": [
    "# Shorter version\n",
    "\n",
    "wavelength = int(input(\"Enter the wavelength in nm: \"))\n",
    "\n",
    "if 380 <= wavelength < 450:\n",
    "    color = \"Violet\"\n",
    "elif 450 <= wavelength < 495:\n",
    "    color = \"Blue\"\n",
    "elif 495 <= wavelength < 570:\n",
    "    color = \"Green\"\n",
    "elif 570 <= wavelength < 590:\n",
    "    color = \"Yellow\"\n",
    "elif 590 <= wavelength < 620:\n",
    "    color = \"Orange\"\n",
    "elif 620 <= wavelength < 750:\n",
    "    color = \"Red\"\n",
    "else:\n",
    "    print(\"The entered wavelength does not correspond to the system. Please try again.\")\n",
    "    exit()\n",
    "\n",
    "print(f\"The wave color is {color}.\")"
   ]
  },
  {
   "cell_type": "markdown",
   "id": "b7724c4a",
   "metadata": {},
   "source": [
    "Task 56\n",
    "Electromagnetic radiation can be classified into one of 7 categories according to its\n",
    "frequency, as shown in the table below:\n",
    "\n",
    "Name                       Frequency Range (Hz)\n",
    "Radio Waves                Less than 3 × 109\n",
    "Microwaves                 3 × 109 to less than 3 × 1012\n",
    "Infrared Light             3 × 1012 to less than 4.3 × 1014\n",
    "Visible Light              4.3 × 1014 to less than 7.5 × 1014\n",
    "Ultraviolet Light          7.5 × 1014 to less than 3 × 1017\n",
    "X-Rays                     3 × 1017 to less than 3 × 1019\n",
    "Gamma Rays                 3 × 1019 or more\n",
    "\n",
    "Write a program that reads the frequency of some radiation from the user and\n",
    "displays name of the radiation as part of an appropriate message."
   ]
  },
  {
   "cell_type": "code",
   "execution_count": 32,
   "id": "fd92061b",
   "metadata": {},
   "outputs": [
    {
     "name": "stdout",
     "output_type": "stream",
     "text": [
      "Enter the frequency of the radiation: 3e11\n",
      "The radiation is classified as Microwaves.\n"
     ]
    }
   ],
   "source": [
    "frequency = float(input(\"Enter the frequency of the radiation: \"))\n",
    "# 3*10**9 = 3e9\n",
    "if frequency < 3e9:\n",
    "    name = \"Radio Waves\"\n",
    "elif frequency < 3e12:\n",
    "    name = \"Microwaves\"\n",
    "elif frequency < 4.3e14:\n",
    "    name = \"Infrared Light\"\n",
    "elif frequency < 7.5e14:\n",
    "    name = \"Visible Light\"\n",
    "elif frequency < 3e17:\n",
    "    name = \"Ultraviolet Light\"\n",
    "elif frequency < 3e19:\n",
    "    name = \"X-Rays\"\n",
    "else:\n",
    "    name = \"Gamma Rays\"\n",
    "\n",
    "print(f\"The radiation is classified as {name}.\")\n",
    "    "
   ]
  },
  {
   "cell_type": "markdown",
   "id": "ec4b9547",
   "metadata": {},
   "source": [
    "Exercise 57: Cell Phone Bill\n",
    "A particular cell phone plan includes 50 minutes of air time and 50 text messages\n",
    "for $15.00 a month. Each additional minute of air time costs $0.25, while additional\n",
    "text messages cost $0.15 each. All cell phone bills include an additional charge of\n",
    "$0.44 to support 911 call centers, and the entire bill (including the 911 charge) is\n",
    "subject to 5 percent sales tax.\n",
    "\n",
    "Write a program that reads the number of minutes and text messages used in a\n",
    "month from the user. Display the base charge, additional minutes charge (if any),\n",
    "additional text message charge (if any), the 911 fee, tax and total bill amount. Only\n",
    "display the additional minute and text message charges if the user incurred costs in\n",
    "these categories. Ensure that all of the charges are displayed using 2 decimal places."
   ]
  },
  {
   "cell_type": "code",
   "execution_count": 1,
   "id": "12b89eac",
   "metadata": {},
   "outputs": [
    {
     "name": "stdout",
     "output_type": "stream",
     "text": [
      "Enter the number of minutes used: 56\n",
      "Enter the number of text messages used: 67\n",
      "Base charge: $15.00\n",
      "Additional air time charge: $1.50\n",
      "Additional text message charge: $2.55\n",
      "911 support charge: $0.44\n",
      "Tax: $0.97\n",
      "Total bill: $20.46\n"
     ]
    }
   ],
   "source": [
    "# Constants\n",
    "BASE_CHARGE = 15.00\n",
    "AIR_TIME_INCLUDED = 50\n",
    "AIR_TIME_CHARGE = 0.25\n",
    "TEXT_MESSAGES_INCLUDED = 50\n",
    "TEXT_MESSAGE_CHARGE = 0.15\n",
    "SUPPORT_CHARGE = 0.44\n",
    "TAX_RATE = 0.05\n",
    "\n",
    "# Input\n",
    "air_time_used = int(input(\"Enter the number of minutes used: \"))\n",
    "text_messages_used = int(input(\"Enter the number of text messages used: \"))\n",
    "\n",
    "# Calculations\n",
    "air_time_charge = 0\n",
    "if air_time_used > AIR_TIME_INCLUDED:\n",
    "    air_time_charge = (air_time_used - AIR_TIME_INCLUDED) * AIR_TIME_CHARGE\n",
    "\n",
    "text_message_charge = 0\n",
    "if text_messages_used > TEXT_MESSAGES_INCLUDED:\n",
    "    text_message_charge = (text_messages_used - TEXT_MESSAGES_INCLUDED) * TEXT_MESSAGE_CHARGE\n",
    "\n",
    "subtotal = BASE_CHARGE + air_time_charge + text_message_charge + SUPPORT_CHARGE\n",
    "tax = subtotal * TAX_RATE\n",
    "total = subtotal + tax\n",
    "\n",
    "# Output\n",
    "print(\"Base charge: ${:.2f}\".format(BASE_CHARGE))\n",
    "if air_time_charge > 0:\n",
    "    print(\"Additional air time charge: ${:.2f}\".format(air_time_charge))\n",
    "if text_message_charge > 0:\n",
    "    print(\"Additional text message charge: ${:.2f}\".format(text_message_charge))\n",
    "print(\"911 support charge: ${:.2f}\".format(SUPPORT_CHARGE))\n",
    "print(\"Tax: ${:.2f}\".format(tax))\n",
    "print(\"Total bill: ${:.2f}\".format(total))"
   ]
  },
  {
   "cell_type": "code",
   "execution_count": 36,
   "id": "7f53f8b6",
   "metadata": {},
   "outputs": [
    {
     "name": "stdout",
     "output_type": "stream",
     "text": [
      "Enter the number of minutes used: 56\n",
      "Enter the number of text messages used: 78\n",
      "Base charge: $15.00\n",
      "Additional minutes charge: $1.50\n",
      "Additional texts charge: $4.20\n",
      "call_center_fee: $0.44\n",
      "Tax: $1.06\n",
      "Total bill: $22.20\n"
     ]
    }
   ],
   "source": [
    "minutes = int(input(\"Enter the number of minutes used: \"))\n",
    "texts = int(input(\"Enter the number of text messages used: \"))\n",
    "\n",
    "base_charge = 15.00\n",
    "additional_minutes_charge = max(0, minutes - 50) * 0.25\n",
    "additional_texts_charge = max(0, texts - 50) * 0.15\n",
    "call_center_fee = 0.44\n",
    "tax_rate = 0.05\n",
    "\n",
    "total_charge = base_charge + additional_minutes_charge + additional_texts_charge + call_center_fee\n",
    "tax = total_charge * tax_rate\n",
    "total_bill = total_charge + tax\n",
    "\n",
    "print(f\"Base charge: ${base_charge:.2f}\")\n",
    "if additional_minutes_charge > 0:\n",
    "    print(f\"Additional minutes charge: ${additional_minutes_charge:.2f}\")\n",
    "if additional_texts_charge > 0:\n",
    "    print(f\"Additional texts charge: ${additional_texts_charge:.2f}\")\n",
    "print(f\"call_center_fee: ${call_center_fee:.2f}\")\n",
    "print(f\"Tax: ${tax:.2f}\")\n",
    "print(f\"Total bill: ${total_bill:.2f}\")"
   ]
  },
  {
   "cell_type": "markdown",
   "id": "51fab476",
   "metadata": {},
   "source": [
    "Exercise 58: Is It a Leap Year?\n",
    "\n",
    "Most years have 365 days. However, the time required for the Earth to orbit the Sun\n",
    "is actually slightly more than that. As a result, an extra day, February 29, is included\n",
    "in some years to correct for this difference. Such years are referred to as leap years.\n",
    "The rules for determining whether or not a year is a leap year follow:\n",
    "• Any year that is divisible by 400 is a leap year.\n",
    "• Of the remaining years, any year that is divisible by 100 is not a leap year.\n",
    "• Of the remaining years, any year that is divisible by 4 is a leap year.\n",
    "• All other years are not leap years.\n",
    "Write a program that reads a year from the user and displays a message indicating\n",
    "whether or not it is a leap year."
   ]
  },
  {
   "cell_type": "code",
   "execution_count": 3,
   "id": "e67bad7a",
   "metadata": {},
   "outputs": [
    {
     "name": "stdout",
     "output_type": "stream",
     "text": [
      "Enter a year: 2023\n",
      "2023 is not leap year\n"
     ]
    }
   ],
   "source": [
    "year = int(input(\"Enter a year: \"))\n",
    "# Determine if the inserted year is a leap year.\n",
    "if year % 400==0:\n",
    "    Is_Leap_Year = True\n",
    "elif year % 100 ==0:\n",
    "    Is_Leap_Year = False\n",
    "elif year % 4 ==0:\n",
    "    Is_Leap_Year =True\n",
    "else:\n",
    "    Is_Leap_Year = False\n",
    "# Displaying the result.\n",
    "if Is_Leap_Year:\n",
    "    print(year,\"is a leap year.\")\n",
    "else:\n",
    "    print(year,\"is not leap year\")"
   ]
  },
  {
   "cell_type": "markdown",
   "id": "92c017e5",
   "metadata": {},
   "source": [
    "Exercise 59: Next Day\n",
    "\n",
    "Write a program that reads a date from the user and computes its immediate successor.\n",
    "For example, if the user enters values that represent 2019-11-18 then your program\n",
    "should display a message indicating that the day immediately after 2019-11-18 is\n",
    "2019-11-19. If the user enters values that represent 2019-11-30 then the program\n",
    "should indicate that the next day is 2019-12-01. If the user enters values that represent\n",
    "2019-12-31 then the program should indicate that the next day is 2020-01-01. The\n",
    "date will be entered in numeric form with three separate input statements; one for\n",
    "the year, one for the month, and one for the day. Ensure that your program works\n",
    "correctly for leap years."
   ]
  },
  {
   "cell_type": "code",
   "execution_count": 5,
   "id": "0d887500",
   "metadata": {},
   "outputs": [
    {
     "name": "stdout",
     "output_type": "stream",
     "text": [
      "Enter the year (yyyy): 2023\n",
      "Enter the month (mm): 09\n",
      "Enter the day (dd): 16\n",
      "The day immediately after 2023-09-16 is 2023-09-17\n"
     ]
    }
   ],
   "source": [
    "import datetime\n",
    "\n",
    "# Get the date from the user\n",
    "year = int(input(\"Enter the year (yyyy): \"))\n",
    "month = int(input(\"Enter the month (mm): \"))\n",
    "day = int(input(\"Enter the day (dd): \"))\n",
    "\n",
    "# Create a datetime object with the user's input\n",
    "date = datetime.date(year, month, day)\n",
    "\n",
    "# Compute the next day\n",
    "# The line next_day = date + datetime.timedelta(days=1)\n",
    "# in the Python program computes the next day of the date entered by the user.\n",
    "\n",
    "next_day = date + datetime.timedelta(days=1)\n",
    "\n",
    "# Print the result\n",
    "print(\"The day immediately after {} is {}\".format(date, next_day))"
   ]
  },
  {
   "cell_type": "markdown",
   "id": "c8fe0d3a",
   "metadata": {},
   "source": [
    "Exercise 60:What Day of the Week Is January 1?\n",
    "(32 Lines)\n",
    "The following formula can be used to determine the day of the week for January 1\n",
    "in a given year:\n",
    "day_of_the_week = (year + floor((year − 1) / 4) − floor((year − 1) / 100) +\n",
    "floor((year − 1) / 400)) % 7\n",
    "The result calculated by this formula is an integer that represents the day of the\n",
    "week. Sunday is represented by 0. The remaining days of the week following in\n",
    "sequence through to Saturday, which is represented by 6.\n",
    "Use the formula above to write a program that reads a year from the user and\n",
    "reports the day of the week for January 1 of that year. The output from your program\n",
    "should include the full name of the day of the week, not just the integer returned by\n",
    "the formula."
   ]
  },
  {
   "cell_type": "code",
   "execution_count": 2,
   "id": "84e99b5c",
   "metadata": {},
   "outputs": [
    {
     "name": "stdout",
     "output_type": "stream",
     "text": [
      "Enter a year: 2024\n",
      "January 1 of 2024 falls on a Monday.\n"
     ]
    }
   ],
   "source": [
    "import math\n",
    "\n",
    "year = int(input(\"Enter a year: \"))\n",
    "\n",
    "day_of_the_week = (year + math.floor((year - 1) / 4) - math.floor((year - 1) / 100) + math.floor((year - 1) / 400)) % 7\n",
    "\n",
    "days_of_week = [\"Sunday\", \"Monday\", \"Tuesday\", \"Wednesday\", \"Thursday\", \"Friday\", \"Saturday\"]\n",
    "\n",
    "print(\"January 1 of\", year, \"falls on a\", days_of_week[day_of_the_week] + \".\")"
   ]
  },
  {
   "cell_type": "markdown",
   "id": "45fb47fc",
   "metadata": {},
   "source": [
    "Task 61: Is a License Plate Valid?\n",
    "\n",
    "In a particular jurisdiction, older license plates consist of three uppercase letters\n",
    "followed by three digits. When all of the license plates following that pattern had\n",
    "been used, the format was changed to four digits followed by three uppercase letters.\n",
    "Write a program that begins by reading a string of characters from the user. Then\n",
    "your program should display a message indicating whether the characters are valid\n",
    "for an older style license plate or a newer style license plate. Your program should\n",
    "display an appropriate message if the string entered by the user is not valid for either\n",
    "style of license plate"
   ]
  },
  {
   "cell_type": "code",
   "execution_count": 5,
   "id": "34e788f1",
   "metadata": {},
   "outputs": [
    {
     "name": "stdout",
     "output_type": "stream",
     "text": [
      "Enter a license plate: 121ASXZ\n",
      "The license plate is not valid for either style.\n"
     ]
    }
   ],
   "source": [
    "# Read the license plate from the user\n",
    "license_plate = input(\"Enter a license plate: \")\n",
    "\n",
    "# Check if the license plate is valid for an older style\n",
    "if len(license_plate) == 6 and license_plate[:3].isalpha() and license_plate[3:].isdigit():\n",
    "    print(\"The license plate is valid for an older style.\")\n",
    "\n",
    "# Check if the license plate is valid for a newer style\n",
    "elif len(license_plate) == 7 and license_plate[:4].isdigit() and license_plate[4:].isalpha():\n",
    "    print(\"The license plate is valid for a newer style.\")\n",
    "\n",
    "# If the license plate is not valid for either style\n",
    "else:\n",
    "    print(\"The license plate is not valid for either style.\")"
   ]
  },
  {
   "cell_type": "code",
   "execution_count": 23,
   "id": "429739f5",
   "metadata": {},
   "outputs": [
    {
     "name": "stdout",
     "output_type": "stream",
     "text": [
      "Enter the license plate: QWE123\n",
      "The plate is a valid older style plate. \n"
     ]
    }
   ],
   "source": [
    "plate = input(\"Enter the license plate: \")\n",
    "if len(plate) ==6 and \\\n",
    "     plate[0]>= \"A\" and plate[0] <= \"Z\" and \\\n",
    "     plate[1]>= \"A\" and plate[1] <= \"Z\" and \\\n",
    "     plate[2]>= \"A\" and plate[2] <= \"Z\" and \\\n",
    "     plate[3]>= \"0\" and plate[3] <= \"9\" and \\\n",
    "     plate[4]>= \"0\" and plate[4] <= \"9\" and \\\n",
    "     plate[5]>= \"0\" and plate[5] <= \"9\":\n",
    "    print(\"The plate is a valid older style plate. \")\n",
    "elif len(plate)==7 and \\\n",
    "     plate[0]>= \"0\" and plate[0] <= \"9\" and \\\n",
    "     plate[1]>= \"0\" and plate[1] <= \"9\" and \\\n",
    "     plate[2]>= \"0\" and plate[2] <= \"9\" and \\\n",
    "     plate[3]>= \"0\" and plate[3] <= \"9\" and \\\n",
    "     plate[4]>= \"A\" and plate[4] <= \"Z\" and \\\n",
    "     plate[5]>= \"A\" and plate[5] <= \"Z\" and \\\n",
    "     plate[6]>= \"A\" and plate[6] <= \"Z\":\n",
    "    print(\"The plate is a valid newer style plate.\")\n",
    "else:\n",
    "    print(\"The plate is not valid\")\n"
   ]
  },
  {
   "cell_type": "code",
   "execution_count": 25,
   "id": "890108a8",
   "metadata": {},
   "outputs": [
    {
     "name": "stdout",
     "output_type": "stream",
     "text": [
      "Enter the license plate: 0988AXX\n",
      "The plate is a valid newer style plate.\n"
     ]
    }
   ],
   "source": [
    "plate = input(\"Enter the license plate: \")\n",
    "if len(plate) ==6 and \\\n",
    "     plate[0]>= \"A\" and plate[0] <= \"Z\" and \\\n",
    "     plate[1]>= \"A\" and plate[1] <= \"Z\" and \\\n",
    "     plate[2]>= \"A\" and plate[2] <= \"Z\" and \\\n",
    "     plate[3]>= \"0\" and plate[3] <= \"9\" and \\\n",
    "     plate[4]>= \"0\" and plate[4] <= \"9\" and \\\n",
    "     plate[5]>= \"0\" and plate[5] <= \"9\":\n",
    "    print(\"The plate is a valid older style plate. \")\n",
    "elif len(plate)==7 and \\\n",
    "     plate[0]>= \"0\" and plate[0] <= \"9\" and \\\n",
    "     plate[1]>= \"0\" and plate[1] <= \"9\" and \\\n",
    "     plate[2]>= \"0\" and plate[2] <= \"9\" and \\\n",
    "     plate[3]>= \"0\" and plate[3] <= \"9\" and \\\n",
    "     plate[4]>= \"A\" and plate[4] <= \"Z\" and \\\n",
    "     plate[5]>= \"A\" and plate[5] <= \"Z\" and \\\n",
    "     plate[6]>= \"A\" and plate[6] <= \"Z\":\n",
    "    print(\"The plate is a valid newer style plate.\")\n",
    "else:\n",
    "    print(\"The plate is not valid\")\n"
   ]
  },
  {
   "cell_type": "code",
   "execution_count": 26,
   "id": "969dba1d",
   "metadata": {},
   "outputs": [
    {
     "name": "stdout",
     "output_type": "stream",
     "text": [
      "Enter the license plate: 5343DFD\n",
      "The plate is a valid newer style plate.\n"
     ]
    }
   ],
   "source": [
    "plate = input(\"Enter the license plate: \")\n",
    "if len(plate) ==6 and \\\n",
    "     plate[0]>= \"A\" and plate[0] <= \"Z\" and \\\n",
    "     plate[1]>= \"A\" and plate[1] <= \"Z\" and \\\n",
    "     plate[2]>= \"A\" and plate[2] <= \"Z\" and \\\n",
    "     plate[3]>= \"0\" and plate[3] <= \"9\" and \\\n",
    "     plate[4]>= \"0\" and plate[4] <= \"9\" and \\\n",
    "     plate[5]>= \"0\" and plate[5] <= \"9\":\n",
    "    print(\"The plate is a valid older style plate. \")\n",
    "elif len(plate)==7 and \\\n",
    "     plate[0]>= \"0\" and plate[0] <= \"9\" and \\\n",
    "     plate[1]>= \"0\" and plate[1] <= \"9\" and \\\n",
    "     plate[2]>= \"0\" and plate[2] <= \"9\" and \\\n",
    "     plate[3]>= \"0\" and plate[3] <= \"9\" and \\\n",
    "     plate[4]>= \"A\" and plate[4] <= \"Z\" and \\\n",
    "     plate[5]>= \"A\" and plate[5] <= \"Z\" and \\\n",
    "     plate[6]>= \"A\" and plate[6] <= \"Z\":\n",
    "    print(\"The plate is a valid newer style plate.\")\n",
    "else:\n",
    "    print(\"The plate is not valid\")\n"
   ]
  },
  {
   "cell_type": "markdown",
   "id": "5e846f73",
   "metadata": {},
   "source": [
    "Task 62: Roulette Payouts\n",
    "\n",
    "A roulette wheel has 38 spaces on it. Of these spaces, 18 are black, 18 are red, and two\n",
    "are green. The green spaces are numbered 0 and 00. The red spaces are numbered 1,\n",
    "3, 5, 7, 9, 12, 14, 16, 18, 19, 21, 23, 25, 27, 30 32, 34 and 36. The remaining integers\n",
    "between 1 and 36 are used to number the black spaces.\n",
    "Many different bets can be placed in roulette. We will only consider the following\n",
    "subset of them in this exercise:\n",
    "• Single number (1 to 36, 0, or 00)\n",
    "• Red versus Black\n",
    "• Odd versus Even (Note that 0 and 00 do not pay out for even)\n",
    "• 1 to 18 versus 19 to 36\n",
    "Write a program that simulates a spin of a roulette wheel by using Python’s\n",
    "random number generator. Display the number that was selected and all of the bets\n",
    "that must be payed. For example, if 13 is selected then your program should display:\n",
    "The spin resulted in 13...\n",
    "Pay 13\n",
    "Pay Black\n",
    "Pay Odd\n",
    "Pay 1 to 18\n",
    "If the simulation results in 0 or 00 then your program should display Pay 0\n",
    "or Pay 00 without any further output"
   ]
  },
  {
   "cell_type": "code",
   "execution_count": 41,
   "id": "63ab41f4",
   "metadata": {},
   "outputs": [
    {
     "name": "stdout",
     "output_type": "stream",
     "text": [
      "The spin resulted in 0 ...\n",
      "Pay 0\n",
      "Pay Green\n"
     ]
    }
   ],
   "source": [
    "import random\n",
    "\n",
    "# Define the spaces on the roulette wheel\n",
    "green_spaces = [0, 00]\n",
    "red_spaces = [i for i in range(1, 36, 2)] + [i for i in range(12, 30, 2)]\n",
    "black_spaces = [i for i in range(2, 36, 2)] + [i for i in range(11, 30, 2)]\n",
    "\n",
    "# Simulate a spin of the roulette wheel\n",
    "spin = random.randint(0, 37)\n",
    "\n",
    "# Display the selected number\n",
    "if spin in green_spaces:\n",
    "    print(\"The spin resulted in\", spin, \"...\")\n",
    "    print(\"Pay\", spin)\n",
    "    print(\"Pay Green\")\n",
    "elif spin in red_spaces:\n",
    "    print(\"The spin resulted in\", spin, \"...\")\n",
    "    print(\"Pay\", spin)\n",
    "    print(\"Pay Red\")\n",
    "    if spin % 2 == 1:\n",
    "        print(\"Pay Odd\")\n",
    "    else:\n",
    "        print(\"Pay Even\")\n",
    "    if spin <= 18:\n",
    "        print(\"Pay 1 to 18\")\n",
    "    else:\n",
    "        print(\"Pay 19 to 36\")\n",
    "else:\n",
    "    print(\"The spin resulted in\", spin, \"...\")\n",
    "    print(\"Pay\", spin)\n",
    "    print(\"Pay Black\")\n",
    "    if spin % 2 == 0:\n",
    "        print(\"Pay Even\")\n",
    "    else:\n",
    "        print(\"Pay Odd\")\n",
    "    if spin <= 18:\n",
    "        print(\"Pay 1 to 18\")\n",
    "    else:\n",
    "        print(\"Pay 19 to 36\")"
   ]
  },
  {
   "cell_type": "code",
   "execution_count": 42,
   "id": "8c119045",
   "metadata": {},
   "outputs": [
    {
     "name": "stdout",
     "output_type": "stream",
     "text": [
      "The spin resulted in 14...\n",
      "Pay 14\n",
      "Pay Red\n",
      "Pay Even\n",
      "Pay 1 to 18\n"
     ]
    }
   ],
   "source": [
    "from random import randrange\n",
    "# Simulate spinning wheel, using 37 to represent 00\n",
    "value = randrange(0,38)\n",
    "if value ==37:\n",
    "    print(\"The spin resulted in 00...\")\n",
    "else:\n",
    "    print(\"The spin resulted in %d...\" %value)\n",
    "# Display the payout for a singe number\n",
    "if value ==37:\n",
    "    print(\"Pay 00\")\n",
    "else:\n",
    "    print(\"Pay\", value)\n",
    "    \n",
    "# Display the color payout\n",
    "# The first line in the condition checks for 1, 3, 5, 7 and 9\n",
    "# The second line in the condition checks for 12, 14, 16 and 18\n",
    "# The third line in the condition checks for 19, 21, 23, 25 and 27\n",
    "# The fourth line in the condition checks for 30, 32, 34 and 36\n",
    "if value % 2 == 1 and value >= 1 and value <= 9 or \\\n",
    "value % 2 == 0 and value >= 12 and value <= 18 or \\\n",
    "value % 2 == 1 and value >= 19 and value <= 27 or \\\n",
    "value % 2 == 0 and value >= 30 and value <= 36:\n",
    "    \n",
    "    \n",
    "    print(\"Pay Red\")\n",
    "elif value == 0 or value == 37:\n",
    "    pass\n",
    "else:\n",
    "    print(\"Pay Black\")\n",
    "# Display the odd vs. even payout is no work to be performed.\n",
    "if value >= 1 and value <= 36:\n",
    "    if value % 2 == 1:\n",
    "        print(\"Pay Odd\")\n",
    "    else:\n",
    "        print(\"Pay Even\")\n",
    "# Display the lower numbers vs. upper numbers payout\n",
    "if value >= 1 and value <= 18:\n",
    "          print(\"Pay 1 to 18\")\n",
    "elif value >= 19 and value <= 36:\n",
    "          print(\"Pay 19 to 36\")\n",
    "    "
   ]
  },
  {
   "cell_type": "code",
   "execution_count": 1,
   "id": "e1adc178",
   "metadata": {},
   "outputs": [
    {
     "name": "stdout",
     "output_type": "stream",
     "text": [
      "The spin resulted in 22 ...\n",
      "Pay 22\n",
      "Pay Black\n",
      "Pay Even\n",
      "Pay 19 to 36\n"
     ]
    }
   ],
   "source": [
    "import random\n",
    "\n",
    "# Define the spaces on the roulette wheel\n",
    "green_spaces = [0, 00]\n",
    "red_spaces = [1, 3, 5, 7, 9, 12, 14, 16, 18, 19, 21, 23, 25, 27, 30, 32, 34, 36]\n",
    "black_spaces = [i for i in range(2, 36) if i not in red_spaces]\n",
    "\n",
    "# Simulate a spin of the roulette wheel\n",
    "spin = random.randint(0, 37)\n",
    "\n",
    "# Display the selected number and all of the bets that must be paid\n",
    "if spin in green_spaces:\n",
    "    print(\"The spin resulted in\", spin, \"...\")\n",
    "    print(\"Pay\", spin)\n",
    "    if spin == 0:\n",
    "        print(\"Pay 0\")\n",
    "    else:\n",
    "        print(\"Pay 00\")\n",
    "elif spin in red_spaces:\n",
    "    print(\"The spin resulted in\", spin, \"...\")\n",
    "    print(\"Pay\", spin)\n",
    "    print(\"Pay Red\")\n",
    "    if spin % 2 == 1:\n",
    "        print(\"Pay Odd\")\n",
    "    else:\n",
    "        print(\"Pay Even\")\n",
    "    if spin <= 18:\n",
    "        print(\"Pay 1 to 18\")\n",
    "    else:\n",
    "        print(\"Pay 19 to 36\")\n",
    "else:\n",
    "    print(\"The spin resulted in\", spin, \"...\")\n",
    "    print(\"Pay\", spin)\n",
    "    print(\"Pay Black\")\n",
    "    if spin % 2 == 0:\n",
    "        print(\"Pay Even\")\n",
    "    else:\n",
    "        print(\"Pay Odd\")\n",
    "    if spin <= 18:\n",
    "        print(\"Pay 1 to 18\")\n",
    "    else:\n",
    "        print(\"Pay 19 to 36\")"
   ]
  },
  {
   "cell_type": "markdown",
   "id": "b16456c9",
   "metadata": {},
   "source": [
    "Task 63: Average\n",
    "\n",
    "In this exercise you will create a program that computes the average of a collection\n",
    "of values entered by the user. The user will enter 0 as a sentinel value to indicate\n",
    "that no further values will be provided. Your program should display an appropriate\n",
    "error message if the first value entered by the user is 0"
   ]
  },
  {
   "cell_type": "code",
   "execution_count": 12,
   "id": "29f87ef0",
   "metadata": {},
   "outputs": [
    {
     "name": "stdout",
     "output_type": "stream",
     "text": [
      "Enter a value (0 to quit): 576.88888888888888888888\n",
      "Enter a value (0 to quit): 87687.9879868\n",
      "Enter a value (0 to quit): 6787.67687687687\n",
      "Enter a value (0 to quit): 0\n",
      "The average is: 31684.184584188584\n"
     ]
    }
   ],
   "source": [
    "count = 0\n",
    "total = 0\n",
    "value = float(input(\"Enter a value (0 to quit): \"))\n",
    "while value != 0:\n",
    "    count += 1\n",
    "    total += value\n",
    "    value = float(input(\"Enter a value (0 to quit): \"))\n",
    "    if count == 1 and value == 0:\n",
    "        print(\"Error: No values were entered.\")\n",
    "        break\n",
    "if count > 0:\n",
    "    average = total / count\n",
    "    print(\"The average is:\", average)"
   ]
  },
  {
   "cell_type": "code",
   "execution_count": 13,
   "id": "c7c096ec",
   "metadata": {},
   "outputs": [
    {
     "name": "stdout",
     "output_type": "stream",
     "text": [
      "Enter a value (0 to quit): 4566.8798\n",
      "Enter a value (0 to quit): \n",
      "Error: No values were entered.\n",
      "The average is: 4566.8798\n"
     ]
    }
   ],
   "source": [
    "count = 0\n",
    "total = 0\n",
    "value = input(\"Enter a value (0 to quit): \")\n",
    "while value != \"0\":\n",
    "    if value == \"\":\n",
    "        print(\"Error: No values were entered.\")\n",
    "        break\n",
    "    count += 1\n",
    "    total += float(value)\n",
    "    value = input(\"Enter a value (0 to quit): \")\n",
    "if count > 0:\n",
    "    average = total / count\n",
    "    print(\"The average is:\", average)"
   ]
  },
  {
   "cell_type": "markdown",
   "id": "c85ff2d4",
   "metadata": {},
   "source": [
    "Task 64: Discount Table\n",
    "\n",
    "A particular retailer is having a 60 percent off sale on a variety of discontinued\n",
    "products. The retailer would like to help its customers determine the reduced price\n",
    "of the merchandise by having a printed discount table on the shelf that shows the\n",
    "original prices and the prices after the discount has been applied. Write a program that\n",
    "uses a loop to generate this table, showing the original price, the discount amount,\n",
    "and the new price for purchases of $4.95, $9.95, $14.95, $19.95 and $24.95. Ensure\n",
    "that the discount amounts and the new prices are rounded to 2 decimal places when\n",
    "they are displayed"
   ]
  },
  {
   "cell_type": "code",
   "execution_count": 2,
   "id": "99e2bf9d",
   "metadata": {},
   "outputs": [
    {
     "name": "stdout",
     "output_type": "stream",
     "text": [
      "Original Price\tDiscount Amount\tNew Price\n",
      "$4.95\t\t$2.97\t\t$1.98\n",
      "$9.95\t\t$5.97\t\t$3.98\n",
      "$14.95\t\t$8.97\t\t$5.98\n",
      "$19.95\t\t$11.97\t\t$7.98\n",
      "$24.95\t\t$14.97\t\t$9.98\n"
     ]
    }
   ],
   "source": [
    "prices = [4.95, 9.95, 14.95, 19.95, 24.95]\n",
    "discount = 0.6\n",
    "\n",
    "print(\"Original Price\\tDiscount Amount\\tNew Price\")\n",
    "for price in prices:\n",
    "    discount_amount = round(price * discount, 2)\n",
    "    new_price = round(price - discount_amount, 2)\n",
    "    print(\"${}\\t\\t${}\\t\\t${}\".format(price, discount_amount, new_price))"
   ]
  },
  {
   "cell_type": "code",
   "execution_count": 14,
   "id": "077d5ff9",
   "metadata": {},
   "outputs": [
    {
     "name": "stdout",
     "output_type": "stream",
     "text": [
      "Original Price\t Discount Amount\t New Price\n",
      "$23.89\t $14.33\t $9.56\t\n",
      "$90.89\t $54.53\t $36.36\t\n",
      "$778.34\t $467.0\t $311.34\t\n",
      "$11.23\t $6.74\t $4.49\t\n"
     ]
    }
   ],
   "source": [
    "prices = [23.89, 90.89, 778.34, 11.23]\n",
    "discount = 0.6\n",
    "print(\"Original Price\\t Discount Amount\\t New Price\")\n",
    "for price in prices:\n",
    "    discount_amount = round(price * discount, 2)\n",
    "    new_price = round(price- discount_amount, 2)\n",
    "    print(\"${}\\t ${}\\t ${}\\t\". format(price, discount_amount, new_price))"
   ]
  },
  {
   "cell_type": "markdown",
   "id": "03312d3d",
   "metadata": {},
   "source": [
    "Task 65:\n",
    "Temperature Conversion Table\n",
    "Write a program that displays a temperature conversion table for degrees Celsius and\n",
    "degrees Fahrenheit. The table should include rows for all temperatures between 0\n",
    "and 100 degrees Celsius that are multiples of 10 degrees Celsius. Include appropriate\n",
    "headings on your columns. The formula for converting between degrees Celsius and\n",
    "degrees Fahrenheit can be found on the Internet."
   ]
  },
  {
   "cell_type": "code",
   "execution_count": 3,
   "id": "d075189c",
   "metadata": {
    "scrolled": true
   },
   "outputs": [
    {
     "name": "stdout",
     "output_type": "stream",
     "text": [
      "Celsius\tFahrenheit\n",
      "0\t32.0\n",
      "10\t50.0\n",
      "20\t68.0\n",
      "30\t86.0\n",
      "40\t104.0\n",
      "50\t122.0\n",
      "60\t140.0\n",
      "70\t158.0\n",
      "80\t176.0\n",
      "90\t194.0\n",
      "100\t212.0\n"
     ]
    }
   ],
   "source": [
    "print(\"Celsius\\tFahrenheit\")\n",
    "for celsius in range(0, 101, 10):\n",
    "    fahrenheit = (celsius * 9/5) + 32\n",
    "    print(\"{}\\t{}\".format(celsius, fahrenheit))"
   ]
  },
  {
   "cell_type": "code",
   "execution_count": 20,
   "id": "eb3193cc",
   "metadata": {
    "scrolled": true
   },
   "outputs": [
    {
     "name": "stdout",
     "output_type": "stream",
     "text": [
      "Celsius\t Fahrenheit\n",
      "21\t    69.8\n",
      "34\t    93.2\n",
      "43\t    109.4\n",
      "78\t    172.4\n",
      "90\t    194.0\n",
      "22\t    71.6\n",
      "56\t    132.8\n",
      "88\t    190.4\n"
     ]
    }
   ],
   "source": [
    "print(\"Celsius\\t Fahrenheit\")\n",
    "degree_of_Celsius = [21, 34, 43, 78,90, 22, 56, 88]\n",
    "for celsius in degree_of_Celsius:\n",
    "    fahrenheit = (celsius * 9/5) + 32\n",
    "    print(\"{}\\t    {}\".format(celsius ,fahrenheit))"
   ]
  },
  {
   "cell_type": "code",
   "execution_count": null,
   "id": "1bbee206",
   "metadata": {},
   "outputs": [],
   "source": []
  },
  {
   "cell_type": "markdown",
   "id": "be2983db",
   "metadata": {},
   "source": [
    "Task 66\n",
    "\n",
    "February 4, 2013 was the last day that pennies were distributed by the Royal Canadian\n",
    "Mint. Now that pennies have been phased out retailers must adjust totals so that they\n",
    "are multiples of 5 cents when they are paid for with cash (credit card and debit card\n",
    "transactions continue to be charged to the penny). While retailers have some freedom\n",
    "in how they do this, most choose to round to the closest nickel.\n",
    "Write a program that reads prices from the user until a blank line is entered.\n",
    "Display the total cost of all the entered items on one line, followed by the amount\n",
    "due if the customer pays with cash on a second line. The amount due for a cash\n",
    "payment should be rounded to the nearest nickel. One way to compute the cash\n",
    "payment amount is to begin by determining how many pennies would be needed to\n",
    "pay the total. Then compute the remainder when this number of pennies is divided\n",
    "by 5. Finally, adjust the total down if the remainder is less than 2.5. Otherwise adjust\n",
    "the total up"
   ]
  },
  {
   "cell_type": "code",
   "execution_count": 10,
   "id": "ddb50f86",
   "metadata": {},
   "outputs": [
    {
     "name": "stdout",
     "output_type": "stream",
     "text": [
      "Enter the price of an item (press enter to quit): 6.8908978776\n",
      "Enter the price of an item (press enter to quit): 6.879879867866\n",
      "Enter the price of an item (press enter to quit): 9.76876564354354\n",
      "Enter the price of an item (press enter to quit): 0.89786467654654654654343342432898979878\n",
      "Enter the price of an item (press enter to quit): \n",
      "Total cost: $24.44\n",
      "Amount due (cash payment): $24.45\n"
     ]
    }
   ],
   "source": [
    "total_cost = 0\n",
    "while True:\n",
    "    price = input(\"Enter the price of an item (press enter to quit): \")\n",
    "    if price == \"\":\n",
    "        break\n",
    "    total_cost += float(price)\n",
    "\n",
    "print(\"Total cost: ${:.2f}\".format(total_cost))\n",
    "cash_payment = round(total_cost / 0.05) * 0.05\n",
    "print(\"Amount due (cash payment): ${:.2f}\".format(cash_payment))"
   ]
  },
  {
   "cell_type": "code",
   "execution_count": 15,
   "id": "b3ef73ab",
   "metadata": {},
   "outputs": [
    {
     "name": "stdout",
     "output_type": "stream",
     "text": [
      "Enter the price of an item( press enter to quit):32.99999999999999\n",
      "Enter the price of an item( press enter to quit):789.777777777777777777777777\n",
      "Enter the price of an item( press enter to quit):0.9987879899\n",
      "Enter the price of an item( press enter to quit):\n",
      "Total cost: $823.78\n",
      "Amount due (cash payment): $823.80\n"
     ]
    }
   ],
   "source": [
    "total_cost = 0\n",
    "while True:\n",
    "    price = input(\"Enter the price of an item( press enter to quit):\")\n",
    "    if price ==\"\":\n",
    "        break\n",
    "    total_cost +=float(price)\n",
    "print(\"Total cost: ${:.2f}\". format(total_cost))\n",
    "cash_payment = round(total_cost)\n",
    "print(\"Amount due (cash payment): ${:.2f}\".format(cash_payment))"
   ]
  },
  {
   "cell_type": "markdown",
   "id": "ebe81830",
   "metadata": {},
   "source": [
    "Task 67\n",
    " Compute the Perimeter of a Polygon\n",
    "\n",
    "Write a program that computes the perimeter of a polygon. Begin by reading the\n",
    "x and y coordinates for the first point on the perimeter of the polygon from the\n",
    "user. Then continue reading pairs of values until the user enters a blank line for the\n",
    "x-coordinate. Each time you read an additional coordinate you should compute the\n",
    "distance to the previous point and add it to the perimeter. When a blank line is entered\n",
    "for the x-coordinate your program should add the distance from the last point back\n",
    "to the first point to the perimeter. Then the perimeter should be displayed. Sample\n",
    "input and output values are shown below. The input values entered by the user are\n",
    "shown in bold"
   ]
  },
  {
   "cell_type": "code",
   "execution_count": 15,
   "id": "c9a0e4ae",
   "metadata": {},
   "outputs": [
    {
     "name": "stdout",
     "output_type": "stream",
     "text": [
      "Enter the x and y coordinates of the first point: -3 4\n",
      "Enter the x and y coordinates of the next point (blank line to quit): 0 0\n",
      "Enter the x and y coordinates of the next point (blank line to quit): -3 0\n",
      "Enter the x and y coordinates of the next point (blank line to quit): \n",
      "The perimeter of the polygon is: 12.0\n"
     ]
    }
   ],
   "source": [
    "import math\n",
    "\n",
    "# Read the first point\n",
    "x1, y1 = map(float, input(\"Enter the x and y coordinates of the first point: \").split())\n",
    "\n",
    "# Initialize the perimeter and previous point\n",
    "perimeter = 0\n",
    "x_prev, y_prev = x1, y1\n",
    "\n",
    "# Read the remaining points\n",
    "while True:\n",
    "    # Read the next point\n",
    "    point = input(\"Enter the x and y coordinates of the next point (blank line to quit): \")\n",
    "    if point == \"\":\n",
    "        break\n",
    "    x, y = map(float, point.split())\n",
    "    \n",
    "    # Compute the distance to the previous point and add it to the perimeter\n",
    "    distance = math.sqrt((x - x_prev) ** 2 + (y - y_prev) ** 2)\n",
    "    perimeter += distance\n",
    "    \n",
    "    # Update the previous point\n",
    "    x_prev, y_prev = x, y\n",
    "\n",
    "# Compute the distance from the last point back to the first point and add it to the perimeter\n",
    "distance = math.sqrt((x1 - x_prev) ** 2 + (y1 - y_prev) ** 2)\n",
    "perimeter += distance\n",
    "\n",
    "# Display the perimeter\n",
    "print(\"The perimeter of the polygon is:\", perimeter)"
   ]
  },
  {
   "cell_type": "code",
   "execution_count": 28,
   "id": "10566383",
   "metadata": {},
   "outputs": [
    {
     "name": "stdout",
     "output_type": "stream",
     "text": [
      "Enter the first x-coordinate: -3\n",
      "Enter the first y-coordinate: -4\n",
      "Enter the next x-coordinate (blank to quit): 0\n",
      "Enter the next y-coordinate: 4\n",
      "Enter the next x-coordinate (blank to quit): \n",
      "The perimeter of the polygon is: 17.08800749063506\n"
     ]
    }
   ],
   "source": [
    "from math import sqrt\n",
    "\n",
    "# Store the perimeter of the polygon\n",
    "perimeter = 0\n",
    "\n",
    "# Read the first coordinate of the polygon\n",
    "first_x = float(input(\"Enter the first x-coordinate: \"))\n",
    "first_y = float(input(\"Enter the first y-coordinate: \"))\n",
    "\n",
    "# Provide initial value for prev_x and prev_y\n",
    "prev_x = first_x\n",
    "prev_y = first_y\n",
    "\n",
    "# Read the remaining coordinates\n",
    "line = input(\"Enter the next x-coordinate (blank to quit): \")\n",
    "while line != \"\":\n",
    "    # Convert the x-coordinate to a number and read the y-coordinate\n",
    "    x = float(line)\n",
    "    y = float(input(\"Enter the next y-coordinate: \"))\n",
    "\n",
    "    # Compute the distance between the current and previous points\n",
    "    dist = sqrt((prev_x - x) ** 2 + (prev_y - y) ** 2)\n",
    "    perimeter += dist\n",
    "\n",
    "    # Set up prev_x and prev_y for the next loop iteration\n",
    "    prev_x = x\n",
    "    prev_y = y\n",
    "\n",
    "    # Read the next x-coordinate\n",
    "    line = input(\"Enter the next x-coordinate (blank to quit): \")    \n",
    "    \n",
    "    \n",
    "    \n",
    "# Compute the distance from the last point back to the first point\n",
    "dist = sqrt((first_x - x) ** 2 + (first_y - y) ** 2)\n",
    "perimeter += dist\n",
    "\n",
    "# Display the perimeter of the polygon\n",
    "print(\"The perimeter of the polygon is:\", perimeter)    "
   ]
  },
  {
   "cell_type": "code",
   "execution_count": 25,
   "id": "9f6a6f79",
   "metadata": {},
   "outputs": [
    {
     "name": "stdout",
     "output_type": "stream",
     "text": [
      "Enter the first x-coordinate: -4\n",
      "Enter the first y-coordinate: -3\n",
      "Enter the next x-coordinate (blank to quit): 0\n",
      "Enter the next y-coordinate: -3\n",
      "Enter the next x-coordinate (blank to quit): \n",
      "The perimeter of the polygon is: 8.0\n"
     ]
    }
   ],
   "source": [
    "from math import sqrt\n",
    "\n",
    "# Store the perimeter of the polygon\n",
    "perimeter = 0\n",
    "\n",
    "# Read the first coordinate of the polygon\n",
    "first_x = float(input(\"Enter the first x-coordinate: \"))\n",
    "first_y = float(input(\"Enter the first y-coordinate: \"))\n",
    "\n",
    "# Provide initial value for prev_x and prev_y\n",
    "prev_x = first_x\n",
    "prev_y = first_y\n",
    "\n",
    "# Read the remaining coordinates\n",
    "line = input(\"Enter the next x-coordinate (blank to quit): \")\n",
    "while line != \"\":\n",
    "    # Convert the x-coordinate to a number and read the y-coordinate\n",
    "    x = float(line)\n",
    "    y = float(input(\"Enter the next y-coordinate: \"))\n",
    "\n",
    "    # Compute the distance between the current and previous points\n",
    "    dist = sqrt((prev_x - x) ** 2 + (prev_y - y) ** 2)\n",
    "    perimeter += dist\n",
    "\n",
    "    # Set up prev_x and prev_y for the next loop iteration\n",
    "    prev_x = x\n",
    "    prev_y = y\n",
    "\n",
    "    # Read the next x-coordinate\n",
    "    line = input(\"Enter the next x-coordinate (blank to quit): \")\n",
    "\n",
    "# Compute the distance from the last point back to the first point\n",
    "dist = sqrt((first_x - x) ** 2 + (first_y - y) ** 2)\n",
    "perimeter += dist\n",
    "\n",
    "# Display the perimeter of the polygon\n",
    "print(\"The perimeter of the polygon is:\", perimeter)"
   ]
  },
  {
   "cell_type": "markdown",
   "id": "b8e630c7",
   "metadata": {},
   "source": [
    "Task 68:\n",
    "Compute a Grade Point Average\n",
    "\n",
    "Exercise 52 includes a table that shows the conversion from letter grades to grade\n",
    "points at a particular academic institution.\n",
    "In this exercise you will compute the\n",
    "grade point average of an arbitrary number of letter grades entered by the user. \n",
    "user will enter a blank line to indicate that all of the grades have been provided.\n",
    "For\n",
    "example, if the user enters A, followed by C+, followed by B, followed by a blank\n",
    "line then your program should report a grade point average of 3.1.\n",
    "You may find your solution to Exercise 52 helpful when completing this exercise.\n",
    "Your program does not need to do any error checking. It can assume that each value\n",
    "entered by the user will always be a valid letter grade or a blank line."
   ]
  },
  {
   "cell_type": "code",
   "execution_count": 29,
   "id": "9fdb9dcc",
   "metadata": {},
   "outputs": [
    {
     "name": "stdout",
     "output_type": "stream",
     "text": [
      "Enter a letter grade (blank line to quit): A-\n",
      "Enter a letter grade (blank line to quit): A\n",
      "Enter a letter grade (blank line to quit): B\n",
      "Enter a letter grade (blank line to quit): D\n",
      "Enter a letter grade (blank line to quit): A+\n",
      "Enter a letter grade (blank line to quit): \n",
      "The grade point average is: 3.1399999999999997\n"
     ]
    }
   ],
   "source": [
    "# Create a dictionary to map letter grades to grade points\n",
    "grade_points = {'A+': 4.0, 'A': 4.0, 'A-': 3.7, 'B+': 3.3, 'B': 3.0, 'B-': 2.7, 'C+': 2.3, 'C': 2.0, 'C-': 1.7, 'D+': 1.3, 'D': 1.0, 'F': 0}\n",
    "\n",
    "# Initialize the total grade points and number of grades\n",
    "total_grade_points = 0\n",
    "num_grades = 0\n",
    "\n",
    "# Read the letter grades from the user\n",
    "letter_grade = input(\"Enter a letter grade (blank line to quit): \")\n",
    "while letter_grade != \"\":\n",
    "    # Convert the letter grade to grade points\n",
    "    if letter_grade in grade_points:\n",
    "        grade_point = grade_points[letter_grade]\n",
    "        \n",
    "#         In the provided code, grade_point = grade_points[letter_grade] \n",
    "# is used to retrieve the grade point value from the grade_points dictionary \n",
    "# that corresponds to the letter grade entered by the user. \n",
    "# The square brackets [] are used to access the value\n",
    "# associated with the key letter_grade in the dictionary grade_points. \n",
    "# This value is then assigned to the variable grade_point.\n",
    "\n",
    "        total_grade_points += grade_point\n",
    "        num_grades += 1\n",
    "    else:\n",
    "        print(\"Invalid letter grade\")\n",
    "\n",
    "    # Read the next letter grade from the user\n",
    "    letter_grade = input(\"Enter a letter grade (blank line to quit): \")\n",
    "\n",
    "# Calculate the grade point average\n",
    "if num_grades > 0:\n",
    "    gpa = total_grade_points / num_grades\n",
    "    print(\"The grade point average is:\", gpa)\n",
    "else:\n",
    "    print(\"No valid grades entered\")"
   ]
  },
  {
   "cell_type": "markdown",
   "id": "fc7eac97",
   "metadata": {},
   "source": [
    "Task 69:\n",
    "A particular zoo determines the price of admission based on the age of the guest.\n",
    "Guests 2 years of age and less are admitted without charge. Children between 3 and\n",
    "12 years of age cost $14.00. Seniors aged 65 years and over cost $18.00. Admission\n",
    "for all other guests is $23.00.\n",
    "Create a program that begins by reading the ages of all of the guests in a group\n",
    "from the user, with one age entered on each line. The user will enter a blank line to\n",
    "indicate that there are no more guests in the group. Then your program should display\n",
    "the admission cost for the group with an appropriate message. The cost should be\n",
    "displayed using two decimal places"
   ]
  },
  {
   "cell_type": "code",
   "execution_count": 30,
   "id": "ac90226c",
   "metadata": {},
   "outputs": [
    {
     "name": "stdout",
     "output_type": "stream",
     "text": [
      "Enter the age of a guest (blank to quit): 1\n",
      "Enter the age of a guest (blank to quit): 27\n",
      "Enter the age of a guest (blank to quit): 31\n",
      "Enter the age of a guest (blank to quit): 45\n",
      "Enter the age of a guest (blank to quit): 34\n",
      "Enter the age of a guest (blank to quit): \n",
      "The admission cost for the group is: $92.00\n"
     ]
    }
   ],
   "source": [
    "# Initialize the admission cost to 0\n",
    "admission_cost = 0\n",
    "\n",
    "# Read the age of each guest from the user\n",
    "while True:\n",
    "    age_str = input(\"Enter the age of a guest (blank to quit): \")\n",
    "    if age_str == \"\":\n",
    "        break\n",
    "    age = int(age_str)\n",
    "\n",
    "    # Calculate the admission cost based on the age\n",
    "    if age <= 2:\n",
    "        admission_cost += 0\n",
    "    elif age <= 12:\n",
    "        admission_cost += 14\n",
    "    elif age >= 65:\n",
    "        admission_cost += 18\n",
    "    else:\n",
    "        admission_cost += 23\n",
    "\n",
    "# Display the admission cost for the group\n",
    "print(\"The admission cost for the group is: ${:.2f}\".format(admission_cost))"
   ]
  },
  {
   "cell_type": "markdown",
   "id": "7698524d",
   "metadata": {},
   "source": [
    "Task 70: Parity Bits\n",
    "\n",
    "A parity bit is a simple mechanism for detecting errors in data transmitted over an\n",
    "unreliable connection such as a telephone line. The basic idea is that an additional bit\n",
    "is transmitted after each group of 8 bits so that a single bit error in the transmission\n",
    "can be detected.\n",
    "Parity bits can be computed for either even parity or odd parity. If even parity\n",
    "is selected then the parity bit that is transmitted is chosen so that the total number\n",
    "of one bits transmitted (8 bits of data plus the parity bit) is even. When odd parity\n",
    "is selected the parity bit is chosen so that the total number of one bits transmitted\n",
    "is odd.\n",
    "Write a program that computes the parity bit for groups of 8 bits entered by the\n",
    "user using even parity. Your program should read strings containing 8 bits until the\n",
    "user enters a blank line. After each string is entered by the user your program should\n",
    "display a clear message indicating whether the parity bit should be 0 or 1. Display\n",
    "an appropriate error message if the user enters something other than 8 bits.\n",
    "Hint: You should read the input from the user as a string. Then you can use\n",
    "the count method to help you determine the number of zeros and ones in the\n",
    "string. Information about the count method is available online."
   ]
  },
  {
   "cell_type": "code",
   "execution_count": 31,
   "id": "8f97ce45",
   "metadata": {},
   "outputs": [
    {
     "name": "stdout",
     "output_type": "stream",
     "text": [
      "Enter 8 bits (blank to quit): 87987078\n",
      "Invalid input\n",
      "Enter 8 bits (blank to quit): d\n",
      "Invalid input\n",
      "Enter 8 bits (blank to quit): 0000000\n",
      "Invalid input\n",
      "Enter 8 bits (blank to quit): 11111111\n",
      "The parity bit should be: 0\n",
      "Enter 8 bits (blank to quit): 00000000\n",
      "The parity bit should be: 0\n",
      "Enter 8 bits (blank to quit): 11111111\n",
      "The parity bit should be: 0\n",
      "Enter 8 bits (blank to quit): \n"
     ]
    }
   ],
   "source": [
    "# Read the 8-bit strings from the user\n",
    "while True:\n",
    "    bits = input(\"Enter 8 bits (blank to quit): \")\n",
    "    if bits == \"\":\n",
    "        break\n",
    "\n",
    "    # Check that the input is valid\n",
    "    if len(bits) != 8 or not all(bit in \"01\" for bit in bits):\n",
    "        print(\"Invalid input\")\n",
    "        continue\n",
    "\n",
    "    # Count the number of ones in the string\n",
    "    num_ones = bits.count(\"1\")\n",
    "\n",
    "    # Determine the parity bit\n",
    "    if num_ones % 2 == 0:\n",
    "        parity_bit = 0\n",
    "    else:\n",
    "        parity_bit = 1\n",
    "\n",
    "    # Display the parity bit\n",
    "    print(\"The parity bit should be:\", parity_bit)"
   ]
  },
  {
   "cell_type": "markdown",
   "id": "d88b1137",
   "metadata": {},
   "source": [
    "Task 71: Approximate π\n",
    "\n",
    "The value of π can be approximated by the following infinite series:\n",
    "$π ≈ 3 +\n",
    "4/\n",
    "2 × 3 × 4\n",
    "\n",
    "4/\n",
    "4 × 5 × 6\n",
    "+\n",
    "4/\n",
    "6 × 7 × 8\n",
    "\n",
    "4/\n",
    "8 × 9 × 10\n",
    "+\n",
    "4/\n",
    "10 × 11 × 12\n",
    "− · · ·$\n",
    "Write a program that displays 15 approximations of π. The first approximation should make use of only the first term from the infinite series. Each additional\n",
    "approximation displayed by your program should include one more term in the series,\n",
    "making it a better approximation of π than any of the approximations displayed previously"
   ]
  },
  {
   "cell_type": "code",
   "execution_count": 23,
   "id": "47613577",
   "metadata": {},
   "outputs": [
    {
     "name": "stdout",
     "output_type": "stream",
     "text": [
      "Approximation 1 : 3.1666666666666665\n",
      "Approximation 2 : 3.1999999999999997\n",
      "Approximation 3 : 3.2119047619047616\n",
      "Approximation 4 : 3.217460317460317\n",
      "Approximation 5 : 3.22049062049062\n",
      "Approximation 6 : 3.222322122322122\n",
      "Approximation 7 : 3.223512598512598\n",
      "Approximation 8 : 3.2243295919766504\n",
      "Approximation 9 : 3.2249143872982877\n",
      "Approximation 10 : 3.225347287731188\n",
      "Approximation 11 : 3.2256766684953515\n",
      "Approximation 12 : 3.225933078751762\n",
      "Approximation 13 : 3.2261365789552623\n",
      "Approximation 14 : 3.226300782567742\n",
      "Approximation 15 : 3.2264351911698923\n"
     ]
    }
   ],
   "source": [
    "pi = 3\n",
    "denominator = 2\n",
    "for i in range(15):\n",
    "    pi += 4 / (denominator * (denominator + 1) * (denominator + 2))\n",
    "    denominator += 2\n",
    "    print(\"Approximation\", i+1, \":\", pi)"
   ]
  },
  {
   "cell_type": "markdown",
   "id": "dff530df",
   "metadata": {},
   "source": [
    "Task72: Fizz-Buzz\n",
    "\n",
    "Fizz-Buzz is a game that is sometimes played by children to help them learn about\n",
    "division. The players are commonly arranged in a circle so that the game can progress\n",
    "from player to player continually. The starting player begins by saying one, and then\n",
    "play passes to the player to the left. Each subsequent player is responsible for the\n",
    "next integer in sequence before play passes to the following player. On a player’s\n",
    "turn they must either say their number or one of following substitutions:\n",
    "• If the player’s number is divisible by 3 then the player says fizz instead of their\n",
    "number.\n",
    "• If the player’s number is divisible by 5 then the player says buzz instead of their\n",
    "number.\n",
    "A player must say both fizz and buzz for numbers that are divisible by both 3\n",
    "and 5. Any player that fails to perform the correct substitution or hesitates before\n",
    "answering is eliminated from the game. The last player remaining is the winner.\n",
    "Write a program that displays the answers for the first 100 numbers in the FizzBuzz game. Each answer should be displayed on its own line."
   ]
  },
  {
   "cell_type": "code",
   "execution_count": 27,
   "id": "74ea9cd1",
   "metadata": {},
   "outputs": [
    {
     "name": "stdout",
     "output_type": "stream",
     "text": [
      "56\n",
      "56\n",
      "56\n",
      "56\n",
      "56\n",
      "56\n",
      "56\n",
      "56\n",
      "56\n",
      "56\n",
      "56\n",
      "56\n",
      "56\n",
      "56\n",
      "56\n",
      "56\n",
      "56\n",
      "56\n",
      "56\n",
      "56\n",
      "56\n",
      "56\n",
      "56\n",
      "56\n",
      "56\n",
      "56\n",
      "56\n",
      "56\n",
      "56\n",
      "56\n",
      "56\n",
      "56\n",
      "56\n",
      "56\n",
      "56\n",
      "56\n",
      "56\n",
      "56\n",
      "56\n",
      "56\n",
      "56\n",
      "56\n",
      "56\n",
      "56\n",
      "56\n",
      "56\n",
      "56\n",
      "56\n",
      "56\n",
      "56\n",
      "56\n",
      "56\n",
      "56\n",
      "56\n",
      "56\n",
      "56\n",
      "56\n",
      "56\n",
      "56\n",
      "56\n",
      "56\n",
      "56\n",
      "56\n",
      "56\n",
      "56\n",
      "56\n",
      "56\n",
      "56\n",
      "56\n",
      "56\n",
      "56\n",
      "56\n",
      "56\n",
      "56\n",
      "56\n",
      "56\n",
      "56\n",
      "56\n",
      "56\n",
      "56\n",
      "56\n",
      "56\n",
      "56\n",
      "56\n",
      "56\n",
      "56\n",
      "56\n",
      "56\n",
      "56\n",
      "56\n",
      "56\n",
      "56\n",
      "56\n",
      "56\n",
      "56\n",
      "56\n",
      "56\n",
      "56\n",
      "56\n",
      "56\n"
     ]
    }
   ],
   "source": [
    "for number in range(1,101):\n",
    "    if i % 3==0 and i % 5==0:\n",
    "        print(\"Fizz Buzz\")\n",
    "    elif i % 3==0:\n",
    "        print(\"Fizz\")\n",
    "    elif i % 5==0:\n",
    "        print(\"Buzz\")\n",
    "    else:\n",
    "        print(i)"
   ]
  },
  {
   "cell_type": "code",
   "execution_count": 26,
   "id": "80e198f6",
   "metadata": {},
   "outputs": [
    {
     "name": "stdout",
     "output_type": "stream",
     "text": [
      "Enter any number smaller than 100: 56\n",
      "1\n",
      "2\n",
      "Fizz\n",
      "4\n",
      "Buzz\n",
      "Fizz\n",
      "7\n",
      "8\n",
      "Fizz\n",
      "Buzz\n",
      "11\n",
      "Fizz\n",
      "13\n",
      "14\n",
      "FizzBuzz\n",
      "16\n",
      "17\n",
      "Fizz\n",
      "19\n",
      "Buzz\n",
      "Fizz\n",
      "22\n",
      "23\n",
      "Fizz\n",
      "Buzz\n",
      "26\n",
      "Fizz\n",
      "28\n",
      "29\n",
      "FizzBuzz\n",
      "31\n",
      "32\n",
      "Fizz\n",
      "34\n",
      "Buzz\n",
      "Fizz\n",
      "37\n",
      "38\n",
      "Fizz\n",
      "Buzz\n",
      "41\n",
      "Fizz\n",
      "43\n",
      "44\n",
      "FizzBuzz\n",
      "46\n",
      "47\n",
      "Fizz\n",
      "49\n",
      "Buzz\n",
      "Fizz\n",
      "52\n",
      "53\n",
      "Fizz\n",
      "Buzz\n",
      "56\n",
      "\n"
     ]
    }
   ],
   "source": [
    "number = int(input(\"Enter any number smaller than 100: \"))\n",
    "output = \"\"\n",
    "for i in range(1, number+1):\n",
    "    if i % 3 == 0 and i % 5 == 0:\n",
    "        output += \"FizzBuzz\\n\"\n",
    "    elif i % 3 == 0:\n",
    "        output += \"Fizz\\n\"\n",
    "    elif i % 5 == 0:\n",
    "        output += \"Buzz\\n\"\n",
    "    else:\n",
    "        output += str(i) + \"\\n\"\n",
    "print(output)"
   ]
  },
  {
   "cell_type": "markdown",
   "id": "6e400239",
   "metadata": {},
   "source": [
    "Task 73: Caesar Cipher\n",
    "\n",
    "One of the first known examples of encryption was used by Julius Caesar. Caesar\n",
    "needed to provide written instructions to his generals, but he didn’t want his enemies\n",
    "to learn his plans if the message slipped into their hands. As a result, he developed\n",
    "what later became known as the Caesar cipher.\n",
    "The idea behind this cipher is simple (and as such, it provides no protection against\n",
    "modern code breaking techniques). Each letter in the original message is shifted by\n",
    "3 places. As a result, A becomes D, B becomes E, C becomes F, D becomes G, etc.\n",
    "The last three letters in the alphabet are wrapped around to the beginning: X becomes\n",
    "A, Y becomes B and Z becomes C. Non-letter characters are not modified by the\n",
    "cipher.\n",
    "Write a program that implements a Caesar cipher. Allow the user to supply the\n",
    "message and the shift amount, and then display the shifted message. Ensure that\n",
    "your program encodes both uppercase and lowercase letters. Your program should\n",
    "also support negative shift values so that it can be used both to encode messages and\n",
    "decode messages."
   ]
  },
  {
   "cell_type": "code",
   "execution_count": 28,
   "id": "9290b969",
   "metadata": {},
   "outputs": [
    {
     "name": "stdout",
     "output_type": "stream",
     "text": [
      "Enter the message: Hello hero\n",
      "Enter the shift amount: 5\n",
      "The encrypted message is: Mjqqt mjwt\n"
     ]
    }
   ],
   "source": [
    "def caesar_cipher(message, shift):\n",
    "    result = \"\"\n",
    "    for char in message:\n",
    "        if char.isalpha():\n",
    "            if char.isupper():\n",
    "                result += chr((ord(char) + shift - 65) % 26 + 65)\n",
    "            else:\n",
    "                result += chr((ord(char) + shift - 97) % 26 + 97)\n",
    "        else:\n",
    "            result += char\n",
    "    return result\n",
    "\n",
    "message = input(\"Enter the message: \")\n",
    "shift = int(input(\"Enter the shift amount: \"))\n",
    "encrypted_message = caesar_cipher(message, shift)\n",
    "print(\"The encrypted message is:\", encrypted_message)"
   ]
  },
  {
   "cell_type": "code",
   "execution_count": 3,
   "id": "d5790ff6",
   "metadata": {},
   "outputs": [
    {
     "name": "stdout",
     "output_type": "stream",
     "text": [
      "Enter the message: Hello Hero\n",
      "Enter the shift value: 5\n",
      "The shifted message is M\n",
      "The shifted message is Mj\n",
      "The shifted message is Mjq\n",
      "The shifted message is Mjqq\n",
      "The shifted message is Mjqqt\n",
      "The shifted message is Mjqqt \n",
      "The shifted message is Mjqqt M\n",
      "The shifted message is Mjqqt Mj\n",
      "The shifted message is Mjqqt Mjw\n",
      "The shifted message is Mjqqt Mjwt\n"
     ]
    }
   ],
   "source": [
    "message = input(\"Enter the message: \")\n",
    "shift = int(input(\"Enter the shift value: \"))\n",
    "new_message = \"\"\n",
    "for ch in message:\n",
    "    if ch >= \"a\" and ch <= \"z\":\n",
    "        pos = ord(ch) - ord(\"a\")\n",
    "        pos = (pos +shift ) % 26\n",
    "        new_char = chr(pos + ord(\"a\"))\n",
    "        new_message = new_message + new_char\n",
    "    elif ch >= \"A\" and ch <= \"Z\":\n",
    "        pos = ord(ch) - ord(\"A\")\n",
    "        pos = (pos +shift ) % 26\n",
    "        new_char = chr(pos + ord(\"A\"))\n",
    "        new_message = new_message + new_char\n",
    "    else:\n",
    "        new_message = new_message + ch\n",
    "    print(\"The shifted message is\", new_message)\n",
    "        "
   ]
  },
  {
   "cell_type": "code",
   "execution_count": 5,
   "id": "00067844",
   "metadata": {},
   "outputs": [
    {
     "name": "stdout",
     "output_type": "stream",
     "text": [
      "Enter the message: Hello Hero\n",
      "Enter the shift value: 5\n",
      "The shifted message is:  Mjqqt Mjwt\n"
     ]
    }
   ],
   "source": [
    "message = input(\"Enter the message: \")\n",
    "shift = int(input(\"Enter the shift value: \"))\n",
    "new_message = \"\"\n",
    "for ch in message:\n",
    "    if ch >= \"a\" and ch <= \"z\":\n",
    "        pos = ord(ch) - ord(\"a\")\n",
    "        pos = (pos +shift ) % 26\n",
    "        new_char = chr(pos + ord(\"a\"))\n",
    "        new_message = new_message + new_char\n",
    "    elif ch >= \"A\" and ch <= \"Z\":\n",
    "        pos = ord(ch) - ord(\"A\")\n",
    "        pos = (pos +shift ) % 26\n",
    "        new_char = chr(pos + ord(\"A\"))\n",
    "        new_message = new_message + new_char\n",
    "    else:\n",
    "        new_message = new_message + ch\n",
    "print(\"The shifted message is: \", new_message)\n",
    "        "
   ]
  },
  {
   "cell_type": "markdown",
   "id": "52f6bcb3",
   "metadata": {},
   "source": [
    "Task 74:\n",
    "Write a program that implements Newton’s method to compute and display the\n",
    "square root of a number, x, entered by the user. The algorithm for Newton’s method\n",
    "follows:\n",
    "Read x from the user\n",
    "Initialize guess to x/2\n",
    "While guess is not good enough do\n",
    "Update guess to be the average of guess and x/guess\n",
    "When this algorithm completes, guess contains an approximation of the square\n",
    "root of x. The quality of the approximation depends on how you define “good\n",
    "enough”. In the author’s solution, guess was considered good enough when the\n",
    "absolute value of the difference between guess ∗ guess and x was less than or equal\n",
    "to 10**(−12)"
   ]
  },
  {
   "cell_type": "code",
   "execution_count": 8,
   "id": "5b30bd6c",
   "metadata": {},
   "outputs": [
    {
     "name": "stdout",
     "output_type": "stream",
     "text": [
      "Enter a number: 37\n",
      "The square root of 37.0 is 6.08276253029822\n"
     ]
    }
   ],
   "source": [
    "def newton_sqrt(x):\n",
    "    guess = x / 2\n",
    "    while abs(guess * guess - x) > 10**(-12):\n",
    "        guess = (guess + x / guess) / 2\n",
    "    return guess\n",
    "\n",
    "x = float(input(\"Enter a number: \"))\n",
    "sqrt_x = newton_sqrt(x)\n",
    "print(\"The square root of\", x, \"is\", sqrt_x)"
   ]
  },
  {
   "cell_type": "code",
   "execution_count": 9,
   "id": "bc25382c",
   "metadata": {},
   "outputs": [
    {
     "name": "stdout",
     "output_type": "stream",
     "text": [
      "Enter a number: 45677565456.6476459999999999\n",
      "The square root of 45677565456.647644 is 213723.10463926833\n"
     ]
    }
   ],
   "source": [
    "def newton_sqrt(x):\n",
    "    guess = x /2\n",
    "    while abs(guess*guess - x)> 10**(-12):\n",
    "        guess = (guess + x/guess)/2\n",
    "    return guess\n",
    "x = float(input(\"Enter a number: \"))\n",
    "sqrt_x = newton_sqrt(x)\n",
    "print(\"The square root of\", x , \"is\", sqrt_x)"
   ]
  },
  {
   "cell_type": "markdown",
   "id": "92a19cb7",
   "metadata": {},
   "source": [
    "Task 75:\n",
    "Is a string a Palindrome?\n",
    "\n",
    "A string is a palindrome if it is identical forward and backward. For example “anna”,\n",
    "“civic”, “level” and “hannah” are all examples of palindromic words.Write a program\n",
    "that reads a string from the user and uses a loop to determine whether or not it is a\n",
    "palindrome. Display the result, including a meaningful output message"
   ]
  },
  {
   "cell_type": "code",
   "execution_count": 12,
   "id": "dfbfc6e4",
   "metadata": {},
   "outputs": [
    {
     "name": "stdout",
     "output_type": "stream",
     "text": [
      "Enter a string: anna\n",
      "anna is a palindrome\n"
     ]
    }
   ],
   "source": [
    "line = input(\"Enter a string: \")\n",
    "is_palindrome = True\n",
    "i =0\n",
    "while i < len(line) /2 and is_palindrome:\n",
    "    if line[i] !=line[len(line)-i-1]:\n",
    "        is_palindrome = False\n",
    "    i = i + 1\n",
    "    \n",
    "if is_palindrome:\n",
    "    print(line,\"is a palindrome\")\n",
    "else:\n",
    "    print(line,\"is not a palindrome\")"
   ]
  },
  {
   "cell_type": "markdown",
   "id": "3ff5ab6e",
   "metadata": {},
   "source": [
    "Task 76 Multiple Word Palindromes\n",
    "There are numerous phrases that are palindromes when spacing is ignored. Examples\n",
    "include “go dog”, “flee to me remote elf” and “some men interpret nine memos”,\n",
    "among many others. Extend your solution to Exercise 75 so that it ignores spacing\n",
    "while determiningwhether or not a string is a palindrome. For an additional challenge,\n",
    "further extend your solution so that is also ignores punctuation marks and treats\n",
    "uppercase and lowercase letters as equivalent."
   ]
  },
  {
   "cell_type": "code",
   "execution_count": 3,
   "id": "b769348d",
   "metadata": {},
   "outputs": [
    {
     "name": "stdout",
     "output_type": "stream",
     "text": [
      "True\n",
      "True\n",
      "True\n",
      "False\n",
      "False\n"
     ]
    }
   ],
   "source": [
    "def is_palindrome(string):\n",
    "    # Remove whitespace and convert to lowercase\n",
    "    new = ''.join(string.split()).lower()\n",
    "    # Check if the resulting string is a palindrome\n",
    "    return new == new[::-1]\n",
    "print(is_palindrome(\"go dog\"))  # True\n",
    "print(is_palindrome(\"flee to me remote elf\"))  # True\n",
    "print(is_palindrome(\"some men interpret nine memos\"))  # True\n",
    "print(is_palindrome(\"A man, a plan, a canal, Panama!\"))  # True\n",
    "print(is_palindrome(\"not a palindrome\"))  # False"
   ]
  },
  {
   "cell_type": "markdown",
   "id": "7e5386e1",
   "metadata": {},
   "source": [
    "Task 77\n",
    "In this exercise you will create a program that displays a multiplication table that\n",
    "shows the products of all combinations of integers from 1 times 1 up to and including\n",
    "10 times 10. Your multiplication table should include a row of labels across the top\n",
    "of it containing the numbers 1 through 10. It should also include labels down the left\n",
    "side consisting of the numbers 1 through 10. The expected output from the program\n",
    "is shown below:\n",
    "When completing this exercise you will probably find it helpful to be able to\n",
    "print out a value without moving down to the next line. This can be accomplished\n",
    "by added end=\"\" as the last argument to your print statement. For example,\n",
    "print(\"A\") will display the letter A and then move down to the next line. The\n",
    "statement print(\"A\", end=\"\") will display the letter A without moving down\n",
    "to the next line, causing the next print statement to display its result on the same line\n",
    "as the letter A."
   ]
  },
  {
   "cell_type": "code",
   "execution_count": 4,
   "id": "24f282f6",
   "metadata": {},
   "outputs": [
    {
     "name": "stdout",
     "output_type": "stream",
     "text": [
      "     1   2   3   4   5   6   7   8   9  10\n",
      " 1   1   2   3   4   5   6   7   8   9  10\n",
      " 2   2   4   6   8  10  12  14  16  18  20\n",
      " 3   3   6   9  12  15  18  21  24  27  30\n",
      " 4   4   8  12  16  20  24  28  32  36  40\n",
      " 5   5  10  15  20  25  30  35  40  45  50\n",
      " 6   6  12  18  24  30  36  42  48  54  60\n",
      " 7   7  14  21  28  35  42  49  56  63  70\n",
      " 8   8  16  24  32  40  48  56  64  72  80\n",
      " 9   9  18  27  36  45  54  63  72  81  90\n",
      "10  10  20  30  40  50  60  70  80  90 100\n"
     ]
    }
   ],
   "source": [
    "# Print the column labels\n",
    "print(\"  \", end=\"\")\n",
    "for i in range(1, 11):\n",
    "    print(f\"{i:4}\", end=\"\")  # Use a field width of 4 for alignment\n",
    "print()\n",
    "\n",
    "# Print the table\n",
    "for i in range(1, 11):\n",
    "    # Print the row label\n",
    "    print(f\"{i:2}\", end=\"\")\n",
    "\n",
    "    # Print the products\n",
    "    for j in range(1, 11):\n",
    "        print(f\"{i * j:4}\", end=\"\")  # Use a field width of 4 for alignment\n",
    "\n",
    "    # Move to the next line\n",
    "    print()"
   ]
  },
  {
   "cell_type": "markdown",
   "id": "c94b7bdb",
   "metadata": {},
   "source": [
    "Task 78:The Collatz Conjecture\n",
    "\n",
    "Consider a sequence of integers that is constructed in the following manner:\n",
    "Start with any positive integer as the only term in the sequence\n",
    "While the last term in the sequence is not equal to 1 do\n",
    "If the last term is even then\n",
    "Add another term to the sequence by dividing the last term by 2 using\n",
    "floor division\n",
    "Else\n",
    "Add another term to the sequence by multiplying the last term by 3 and\n",
    "adding 1\n",
    "The Collatz conjecture states that this sequence will eventually end with one when\n",
    "it begins with any positive integer. Although this conjecture has never been proved,\n",
    "it appears to be true.\n",
    "Create a program that reads an integer, n, from the user and reports all of the\n",
    "values in the sequence starting with n and ending with one. Your program should\n",
    "allow the user to continue entering new n values (and your program should continue\n",
    "displaying the sequences) until the user enters a value for n that is less than or equal\n",
    "to zero.\n",
    "The Collatz conjecture is an example of an open problem in mathematics.\n",
    "While many people have tried to prove that it is true, no one has been able to\n",
    "do so. Information on other open problems in mathematics can be found on\n",
    "the Internet."
   ]
  },
  {
   "cell_type": "code",
   "execution_count": null,
   "id": "2734b751",
   "metadata": {},
   "outputs": [],
   "source": []
  },
  {
   "cell_type": "markdown",
   "id": "ab653d9d",
   "metadata": {},
   "source": [
    "Task  79: Greatest Common Divisor\n",
    "\n",
    "The greatest common divisor of two positive integers, n and m, is the largest number,\n",
    "d, which divides evenly into both n and m. There are several algorithms that can be\n",
    "used to solve this problem, including:\n",
    "Initialize d to the smaller of m and n.\n",
    "While d does not evenly divide m or d does not evenly divide n do\n",
    "Decrease the value of d by 1\n",
    "Report d as the greatest common divisor of n and m\n",
    "Write a program that reads two positive integers from the user and uses this algorithm\n",
    "to determine and report their greatest common divisor"
   ]
  },
  {
   "cell_type": "code",
   "execution_count": null,
   "id": "2c239eb8",
   "metadata": {},
   "outputs": [],
   "source": []
  },
  {
   "cell_type": "markdown",
   "id": "292c9202",
   "metadata": {},
   "source": [
    "Task 80\n",
    "The prime factorization of an integer, n, can be determined using the following steps:\n",
    "Initialize factor to 2\n",
    "While factor is less than or equal to n do\n",
    "If n is evenly divisible by factor then\n",
    "Conclude that factor is a factor of n\n",
    "Divide n by factor using floor division\n",
    "Else\n",
    "Increase factor by 1\n",
    "Write a program that reads an integer from the user. If the value entered by the\n",
    "user is less than 2 then your program should display an appropriate error message.\n",
    "Otherwise your program should display the prime numbers that can be multiplied\n",
    "together to compute n, with one factor appearing on each line"
   ]
  },
  {
   "cell_type": "code",
   "execution_count": null,
   "id": "183942de",
   "metadata": {},
   "outputs": [],
   "source": []
  },
  {
   "cell_type": "markdown",
   "id": "941940ae",
   "metadata": {},
   "source": [
    "Task 81: Binary to Decimal\n",
    "\n",
    "Write a program that converts a binary (base 2) number to decimal (base 10). Your\n",
    "program should begin by reading the binary number from the user as a string. Then\n",
    "it should compute the equivalent decimal number by processing each digit in the\n",
    "binary number. Finally, your program should display the equivalent decimal number\n",
    "with an appropriate message."
   ]
  },
  {
   "cell_type": "code",
   "execution_count": null,
   "id": "87e67b59",
   "metadata": {},
   "outputs": [],
   "source": []
  },
  {
   "cell_type": "markdown",
   "id": "78f63edd",
   "metadata": {},
   "source": [
    "Task 82\n",
    "Exercise 82: Decimal to Binary\n",
    "(Solved, 27 Lines)\n",
    "Write a program that converts a decimal (base 10) number to binary (base 2). Read the\n",
    "decimal number from the user as an integer and then use the division algorithm shown\n",
    "below to perform the conversion. When the algorithm completes, result contains the\n",
    "binary representation of the number. Display the result, along with an appropriate\n",
    "message\n",
    "Let result be an empty string\n",
    "Let q represent the number to convert\n",
    "repeat\n",
    "Set r equal to the remainder when q is divided by 2\n",
    "Convert r to a string and add it to the beginning of result\n",
    "Divide q by 2, discarding any remainder, and store the result back into q\n",
    "until q is 0"
   ]
  },
  {
   "cell_type": "code",
   "execution_count": null,
   "id": "d274b7ef",
   "metadata": {},
   "outputs": [],
   "source": []
  },
  {
   "cell_type": "markdown",
   "id": "3e047e28",
   "metadata": {},
   "source": [
    "Task83: Maximum Integer\n",
    "\n",
    "This exercise examines the process of identifying the maximum value in a collection\n",
    "of integers. Each of the integers will be randomly selected from the numbers between\n",
    "1 and 100. The collection of integers may contain duplicate values, and some of the\n",
    "integers between 1 and 100 may not be present.\n",
    "Take a moment and think about how you would solve this problem on paper. Many\n",
    "people would check each integer in sequence and ask themself if the number that\n",
    "they are currently considering is larger than the largest number that they have seen\n",
    "previously. If it is, then they forget the previous maximum number and remember\n",
    "the current number as the new maximum number. This is a reasonable approach,\n",
    "and will result in the correct answer when the process is performed carefully. If you\n",
    "were performing this task, how many times would you expect to need to update the\n",
    "maximum value and remember a new number?\n",
    "While we can answer the question posed at the end of the previous paragraph\n",
    "using probability theory, we are going to explore it by simulating the situation. Create a program that begins by selecting a random integer between 1 and 100. Save this\n",
    "integer as the maximum number encountered so far. After the initial integer has been\n",
    "selected, generate 99 additional random integers between 1 and 100. Check each\n",
    "integer as it is generated to see if it is larger than the maximum number encountered\n",
    "so far. If it is then your program should update the maximum number encountered\n",
    "and count the fact that you performed an update. Display each integer after you generate it. Include a notation with those integers which represent a new maximum.\n",
    "After you have displayed 100 integers your program should display the maximum value encountered, along with the number of times the maximum value\n",
    "was updated during the process. Partial output for the program is shown below,\n",
    "with… representing the remaining integers that your program will display. Run your\n",
    "program several times. Is the number of updates performed on the maximum value\n",
    "what you expected?"
   ]
  },
  {
   "cell_type": "code",
   "execution_count": null,
   "id": "b722043b",
   "metadata": {},
   "outputs": [],
   "source": []
  },
  {
   "cell_type": "markdown",
   "id": "4ba2b7f6",
   "metadata": {},
   "source": [
    "Task84: Coin Flip Simulation\n",
    "\n",
    "What’s the minimum number of times you have to flip a coin before you can have\n",
    "three consecutive flips that result in the same outcome (either all three are heads or\n",
    "all three are tails)? What’s the maximum number of flips that might be needed? How\n",
    "many flips are needed on average? In this exercise we will explore these questions\n",
    "by creating a program that simulates several series of coin flips.\n",
    "Create a program that uses Python’s random number generator to simulate flipping\n",
    "a coin several times. The simulated coin should be fair, meaning that the probability\n",
    "of heads is equal to the probability of tails. Your program should flip simulated\n",
    "coins until either 3 consecutive heads of 3 consecutive tails occur. Display an H each\n",
    "time the outcome is heads, and a T each time the outcome is tails, with all of the\n",
    "outcomes for one simulation on the same line. Then display the number of flips that\n",
    "were needed to reach 3 consecutive occurrences of the same outcome. When your\n",
    "program is run it should perform the simulation 10 times and report the average\n",
    "number of flips needed. Sample output is shown below:"
   ]
  },
  {
   "cell_type": "code",
   "execution_count": null,
   "id": "eec40fa7",
   "metadata": {},
   "outputs": [],
   "source": []
  },
  {
   "cell_type": "markdown",
   "id": "1148e15e",
   "metadata": {},
   "source": [
    "Print the numbers 0-20, one number per line"
   ]
  },
  {
   "cell_type": "code",
   "execution_count": 16,
   "id": "930f6d2a",
   "metadata": {},
   "outputs": [
    {
     "name": "stdout",
     "output_type": "stream",
     "text": [
      "0\n",
      "1\n",
      "2\n",
      "3\n",
      "4\n",
      "5\n",
      "6\n",
      "7\n",
      "8\n",
      "9\n",
      "10\n",
      "11\n",
      "12\n",
      "13\n",
      "14\n",
      "15\n",
      "16\n",
      "17\n",
      "18\n",
      "19\n",
      "20\n"
     ]
    }
   ],
   "source": [
    "for i in range(21):\n",
    "    print(i)"
   ]
  },
  {
   "cell_type": "code",
   "execution_count": 17,
   "id": "11f9a367",
   "metadata": {},
   "outputs": [
    {
     "name": "stdout",
     "output_type": "stream",
     "text": [
      "3\n",
      "5\n",
      "7\n",
      "9\n",
      "11\n",
      "13\n",
      "15\n",
      "17\n",
      "19\n",
      "21\n",
      "23\n",
      "25\n",
      "27\n",
      "29\n"
     ]
    }
   ],
   "source": [
    "# print only ODD values form 3-29, one number per line.\n",
    "for i in range(3,30,2):\n",
    "    print(i)"
   ]
  },
  {
   "cell_type": "code",
   "execution_count": 18,
   "id": "8e081ff0",
   "metadata": {},
   "outputs": [
    {
     "name": "stdout",
     "output_type": "stream",
     "text": [
      "12\n",
      "10\n",
      "8\n",
      "6\n",
      "4\n",
      "2\n",
      "0\n",
      "-2\n",
      "-4\n",
      "-6\n",
      "-8\n",
      "-10\n",
      "-12\n",
      "-14\n"
     ]
    }
   ],
   "source": [
    "# Print the EVEN numbers 12 down to -14 in descending order, one number per line\n",
    "for i in range(12,-15,-2):\n",
    "    print(i)"
   ]
  },
  {
   "cell_type": "code",
   "execution_count": 19,
   "id": "af315c57",
   "metadata": {},
   "outputs": [
    {
     "name": "stdout",
     "output_type": "stream",
     "text": [
      "48\n",
      "45\n",
      "42\n",
      "39\n",
      "36\n",
      "33\n",
      "30\n",
      "27\n",
      "24\n",
      "21\n"
     ]
    }
   ],
   "source": [
    "# print the numbers 50 down to 20 in decsending order, but only if the numbers are multiples of 3\n",
    "for i in range(50,19,-1):\n",
    "    if i %3 ==0:\n",
    "        print(i)"
   ]
  },
  {
   "cell_type": "code",
   "execution_count": 28,
   "id": "1bfdbfdd",
   "metadata": {},
   "outputs": [
    {
     "name": "stdout",
     "output_type": "stream",
     "text": [
      "1\n",
      "5\n",
      "LC101\n",
      "blue\n",
      "42\n"
     ]
    }
   ],
   "source": [
    "# Initialize two variables to hold the string 'LaunchCode' and the array [1, 5, 'LC101', 'blue', 42], then construct for loops to accomplish the following tasks:\n",
    "\n",
    "# Print each element of the array to a new line.\n",
    "\n",
    "# Print each character of the string---in reverse order---to a new line.\n",
    "arr = [1,5,'LC101','blue',42]\n",
    "for i in arr:\n",
    "    print(i)\n"
   ]
  },
  {
   "cell_type": "code",
   "execution_count": 21,
   "id": "a54b5262",
   "metadata": {},
   "outputs": [
    {
     "name": "stdout",
     "output_type": "stream",
     "text": [
      "e\n",
      "d\n",
      "o\n",
      "C\n",
      "h\n",
      "c\n",
      "n\n",
      "u\n",
      "a\n",
      "L\n"
     ]
    }
   ],
   "source": [
    "# Initialize two variables to hold the string 'LaunchCode' \n",
    "# and the array [1, 5, 'LC101', 'blue', 42], then construct for\n",
    "# loops to accomplish the following tasks:\n",
    "# Print each character of the string---in reverse order---to\n",
    "# a new line.\n",
    "str = 'LaunchCode'\n",
    "for i in range(len(str)-1,-1,-1):\n",
    "    print(str[i])\n"
   ]
  },
  {
   "cell_type": "code",
   "execution_count": 26,
   "id": "0de7ddc1",
   "metadata": {},
   "outputs": [
    {
     "name": "stdout",
     "output_type": "stream",
     "text": [
      "Evens: [2, 18, 38, -10, 0, 104]\n",
      "Odds: [3, 13, -5, 11]\n"
     ]
    }
   ],
   "source": [
    "# Construct a for loop that sorts the array[2,3,13,18,-5,38,-10,11,0,104] in to two new arrays\n",
    "\n",
    "arr = [2,3,13,18,-5,38,-10,11,0,104] \n",
    "evens =[]\n",
    "odds = []\n",
    "for i in arr:\n",
    "    if i %2 ==0:\n",
    "        evens.append(i)\n",
    "    else:\n",
    "        odds.append(i)\n",
    "print(\"Evens:\",evens)\n",
    "print(\"Odds:\",odds)"
   ]
  },
  {
   "cell_type": "code",
   "execution_count": 4,
   "id": "c6f7fb95",
   "metadata": {},
   "outputs": [
    {
     "name": "stdout",
     "output_type": "stream",
     "text": [
      "Enter the starting fuel(between 5000 and 30000)6778987\n",
      "Enter the starting fuel(between 5000 and 30000)22500\n"
     ]
    }
   ],
   "source": [
    "# Construct while loops to do the following:\n",
    "\n",
    "# Prompt the user to enter the starting fuel level.\n",
    "# The loop should continue until the user enters a positive value\n",
    "# greater than 5000 but less than 30000.\n",
    "\n",
    "fuel_level = 0\n",
    "while fuel_level <=0 or fuel_level >=30000 or fuel_level <=5000:\n",
    "    fuel_level= int(input(\"Enter the starting fuel(between 5000 and 30000)\"))\n",
    "    "
   ]
  },
  {
   "cell_type": "code",
   "execution_count": 1,
   "id": "308d60a3",
   "metadata": {},
   "outputs": [
    {
     "name": "stdout",
     "output_type": "stream",
     "text": [
      "Enter the number of astronauts(1-7): 4\n"
     ]
    }
   ],
   "source": [
    "# Use a second loop to query the user for the number of\n",
    "# astronauts (up to a maximum of 7). Validate the entry by having\n",
    "# the loop continue until the user enters an integer from 1 - 7.\n",
    "num_astronauts = 0\n",
    "while num_astronauts < 1 or num_astronauts >7:\n",
    "    num_astronauts = int(input(\"Enter the number of astronauts(1-7): \"))"
   ]
  },
  {
   "cell_type": "code",
   "execution_count": 3,
   "id": "7b021a64",
   "metadata": {},
   "outputs": [
    {
     "name": "stdout",
     "output_type": "stream",
     "text": [
      "Enter the starting fuel level (between 5000 and 30000): 6700\n"
     ]
    }
   ],
   "source": [
    "fuel_level = 0\n",
    "while fuel_level <= 0 or fuel_level >= 30000 or fuel_level <= 5000:\n",
    "    fuel_level = int(input(\"Enter the starting fuel level (between 5000 and 30000): \"))"
   ]
  },
  {
   "cell_type": "code",
   "execution_count": 5,
   "id": "0e8eb154",
   "metadata": {},
   "outputs": [
    {
     "name": "stdout",
     "output_type": "stream",
     "text": [
      "Enter the starting fuel level: 22500\n",
      "Enter the number of astronauts:6\n",
      "Final altitude:  1850\n",
      "Remaining fuel:  300\n"
     ]
    }
   ],
   "source": [
    "# Use a final loop to monitor the fuel status and the altitude \n",
    "# of the shuttle. Each iteration, decrease the fuel level by 100 units\n",
    "# for each astronaut aboard. Also, increase the altitude by \n",
    "# 50 kilometers. (Hint: The loop should end when there is not enough \n",
    "#                 fuel to boost the\n",
    "# crew another 50 km, so the fuel level might not reach 0).\n",
    "fuel_level = int(input(\"Enter the starting fuel level: \"))\n",
    "num_astronauts = int(input(\"Enter the number of astronauts:\"))\n",
    "altitude =0\n",
    "while fuel_level >=num_astronauts *100 and fuel_level >0:\n",
    "    fuel_level -= num_astronauts*100\n",
    "    altitude +=50\n",
    "    \n",
    "print(\"Final altitude: \", altitude)\n",
    "print(\"Remaining fuel: \", fuel_level)"
   ]
  },
  {
   "cell_type": "code",
   "execution_count": 6,
   "id": "cc2fb1c8",
   "metadata": {},
   "outputs": [
    {
     "name": "stdout",
     "output_type": "stream",
     "text": [
      "Enter the starting fuel level: 21000\n",
      "Enter the number of astronauts: 5\n",
      "The shuttle gained an altitude of 2100 km. Orbit achieved!\n"
     ]
    }
   ],
   "source": [
    "# After the loops complete, output the result with the phrase, The shuttle gained an altitude of ___ km.\n",
    "\n",
    "# If the altitude is 2000 km or higher, add \"Orbit achieved!\"\n",
    "\n",
    "# Otherwise add, \"Failed to reach orbit.\"\n",
    "fuel_level = int(input(\"Enter the starting fuel level: \"))\n",
    "num_astronauts = int(input(\"Enter the number of astronauts: \"))\n",
    "altitude = 0\n",
    "while fuel_level >= num_astronauts * 100 and fuel_level > 0:\n",
    "    fuel_level -= num_astronauts * 100\n",
    "    altitude += 50\n",
    "\n",
    "if altitude >= 2000:\n",
    "    print(\"The shuttle gained an altitude of\", altitude, \"km. Orbit achieved!\")\n",
    "else:\n",
    "    print(\"The shuttle gained an altitude of\", altitude, \"km. Failed to reach orbit.\")"
   ]
  },
  {
   "cell_type": "code",
   "execution_count": null,
   "id": "8d529f43",
   "metadata": {},
   "outputs": [],
   "source": []
  }
 ],
 "metadata": {
  "kernelspec": {
   "display_name": "Python 3 (ipykernel)",
   "language": "python",
   "name": "python3"
  },
  "language_info": {
   "codemirror_mode": {
    "name": "ipython",
    "version": 3
   },
   "file_extension": ".py",
   "mimetype": "text/x-python",
   "name": "python",
   "nbconvert_exporter": "python",
   "pygments_lexer": "ipython3",
   "version": "3.11.3"
  }
 },
 "nbformat": 4,
 "nbformat_minor": 5
}
