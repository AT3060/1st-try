{
 "cells": [
  {
   "cell_type": "code",
   "execution_count": 5,
   "id": "b3c0cb53",
   "metadata": {},
   "outputs": [
    {
     "name": "stdout",
     "output_type": "stream",
     "text": [
      "Hello world\n",
      "I am strong person\n",
      "One day I will be the millioner\n"
     ]
    }
   ],
   "source": [
    "def Motivation():\n",
    "    print(\"Hello world\")\n",
    "    print(\"I am strong person\")\n",
    "    print(\"One day I will be the millioner\")\n",
    "Motivation()"
   ]
  },
  {
   "cell_type": "code",
   "execution_count": 6,
   "id": "03630d47",
   "metadata": {},
   "outputs": [
    {
     "name": "stdout",
     "output_type": "stream",
     "text": [
      "Hello Aref\n",
      "How do you do Aref?\n"
     ]
    }
   ],
   "source": [
    "def greet_with_name(name):\n",
    "    print(f\"Hello {name}\")\n",
    "    print(f\"How do you do {name}?\")\n",
    "greet_with_name(\"Aref\")"
   ]
  },
  {
   "cell_type": "code",
   "execution_count": 7,
   "id": "5c8812cd",
   "metadata": {},
   "outputs": [
    {
     "name": "stdout",
     "output_type": "stream",
     "text": [
      "Hello Aref Tawana\n",
      "What is it like in  Nowehre City\n"
     ]
    }
   ],
   "source": [
    "# Function with more than one input\n",
    "def greet_with(name, location):\n",
    "    print(f\"Hello {name}\")\n",
    "    print(f\"What is it like in  {location}\")\n",
    "greet_with(\"Aref Tawana\", \"Nowehre City\")"
   ]
  },
  {
   "cell_type": "code",
   "execution_count": 8,
   "id": "3c7be3a7",
   "metadata": {},
   "outputs": [
    {
     "name": "stdout",
     "output_type": "stream",
     "text": [
      "Hello Nowhere City\n",
      "What is it like in  Aref Tawana\n"
     ]
    }
   ],
   "source": [
    "def greet_with(name, location):\n",
    "    print(f\"Hello {name}\")\n",
    "    print(f\"What is it like in  {location}\")\n",
    "greet_with( \"Nowhere City\",\"Aref Tawana\")\n",
    "\n",
    "# Positional Argument"
   ]
  },
  {
   "cell_type": "code",
   "execution_count": 9,
   "id": "5d7fa42f",
   "metadata": {},
   "outputs": [
    {
     "name": "stdout",
     "output_type": "stream",
     "text": [
      "Hello Aref Tawana\n",
      "What is it like in  Noweher City\n"
     ]
    }
   ],
   "source": [
    "# Keyword Argument: at the end we changed the location of agrument in parametr but the out put didn't changed\n",
    "def greet_with(name, location):\n",
    "    print(f\"Hello {name}\")\n",
    "    print(f\"What is it like in  {location}\")\n",
    "greet_with( location = \"Noweher City\", name = \"Aref Tawana\")"
   ]
  },
  {
   "cell_type": "markdown",
   "id": "55c34b43",
   "metadata": {},
   "source": [
    "You are painting a wall. the instruction on the paint can says that 1 can of paint can cover 5square meters of wall Give a random height and width of wall, calculate how many cans fo paint you'll need to buy."
   ]
  },
  {
   "cell_type": "code",
   "execution_count": 10,
   "id": "3a53dc0d",
   "metadata": {},
   "outputs": [
    {
     "name": "stdout",
     "output_type": "stream",
     "text": [
      "Height of wall: 23\n",
      "Width of wall: 22\n",
      "You'll need 102 cans of paint.\n"
     ]
    }
   ],
   "source": [
    "# its supposed that one can can paint 5 meter square\n",
    "import math\n",
    "def paint_calc(height , width, cover):\n",
    "    area = height * width\n",
    "    num_of_cans = math.ceil(area/cover)\n",
    "    print(f\"You'll need {num_of_cans} cans of paint.\")\n",
    "\n",
    "test_h = int(input(\"Height of wall: \"))\n",
    "test_w = int(input(\"Width of wall: \"))\n",
    "coverage = 5\n",
    "paint_calc(height = test_h, width = test_w, cover = coverage)"
   ]
  },
  {
   "cell_type": "code",
   "execution_count": 2,
   "id": "a1d93d81",
   "metadata": {},
   "outputs": [
    {
     "name": "stdout",
     "output_type": "stream",
     "text": [
      "Height of wall: 10\n",
      "Width of wall: 13\n",
      "You'll need 26 cans of paint.\n"
     ]
    }
   ],
   "source": [
    "import math\n",
    "def paint_clc(height, width, cover):\n",
    "    area = height * width\n",
    "    num_of_cans = math.ceil(area/cover)\n",
    "    print(f\"You'll need {num_of_cans} cans of paint.\")\n",
    "test_h = int(input(\"Height of wall: \"))\n",
    "test_w = int(input(\"Width of wall: \"))\n",
    "coverage = 5\n",
    "paint_clc(height = test_h, width = test_w, cover = coverage)"
   ]
  },
  {
   "cell_type": "code",
   "execution_count": 12,
   "id": "8c9807cf",
   "metadata": {},
   "outputs": [
    {
     "name": "stdout",
     "output_type": "stream",
     "text": [
      "Check this number: 51\n",
      "It's not a prime number.\n"
     ]
    }
   ],
   "source": [
    "def prime_checker(number):\n",
    "\n",
    "    is_prime = True\n",
    "    for i in range(2,number):\n",
    "        if number % i ==0:\n",
    "            \n",
    "             is_prime = False\n",
    "    if is_prime:\n",
    "        print(\"It's a prime number.\")\n",
    "    else:\n",
    "        print(\"It's not a prime number.\")\n",
    "\n",
    "        \n",
    "n = int(input(\"Check this number: \"))\n",
    "prime_checker(number = n)"
   ]
  },
  {
   "cell_type": "code",
   "execution_count": 3,
   "id": "6b423f0a",
   "metadata": {},
   "outputs": [
    {
     "name": "stdout",
     "output_type": "stream",
     "text": [
      "Check this number: 56\n",
      "It's not a prime number.\n"
     ]
    }
   ],
   "source": [
    "def prime_checker(number):\n",
    "    is_prim = True\n",
    "    for i in range (2, number):\n",
    "        if number % i == 0:\n",
    "            is_prime =False\n",
    "    if is_prime:\n",
    "        print(\"It's a prime number.\")\n",
    "    else:\n",
    "        print(\"It's not a prime number.\")\n",
    "n = int(input(\"Check this number: \"))\n",
    "prime_checker(number = n)"
   ]
  },
  {
   "cell_type": "markdown",
   "id": "59bd3467",
   "metadata": {},
   "source": [
    "The is_prime() function takes an integer n as input and returns True if n is prime, otherwise it returns False.\n",
    "\n",
    "The function first checks if n is less than 2. If it is, then n is not prime and the function returns False. Otherwise, the function iterates over all integers from 2 to the square root of n. For each integer i, the function checks if n is divisible by i. If it is, then n is not prime and the function returns False. Otherwise, the function returns True.\n",
    "\n",
    "The num variable stores the input number. The if statement checks if num is prime. If it is, then the print() statement prints the message \"The number is prime.\" Otherwise, the print() statement prints the message \"The number is not prime.\""
   ]
  },
  {
   "cell_type": "code",
   "execution_count": 5,
   "id": "4c1dc0ef",
   "metadata": {},
   "outputs": [
    {
     "name": "stdout",
     "output_type": "stream",
     "text": [
      "Enter a number: 119\n",
      "The number is not prime.\n"
     ]
    }
   ],
   "source": [
    "def is_prime(n):\n",
    "    if n < 2:\n",
    "        return False\n",
    "    for i in range(2, int(n**0.5)+1):\n",
    "        if n % i == 0:\n",
    "            return False\n",
    "    return True\n",
    "\n",
    "num = int(input(\"Enter a number: \"))\n",
    "if is_prime(num):\n",
    "    print(\"The number is prime.\")\n",
    "else:\n",
    "    print(\"The number is not prime.\")"
   ]
  },
  {
   "cell_type": "code",
   "execution_count": 14,
   "id": "6545bee1",
   "metadata": {},
   "outputs": [
    {
     "name": "stdout",
     "output_type": "stream",
     "text": [
      "'a', 'b', 'c', 'd', 'e', 'f', 'g', 'h', 'i', 'j', 'k', 'l', 'm', 'n', 'o', 'p', 'q', 'r', 's', 't', 'u', 'v', 'w', 'x', 'y', 'z', "
     ]
    }
   ],
   "source": [
    "# iterate through ASCII values of English alphabet\n",
    "for i in range(ord('a'), ord('z')+1):\n",
    "    # convert ASCII value to character and print in single quotes\n",
    "    print(f\"'{chr(i)}'\", end=\", \")"
   ]
  },
  {
   "cell_type": "code",
   "execution_count": 10,
   "id": "a8221801",
   "metadata": {},
   "outputs": [
    {
     "name": "stdout",
     "output_type": "stream",
     "text": [
      "Type 'encode' to encrypt, type 'decode' to decrypt:\n",
      "encode\n",
      "Type your message:\n",
      "zhanna\n",
      "Type the shift number:\n",
      "5\n",
      "The encoded text is emfssf\n"
     ]
    }
   ],
   "source": [
    "alphabet = ['a', 'b', 'c', 'd', 'e', 'f', 'g', 'h', 'i', 'j', 'k', 'l', 'm',\n",
    "            'n', 'o', 'p', 'q', 'r', 's', 't', 'u', 'v', 'w', 'x', 'y', 'z','a', 'b', 'c', 'd', 'e', 'f', 'g', 'h', 'i', 'j', 'k', 'l', 'm',\n",
    "            'n', 'o', 'p', 'q', 'r', 's', 't', 'u', 'v', 'w', 'x', 'y', 'z']\n",
    "\n",
    "direction = input(\"Type 'encode' to encrypt, type 'decode' to decrypt:\\n\")\n",
    "text = input(\"Type your message:\\n\").lower()\n",
    "shift = int(input(\"Type the shift number:\\n\"))\n",
    "\n",
    "def encrypt(plain_text, shift_amount):\n",
    "    cipher_text = \"\" # initialize cipher_text to empty string\n",
    "    for letter in plain_text:\n",
    "        position = alphabet.index(letter)\n",
    "        new_position = position + shift_amount\n",
    "        new_letter = alphabet[new_position % 26] # use modulo to wrap around the alphabet\n",
    "        cipher_text += new_letter\n",
    "    print(f\"The encoded text is {cipher_text}\")\n",
    "    \n",
    "encrypt(plain_text=text, shift_amount=shift)\n"
   ]
  },
  {
   "cell_type": "code",
   "execution_count": null,
   "id": "96691f70",
   "metadata": {},
   "outputs": [],
   "source": []
  },
  {
   "cell_type": "code",
   "execution_count": 11,
   "id": "6ce81be3",
   "metadata": {},
   "outputs": [
    {
     "name": "stdout",
     "output_type": "stream",
     "text": [
      "Type 'encode' to encrypt, type 'decode' to decrypt:\n",
      "decode\n",
      "Type your message:\n",
      "jano\n",
      "Type the shift number:\n",
      "9\n",
      "The encoded text is sjwx\n"
     ]
    }
   ],
   "source": [
    "alphabet = ['a', 'b', 'c', 'd', 'e', 'f', 'g', 'h', 'i', 'j', 'k', 'l', 'm',\n",
    "            'n', 'o', 'p', 'q', 'r', 's', 't', 'u', 'v', 'w', 'x', 'y', 'z','a', 'b', 'c', 'd', 'e', 'f', 'g', 'h', 'i', 'j', 'k', 'l', 'm',\n",
    "            'n', 'o', 'p', 'q', 'r', 's', 't', 'u', 'v', 'w', 'x', 'y', 'z']\n",
    "\n",
    "direction = input(\"Type 'encode' to encrypt, type 'decode' to decrypt:\\n\")\n",
    "text = input(\"Type your message:\\n\").lower()\n",
    "shift = int(input(\"Type the shift number:\\n\"))\n",
    "\n",
    "def encrypt(plain_text, shift_amount):\n",
    "    cipher_text = \"\" # initialize cipher_text to empty string\n",
    "    for letter in plain_text:\n",
    "        position = alphabet.index(letter)\n",
    "        new_position = position + shift_amount\n",
    "        new_letter = alphabet[new_position % 26] # use modulo to wrap around the alphabet\n",
    "        cipher_text += new_letter\n",
    "    print(f\"The encoded text is {cipher_text}\")\n",
    "    \n",
    "encrypt(plain_text=text, shift_amount=shift)"
   ]
  },
  {
   "cell_type": "code",
   "execution_count": 12,
   "id": "5478f565",
   "metadata": {},
   "outputs": [
    {
     "name": "stdout",
     "output_type": "stream",
     "text": [
      "Type 'encode' to encrypt, type 'decode' to decrypt:\n",
      "decode\n",
      "Type your message:\n",
      "jano\n",
      "Type the shift number:\n",
      "9\n",
      "The decoded text is aref\n"
     ]
    }
   ],
   "source": [
    "alphabet = ['a', 'b', 'c', 'd', 'e', 'f', 'g', 'h', 'i', 'j', 'k', 'l', 'm',\n",
    "            'n', 'o', 'p', 'q', 'r', 's', 't', 'u', 'v', 'w', 'x', 'y', 'z',\n",
    "            'a', 'b', 'c', 'd', 'e', 'f', 'g', 'h', 'i', 'j', 'k', 'l', 'm',\n",
    "            'n', 'o', 'p', 'q', 'r', 's', 't', 'u', 'v', 'w', 'x', 'y', 'z']\n",
    "# This is perfect that works very well in encodeing and decoding!\n",
    "direction = input(\"Type 'encode' to encrypt, type 'decode' to decrypt:\\n\")\n",
    "text = input(\"Type your message:\\n\").lower()\n",
    "shift = int(input(\"Type the shift number:\\n\"))\n",
    "\n",
    "def encrypt(plain_text, shift_amount):\n",
    "    cipher_text = \"\" # initialize cipher_text to empty string\n",
    "    for letter in plain_text:\n",
    "        position = alphabet.index(letter)\n",
    "        new_position = position + shift_amount\n",
    "        new_letter = alphabet[new_position] # no need to use modulo here\n",
    "        cipher_text += new_letter\n",
    "    print(f\"The encoded text is {cipher_text}\")\n",
    "    \n",
    "def decrypt(cipher_text, shift_amount):\n",
    "    plain_text = \"\"\n",
    "    for letter in cipher_text:\n",
    "        position = alphabet.index(letter)\n",
    "        new_position = position - shift_amount\n",
    "        plain_text += alphabet[new_position]\n",
    "    print(f\"The decoded text is {plain_text}\")\n",
    "    \n",
    "if direction == \"encode\":\n",
    "    encrypt(plain_text=text, shift_amount=shift)\n",
    "elif direction == \"decode\":\n",
    "    decrypt(cipher_text=text, shift_amount=shift)"
   ]
  },
  {
   "cell_type": "code",
   "execution_count": 4,
   "id": "716338ef",
   "metadata": {},
   "outputs": [
    {
     "name": "stdout",
     "output_type": "stream",
     "text": [
      "Type 'encode' to encrypt, type 'decode' to decrypt:\n",
      "decode\n",
      "Type your message:\n",
      "mjqqt\n",
      "Type the shift number:\n",
      "5\n",
      "The decoded text is hello\n"
     ]
    }
   ],
   "source": [
    "alphabet = ['a', 'b', 'c', 'd', 'e', 'f', 'g', 'h', 'i', 'j', 'k', 'l', 'm',\n",
    "            'n', 'o', 'p', 'q', 'r', 's', 't', 'u', 'v', 'w', 'x', 'y', 'z',\n",
    "            'a', 'b', 'c', 'd', 'e', 'f', 'g', 'h', 'i', 'j', 'k', 'l', 'm',\n",
    "            'n', 'o', 'p', 'q', 'r', 's', 't', 'u', 'v', 'w', 'x', 'y', 'z']\n",
    "\n",
    "direction = input(\"Type 'encode' to encrypt, type 'decode' to decrypt:\\n\")\n",
    "text = input(\"Type your message:\\n\").lower()\n",
    "shift = int(input(\"Type the shift number:\\n\"))\n",
    "\n",
    "def encrypt(plain_text, shift_amount):\n",
    "    cipher_text = \"\" # initialize cipher_text to empty string\n",
    "    for letter in plain_text:\n",
    "        position = alphabet.index(letter)\n",
    "        new_position = position + shift_amount\n",
    "        new_letter = alphabet[new_position] # no need to use modulo here\n",
    "        cipher_text += new_letter\n",
    "    print(f\"The encoded text is {cipher_text}\")\n",
    "    \n",
    "def decrypt(cipher_text, shift_amount):\n",
    "    plain_text = \"\"\n",
    "    for letter in cipher_text:\n",
    "        position = alphabet.index(letter)\n",
    "        new_position = position - shift_amount\n",
    "        plain_text += alphabet[new_position]\n",
    "    print(f\"The decoded text is {plain_text}\")\n",
    "    \n",
    "if direction == \"encode\":\n",
    "    encrypt(plain_text=text, shift_amount=shift)\n",
    "elif direction == \"decode\":\n",
    "    decrypt(cipher_text=text, shift_amount=shift)"
   ]
  },
  {
   "cell_type": "code",
   "execution_count": null,
   "id": "8f86329a",
   "metadata": {},
   "outputs": [],
   "source": [
    "alphabet = ['a', 'b', 'c', 'd', 'e', 'f', 'g', 'h', 'i', 'j', 'k', 'l', 'm',\n",
    "            'n', 'o', 'p', 'q', 'r', 's', 't', 'u', 'v', 'w', 'x', 'y', 'z',\n",
    "            'a', 'b', 'c', 'd', 'e', 'f', 'g', 'h', 'i', 'j', 'k', 'l', 'm',\n",
    "            'n', 'o', 'p', 'q', 'r', 's', 't', 'u', 'v', 'w', 'x', 'y', 'z']\n",
    "\n",
    "direction = input(\"Type 'encode' to encrypt, type 'decode' to decrypt:\\n\")\n",
    "text = input(\"Type your message:\\n\").lower()\n",
    "shift = int(input(\"Type the shift number:\\n\"))\n",
    "\n",
    "def caesar(start_text, shift_amount, cipher_direction):\n",
    "    end_text =\"\"\n",
    "    if cipher_direction == \"decode\":\n",
    "        shift_amount *=-1\n",
    "    for letter in start_text:\n",
    "        position = alphabet.index(letter)\n",
    "\n",
    "        new_position = position + shift_amount\n",
    "        end_text +=alphabet[new_position]\n",
    "    print(f\"The {cipher_direction}d text is {end_text}\")\n",
    "caesar(start_text =text , shift_amount= shift, cipher_direction=direction)"
   ]
  },
  {
   "cell_type": "code",
   "execution_count": 1,
   "id": "5b472dbd",
   "metadata": {},
   "outputs": [
    {
     "name": "stdout",
     "output_type": "stream",
     "text": [
      "Hi good morning\n"
     ]
    }
   ],
   "source": [
    "print(\"Hi good morning\")"
   ]
  },
  {
   "cell_type": "code",
   "execution_count": null,
   "id": "bee0a824",
   "metadata": {},
   "outputs": [],
   "source": [
    "import random\n",
    "\n",
    "def deal_card():\n",
    "    cards = [11,2,3,4,5,6,7,8,9,10,10,10,10]\n",
    "    card = random.choice(cards)\n",
    "    return card\n",
    "\n",
    "def calculate_score(cards):  \n",
    "    score = sum(cards)\n",
    "    if score == 21 and len(cards) == 2:\n",
    "        return 0\n",
    "    if 11 in cards and score > 21:\n",
    "        cards.remove(11)\n",
    "        cards.append(1)\n",
    "    return score\n",
    "\n",
    "user_cards = []\n",
    "computer_cards = []\n",
    "is_game_over = False\n",
    "\n",
    "for _ in range(2):\n",
    "    user_cards.append(deal_card())\n",
    "    computer_cards.append(deal_card())\n",
    "\n",
    "while not is_game_over:\n",
    "    user_score = calculate_score(user_cards)\n",
    "    computer_score = calculate_score(computer_cards)\n",
    "    print(f\"Your cards: {user_cards}, current score: {user_score}\")\n",
    "    print(f\"Computer's first card: {computer_cards[0]}\")\n",
    "\n",
    "    if user_score == 0 or computer_score == 0 or user_score > 21:\n",
    "        is_game_over = True\n",
    "    else:\n",
    "        user_should_deal = input(\"Type 'y' to get another card, type 'n' to pass: \")\n",
    "        if user_should_deal == 'y':\n",
    "            user_cards.append(deal_card())\n",
    "        else:\n",
    "            is_game_over = True\n",
    "\n",
    "while computer_score != 0 and computer_score < 17:\n",
    "    computer_cards.append(deal_card())\n",
    "    computer_score = calculate_score(computer_cards)\n",
    "\n",
    "print(f\"Your final hand: {user_cards}, final score: {user_score}\")\n",
    "print(f\"Computer's final hand: {computer_cards}, final score: {computer_score}\")\n",
    "if computer_score == 0:\n",
    "    print(\"Computer has blackjack. You lose.\")\n",
    "elif user_score == 0:\n",
    "    print(\"You have blackjack. You win!\")\n",
    "elif user_score > 21:\n",
    "    print(\"You went over. You lose.\")\n",
    "elif computer_score > 21:\n",
    "    print(\"Computer went over. You win!\")\n",
    "elif user_score > computer_score:\n",
    "    print(\"You win!\")\n",
    "else:\n",
    "    print(\"You lose.\")"
   ]
  },
  {
   "cell_type": "code",
   "execution_count": null,
   "id": "620672ce",
   "metadata": {},
   "outputs": [],
   "source": []
  }
 ],
 "metadata": {
  "kernelspec": {
   "display_name": "Python 3 (ipykernel)",
   "language": "python",
   "name": "python3"
  },
  "language_info": {
   "codemirror_mode": {
    "name": "ipython",
    "version": 3
   },
   "file_extension": ".py",
   "mimetype": "text/x-python",
   "name": "python",
   "nbconvert_exporter": "python",
   "pygments_lexer": "ipython3",
   "version": "3.9.12"
  }
 },
 "nbformat": 4,
 "nbformat_minor": 5
}
